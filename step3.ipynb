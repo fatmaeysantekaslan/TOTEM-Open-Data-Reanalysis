{
 "cells": [
  {
   "cell_type": "markdown",
   "metadata": {},
   "source": [
    "# Correction Factor\n",
    "\n",
    "In the TOTEM experiment, scattered protons deviate at very small angles. However, due to the physical limitations of the detectors—particularly near the edge closest to the beam—these small-angle protons are not always detected. This issue is especially prominent for events with very small values of $|\\theta^*_y|$.\n",
    "\n",
    "Furthermore, the internal structure of the LHC and its aperture limitations (e.g., magnets and beam pipe geometry) prevent protons with large $|\\theta^*_y|$ values from reaching the detectors. For example, the upper bound is approximately $|\\theta^*_y| \\approx 100\\, \\mu\\text{rad}$.\n",
    "\n",
    "Because of the limited detector acceptance, the number of observed events does not directly reflect the true physical distribution. Therefore, an **acceptance correction factor** (Equation 1.) is applied at each measurement point. The product of these correction factors allows the experimentally measured distributions to be transformed into more accurate physical distributions.\n",
    "\n",
    "$$A(\\theta^*, \\theta^*_y)=A_{geom}(\\theta^*) \\cdot A_{fluct}(\\theta^*_y) \\tag{1}$$\n",
    "\n",
    "This enables reliable determination of the **differential cross-section**.\n",
    "\n",
    "In this step:\n",
    "- The geometrical acceptance is computed from detector geometry and beam optics parameters.\n",
    "- The fluctuation correction is calculated to account for beam divergence (angular smearing). \n",
    "- The total acceptance correction is computed."
   ]
  },
  {
   "cell_type": "markdown",
   "metadata": {},
   "source": [
    "## Environment Setup"
   ]
  },
  {
   "cell_type": "code",
   "execution_count": 1,
   "metadata": {},
   "outputs": [],
   "source": [
    "import ROOT \n",
    "from pathlib import Path\n",
    "import numpy as np\n",
    "\n",
    "ROOT.EnableImplicitMT()"
   ]
  },
  {
   "cell_type": "markdown",
   "metadata": {},
   "source": [
    "### Setting constants needed for calculating correction\n",
    "\n",
    "In elastic proton-proton scattering, we measure the vertical scattering angle $\\theta_y^*$. However, due to:\n",
    "* sensor coverage limitations (especially at small $\\theta_y^*$ values),\n",
    "* and LHC aperture restrictions (which limit $\\theta_y^*$ from above),\n",
    "\n",
    "only events within certain angular thresholds are considered valid for physics analysis. To handle this properly, cut thresholds are applied for each detector arm (left and right), which define the minimum and maximum acceptable $\\theta_y^*$ values. These thresholds differ for each dataset and diagonal, because:\n",
    "* Beam conditions (e.g., emittance) may vary across runs.\n",
    "* Sensor positions may differ slightly.\n",
    "* Different diagonals involve different detector configurations."
   ]
  },
  {
   "cell_type": "markdown",
   "metadata": {},
   "source": [
    "The code below  prepares the necessary constants and dataset selection needed to calculate the acceptance correction factors for the TOTEM experiment."
   ]
  },
  {
   "cell_type": "code",
   "execution_count": 2,
   "metadata": {},
   "outputs": [],
   "source": [
    "dataset_number = 3\n",
    "diagonal_number = 1 # 1 - diagonal 45b56t, 0 - diagonal 45t56b"
   ]
  },
  {
   "cell_type": "code",
   "execution_count": 3,
   "metadata": {},
   "outputs": [
    {
     "data": {
      "text/plain": [
       "Dataframe from TChain TotemNtuple in file dataset3_after_cuts.root\n",
       "\n",
       "Property                Value\n",
       "--------                -----\n",
       "Columns in total           55\n",
       "Columns from defines        0\n",
       "Event loops run             0\n",
       "Processing slots           10\n",
       "\n",
       "Column                  Type            Origin\n",
       "------                  ----            ------\n",
       "bunch_num               UInt_t          Dataset\n",
       "dataset_num             Int_t           Dataset\n",
       "diagonal                Bool_t          Dataset\n",
       "event_num               UInt_t          Dataset\n",
       "input_status_bits       UInt_t          Dataset\n",
       "run_no                  UInt_t          Dataset\n",
       "t                       Double_t        Dataset\n",
       "th                      Double_t        Dataset\n",
       "th_x                    Double_t        Dataset\n",
       "th_x_L                  Double_t        Dataset\n",
       "th_x_R                  Double_t        Dataset\n",
       "th_y                    Double_t        Dataset\n",
       "th_y_L                  Double_t        Dataset\n",
       "th_y_R                  Double_t        Dataset\n",
       "timestamp               UInt_t          Dataset\n",
       "track_rp_120_valid      Bool_t          Dataset\n",
       "track_rp_120_x          Double_t        Dataset\n",
       "track_rp_120_y          Double_t        Dataset\n",
       "track_rp_121_valid      Bool_t          Dataset\n",
       "track_rp_121_x          Double_t        Dataset\n",
       "track_rp_121_y          Double_t        Dataset\n",
       "track_rp_122_valid      Bool_t          Dataset\n",
       "track_rp_122_x          Double_t        Dataset\n",
       "track_rp_122_y          Double_t        Dataset\n",
       "track_rp_123_valid      Bool_t          Dataset\n",
       "track_rp_123_x          Double_t        Dataset\n",
       "track_rp_123_y          Double_t        Dataset\n",
       "track_rp_124_valid      Bool_t          Dataset\n",
       "track_rp_124_x          Double_t        Dataset\n",
       "track_rp_124_y          Double_t        Dataset\n",
       "track_rp_125_valid      Bool_t          Dataset\n",
       "track_rp_125_x          Double_t        Dataset\n",
       "track_rp_125_y          Double_t        Dataset\n",
       "track_rp_20_valid       Bool_t          Dataset\n",
       "track_rp_20_x           Double_t        Dataset\n",
       "track_rp_20_y           Double_t        Dataset\n",
       "track_rp_21_valid       Bool_t          Dataset\n",
       "track_rp_21_x           Double_t        Dataset\n",
       "track_rp_21_y           Double_t        Dataset\n",
       "track_rp_22_valid       Bool_t          Dataset\n",
       "track_rp_22_x           Double_t        Dataset\n",
       "track_rp_22_y           Double_t        Dataset\n",
       "track_rp_23_valid       Bool_t          Dataset\n",
       "track_rp_23_x           Double_t        Dataset\n",
       "track_rp_23_y           Double_t        Dataset\n",
       "track_rp_24_valid       Bool_t          Dataset\n",
       "track_rp_24_x           Double_t        Dataset\n",
       "track_rp_24_y           Double_t        Dataset\n",
       "track_rp_25_valid       Bool_t          Dataset\n",
       "track_rp_25_x           Double_t        Dataset\n",
       "track_rp_25_y           Double_t        Dataset\n",
       "trigger_num             UInt_t          Dataset\n",
       "vtx_x                   Double_t        Dataset\n",
       "vtx_x_L                 Double_t        Dataset\n",
       "vtx_x_R                 Double_t        Dataset"
      ]
     },
     "execution_count": 3,
     "metadata": {},
     "output_type": "execute_result"
    }
   ],
   "source": [
    "if not isinstance(dataset_number, int) or not (1 <= dataset_number <= 3):\n",
    "    raise ValueError(\"Dataset number must be an integer 1 or 2 or 3\")\n",
    "\n",
    "if not isinstance(diagonal_number, int) or not (0 <= diagonal_number <= 1):\n",
    "    raise ValueError(\"Diagonal has to be number 0 or 1\")\n",
    "\n",
    "# CONSTANT DEFINITION\n",
    "\n",
    "# The same for every dataset and diagonal\n",
    "si_th_y_rad = \"2.47E-6\" # Beam divergence (angular resolution) in radians\n",
    "\n",
    "# Dataset 1 constants\n",
    "diagonal_45b56t_dataset1_constants_rad = {   \n",
    "        \"th_y_low_threshold_L\": \"23.8E-6\",\n",
    "        \"th_y_low_threshold_R\": \"23.5E-6\",\n",
    "        \"th_y_high_threshold_L\": \"107E-6\",\n",
    "        \"th_y_high_threshold_R\": \"103E-6\",\n",
    "    }\n",
    "\n",
    "diagonal_45t56b_dataset1_constants_rad = {\n",
    "        \"th_y_low_threshold_L\": \"24.0E-6\",\n",
    "        \"th_y_low_threshold_R\": \"23.2E-6\",\n",
    "        \"th_y_high_threshold_L\": \"109E-6\",\n",
    "        \"th_y_high_threshold_R\": \"107E-6\",\n",
    "    }\n",
    "\n",
    "\n",
    "\n",
    "# Dataset 2 constants\n",
    "diagonal_45b56t_dataset2_constants_rad = {   \n",
    "        \"th_y_low_threshold_L\": \"20.6E-6\",\n",
    "        \"th_y_low_threshold_R\": \"20.6E-6\",\n",
    "        \"th_y_high_threshold_L\": \"107E-6\",\n",
    "        \"th_y_high_threshold_R\": \"103E-6\",\n",
    "    }\n",
    "\n",
    "diagonal_45t56b_dataset2_constants_rad = {\n",
    "        \"th_y_low_threshold_L\": \"21.0E-6\",\n",
    "        \"th_y_low_threshold_R\": \"20.4E-6\",\n",
    "        \"th_y_high_threshold_L\": \"109E-6\",\n",
    "        \"th_y_high_threshold_R\": \"107E-6\",\n",
    "    }\n",
    "\n",
    "\n",
    "\n",
    "# Dataset 3 constants\n",
    "diagonal_45b56t_dataset3_constants_rad = {   \n",
    "        \"th_y_low_threshold_L\": \"18.6E-6\",\n",
    "        \"th_y_low_threshold_R\": \"18.4E-6\",\n",
    "        \"th_y_high_threshold_L\": \"107E-6\",\n",
    "        \"th_y_high_threshold_R\": \"103E-6\",\n",
    "    }\n",
    "\n",
    "diagonal_45t56b_dataset3_constants_rad = {\n",
    "        \"th_y_low_threshold_L\": \"18.6E-6\",\n",
    "        \"th_y_low_threshold_R\": \"18.2E-6\",\n",
    "        \"th_y_high_threshold_L\": \"109E-6\",\n",
    "        \"th_y_high_threshold_R\": \"107E-6\",\n",
    "    }\n",
    "\n",
    "constants = (\n",
    "    (diagonal_45b56t_dataset1_constants_rad, diagonal_45t56b_dataset1_constants_rad), \n",
    "    (diagonal_45b56t_dataset2_constants_rad, diagonal_45t56b_dataset2_constants_rad),\n",
    "    (diagonal_45b56t_dataset3_constants_rad, diagonal_45t56b_dataset3_constants_rad)\n",
    "    )\n",
    "\n",
    "diagonal_constants_rad = constants[dataset_number - 1][-diagonal_number + 1]\n",
    "dataset = ROOT.ROOT.RDataFrame(\"TotemNtuple\", f\"dataset{dataset_number}_after_cuts.root\").Filter(f\"diagonal == {diagonal_number}\", f'Diagonal {\"45b56t\" if diagonal_number == 1 else \"45t56b\"}')\n",
    "\n",
    "dataset.Describe()"
   ]
  },
  {
   "cell_type": "markdown",
   "metadata": {},
   "source": [
    "### Defining Custom Binning\n",
    "\n",
    "In the TOTEM analysis, one of the central observables is the differential elastic cross-section, which depends on the four-momentum transfer squared $|t|$. To evaluate and visualize this distribution accurately, the data must be binned in $|t|$ intervals. \n",
    "\n",
    "Binning divides the continuous range of $|t|$ values into discrete intervals so that statistical quantities (like event counts, mean values, and uncertainties) can be computed within each bin. The choice of bin edges impacts the resolution, statistical error, and interpretation of the distribution. \n",
    "\n",
    "The binning array defined in the analysis [[1]](https://iopscience.iop.org/article/10.1209/0295-5075/101/21002#epl15159s5-2) is non-uniform:\n",
    "* the bins are narrower at small $|t|$ values and become wider at larger $|t|$. \n",
    "\n",
    "This design serves several purposes:\n",
    "* High resolution at small $|t|$: \n",
    "    The cross-section varies rapidly in this region, so finer bins help to capture this steep slope accurately.\n",
    "* Improved statistics at large $|t|$:\n",
    "    As $|t|$ increases, the number of events drops exponentially. To compensate bins are made wider to collect more events.\n"
   ]
  },
  {
   "cell_type": "code",
   "execution_count": 4,
   "metadata": {},
   "outputs": [],
   "source": [
    "binning = np.array([0.0046, 0.0057, 0.0073, 0.009059, 0.01084, 0.01263, 0.01445, 0.01629, 0.01814, 0.02002, 0.02192, 0.02384, \n",
    "    0.02579, 0.02775, 0.02974, 0.03176, 0.0338, 0.03586, 0.03795, 0.04007, 0.04221, 0.04438, 0.04658, 0.04881, \n",
    "    0.05107, 0.05336, 0.05569, 0.05804, 0.06043, 0.06286, 0.06532, 0.06781, 0.07035, 0.07292, 0.07554, 0.07819, \n",
    "    0.08089, 0.08364, 0.08643, 0.08926, 0.09215, 0.09509, 0.09808, 0.1011, 0.1042, 0.1074, 0.1106, 0.1139, 0.1172, \n",
    "    0.1207, 0.1241, 0.1277, 0.1314, 0.1351, 0.1389, 0.1428, 0.1468, 0.1509, 0.1551, 0.1594, 0.1638, 0.1683, 0.173, \n",
    "    0.1778, 0.1827, 0.1878, 0.1931, 0.1985, 0.2041, 0.2099, 0.2159, 0.2221, 0.2286, 0.2353, 0.2424, 0.2497, 0.2573, \n",
    "    0.2654, 0.2738, 0.2827, 0.2921, 0.3021, 0.3127, 0.324, 0.3361, 0.3492, 0.3634, 0.3789])"
   ]
  },
  {
   "cell_type": "markdown",
   "metadata": {},
   "source": [
    "Some general principles followed in this binning scheme include:\n",
    "* Bin widths typically grow often exponentially or quasi-logarithmically. This is controlled by a binning factor, where each bin edge is approximately a fixed ratio larger than the previous one:\n",
    "$$t_{i+1} \\approx \\alpha \\cdot t_{i}$$\n",
    "\n",
    "* Small bins give better resolution but suffer from higher statistical noise; large bins give better statistical precision but lower resolution. This binning optimizes both."
   ]
  },
  {
   "cell_type": "code",
   "execution_count": 5,
   "metadata": {},
   "outputs": [
    {
     "name": "stdout",
     "output_type": "stream",
     "text": [
      "Average Ratio (i+1 / i): 1.032\n"
     ]
    },
    {
     "data": {
      "image/png": "[encoded data removed]",
      "text/plain": [
       "<Figure size 1200x500 with 1 Axes>"
      ]
     },
     "metadata": {},
     "output_type": "display_data"
    }
   ],
   "source": [
    "import matplotlib.pyplot as plt\n",
    "\n",
    "bin_centers = 0.5 * (binning[:-1] + binning[1:])\n",
    "bin_widths = np.diff(binning)\n",
    "\n",
    "ratios = bin_widths[1:] / bin_widths[:-1]\n",
    "average_ratio = np.mean(ratios)\n",
    "\n",
    "print((f\"Average Ratio (i+1 / i): {average_ratio:.3f}\"))\n",
    "plt.figure(figsize=(12, 5))\n",
    "plt.bar(bin_centers, height=1, width=bin_widths, align='center', edgecolor='black')\n",
    "plt.xlabel('|t| [GeV²]')\n",
    "plt.yticks([])\n",
    "plt.show()\n"
   ]
  },
  {
   "cell_type": "markdown",
   "metadata": {},
   "source": [
    "**Figure 1.** Visual representation of binning"
   ]
  },
  {
   "cell_type": "markdown",
   "metadata": {},
   "source": [
    "### Defining Angular Acceptance Thresholds\n",
    "\n",
    "To enable precise acceptance corrections, we add dataset-specific constants (thresholds for $\\theta_y^*$ and angular resolution $\\sigma_{\\theta_y}$) as new columns to the dataset. These include both the left and right RP thresholds, their effective averages, and the beam divergence. These constants are later used for computing the correction factor.\n"
   ]
  },
  {
   "cell_type": "code",
   "execution_count": 6,
   "metadata": {},
   "outputs": [],
   "source": [
    "dataset_with_constants = dataset.Define(\"th_y_low_threshold_L\", f\"{diagonal_constants_rad['th_y_low_threshold_L']}\")\\\n",
    "                                .Define(\"th_y_low_threshold_R\", f\"{diagonal_constants_rad['th_y_low_threshold_R']}\")\\\n",
    "                                .Define(\"th_y_high_threshold_L\", f\"{diagonal_constants_rad['th_y_high_threshold_L']}\")\\\n",
    "                                .Define(\"th_y_high_threshold_R\", f\"{diagonal_constants_rad['th_y_high_threshold_R']}\")\\\n",
    "                                .Define(\"si_th_y\", si_th_y_rad)\\\n",
    "                                .Define(\"th_y_low_threshold_eff\", \"(th_y_low_threshold_L + th_y_low_threshold_R) / 2.\")\\\n",
    "                                .Define(\"th_y_high_threshold_eff\", \"(th_y_high_threshold_L + th_y_high_threshold_R) / 2.\")\n",
    "\n",
    "constants_columns = {\"th_y_low_threshold_L\", \"th_y_low_threshold_R\", \"th_y_high_threshold_L\", \"th_y_high_threshold_R\", \"si_th_y\", \"th_y_low_threshold_eff\", \"th_y_high_threshold_eff\"}"
   ]
  },
  {
   "cell_type": "markdown",
   "metadata": {},
   "source": [
    "### Geometrical Correction\n",
    "\n",
    "In elastic scattering experiments like TOTEM, protons scatter with small angles, and detectors measure these angles. However, not all scattering directions are equally visible due to **geometrical limitations**:\n",
    "\n",
    "- The Roman Pot sensors can only detect protons that enter within a certain vertical range, typically bounded by the physical edges of the sensors (e.g., $\\pm 20\\, \\mu\\text{rad}$ -> inner edge of the detectors).\n",
    "- The LHC machine aperture restricts protons with larger angles (e.g., $|\\theta^*_y| \\gtrsim 110\\, \\mu\\text{rad}$ -> outer edge of the detectors), due to beam pipe or magnet obstructions.\n",
    "\n",
    "As a result, we are not observing the full possible range of azimuthal directions at each scattering angle magnitude ($\\theta^*$). This leads to an **artificial suppression of event counts**, especially at smaller scattering angles.\n",
    "\n",
    "To correct for this incomplete coverage, we introduce the **geometrical correction factor** $A_{\\text{geom}}$, defined as:\n",
    "\n",
    "$$A_{\\text{geom}} = \\frac{\\text{full arc length}}{\\text{arc length within acceptance}} \\tag{2}$$\n",
    "\n",
    "This correction quantifies **what fraction of the full angular phase space is actually accepted by the detector system**. By multiplying event counts by $A_{\\text{geom}}$, we compensate for the invisible regions and recover a more accurate estimate of the true differential distribution.\n"
   ]
  },
  {
   "cell_type": "markdown",
   "metadata": {},
   "source": [
    "In the code below, for each event $A_{\\text{geom}}$ is calculated as:\n",
    "\n",
    "$$A_{\\text{geom}} = \\frac{\\pi}{\\phi_{\\text{max}} - \\phi_{\\text{min}}}$$\n",
    "\n",
    "* $\\pi$ is the full range of azimuthal angle in one hemisphere (assuming symmetry).\n",
    "* $\\phi_{\\text{min}}$ and $\\phi_{\\text{max}}$ define the visible slice in $\\phi$ that falls within the detector's acceptance for that given scattering angle $\\theta^*$.\n",
    "\n",
    "From trigonometry: \n",
    "\n",
    "$$\n",
    "\\phi_{\\min} = \\arcsin\\left( \\frac{\\theta_{y,\\text{low}}}{\\theta^*} \\right)\n",
    "$$\n",
    "\n",
    "$$\n",
    "\\phi_{\\max} =\n",
    "\\begin{cases}\n",
    "\\arcsin\\left( \\frac{\\theta_{y,\\text{high}}}{\\theta^*} \\right), & \\text{if } \\theta_{y,\\text{high}} < \\theta^* \\\\\n",
    "\\frac{\\pi}{2}, & \\text{otherwise}\n",
    "\\end{cases}\n",
    "$$\n",
    "\n",
    "Where:\n",
    "$\\theta_{y,\\text{low}}$ and $\\theta_{y,\\text{high}}$ are the detector-specific thresholds for $\\theta_y^*$ (adjusted by $\\pm 0.5, \\mu\\text{rad}$ margin for stability)."
   ]
  },
  {
   "cell_type": "code",
   "execution_count": 7,
   "metadata": {},
   "outputs": [],
   "source": [
    "dataset_Ageom = dataset_with_constants.Define(\"th_y_low_threshold\", f\"th_y_low_threshold_eff + 0.5E-6\")\\\n",
    "                                                .Define(\"th_y_high_threshold\", f\"th_y_high_threshold_eff - 0.5E-6\")\\\n",
    "                                                .Define(\"phi_min\", f\"asin(th_y_low_threshold / th)\")\\\n",
    "                                                .Define(\"phi_max\", f\"th_y_high_threshold < th ? asin(th_y_high_threshold / th) : M_PI / 2\")\\\n",
    "                                                .Define(\"A_geom\", f\"M_PI / (phi_max - phi_min)\")\n",
    "\n",
    "Ageom_helper_columns = {\"th_y_low_threshold\",\"th_y_high_threshold\",\"phi_min\",\"phi_max\"}"
   ]
  },
  {
   "cell_type": "markdown",
   "metadata": {},
   "source": [
    "### Fluctuations Correction\n",
    "\n",
    "The reconstructed scattering angles are not exact—they are affected by statistical fluctuations, primarily due to two physical effects:\n",
    "* Beam divergence: The beam itself has an intrinsic angular spread, meaning protons don’t all travel perfectly along the beam axis.\n",
    "* Sensor resolution: Especially in the horizontal direction, finite detector precision introduces uncertainty in the measurement.\n",
    "\n",
    "These fluctuations can cause protons that would ideally lie within the detector’s acceptance to appear as if they fall outside, or vice versa. This leads to systematic undercounting or overcounting of events near the acceptance boundaries.To account for this, the fluctuation correction factor $A_{\\text{fluct}}$ is introduced. It is computed analytically by modeling the beam divergence as a Gaussian distribution with a known standard deviation.\n",
    "\n",
    "The idea is to calculate the probability that one of the two protons in an elastic scattering is lost due to these fluctuations, even if the “real” scattering angle was within acceptance.\n",
    "\n",
    "Mathematically:\n",
    "\n",
    "The correction grows larger as you approach the edges of acceptance. To avoid unphysical large corrections, data points where $A_{\\text{fluct}} > 3$ are discarded from the analysis. This approach ensures that the measured distributions are not biased by detector effects."
   ]
  },
  {
   "cell_type": "markdown",
   "metadata": {},
   "source": [
    "We compute the correction factor $A_{\\text{fluct}}$ as the product of low-angle and high-angle corrections:\n",
    "1. Low-angle correction:\n",
    "This accounts for loss of events near the minimum angle thresholds.\n",
    "\n",
    "$$\\text{div\\_corr}_l =\n",
    "\\begin{cases}\n",
    "\\displaystyle\n",
    "\\frac{2}{\\mathrm{Erf}\\left( \\frac{|\\theta_y| - \\theta_{y,\\text{low}}^L}{\\sigma_{\\theta_y}} \\right)\n",
    "-\n",
    "\\mathrm{Erf}\\left( \\frac{\\theta_{y,\\text{low}}^R - |\\theta_y|}{\\sigma_{\\theta_y}} \\right)},\n",
    "& \\text{if } |\\theta_y| > \\theta_{y,\\text{low}}^{\\text{eff}} \\\\\n",
    "0, & \\text{otherwise}\n",
    "\\end{cases}$$\n",
    "\n",
    "2. High-angle correction:\n",
    "This accounts for event loss near the maximum allowed angle.\n",
    "\n",
    "$$\\text{div\\_corr}_h =\n",
    "\\begin{cases}\n",
    "\\displaystyle\n",
    "\\frac{2}{\\mathrm{Erf}\\left( \\frac{\\theta_{y,\\text{high}}^L - |\\theta_y|}{\\sigma_{\\theta_y}} \\right)\n",
    "-\n",
    "\\mathrm{Erf}\\left( \\frac{|\\theta_y| - \\theta_{y,\\text{high}}^R}{\\sigma_{\\theta_y}} \\right)},\n",
    "& \\text{if } |\\theta_y| < \\theta_{y,\\text{high}}^{\\text{eff}} \\\\\n",
    "0, & \\text{otherwise}\n",
    "\\end{cases}$$\n",
    "\n",
    "3. Constraint:\n",
    "\n",
    "This condition checks whether the scattering angle is within the geometrical acceptance window in both detectors (left and right).\n",
    "\n",
    "* If **at least one** of them lies **outside** this window, the event is excluded from the analysis ($\\text{div\\_constraint} = 0$).\n",
    "* If **both** are within the window, the event is considered **valid** ($\\text{div\\_constraint} = 1$).\n",
    "\n",
    "Final formula:\n",
    "\n",
    "$$A_{\\text{fluct}} = \\text{div\\_corr}_l \\cdot \\text{div\\_corr}_h \\cdot \\text{div\\_constraint}$$\n"
   ]
  },
  {
   "cell_type": "code",
   "execution_count": 8,
   "metadata": {},
   "outputs": [],
   "source": [
    "dataset_Ageom_Afluct = dataset_Ageom.Define(\"div_constraint\", f\"!(abs(th_y_L) < th_y_low_threshold_L || abs(th_y_R) < th_y_low_threshold_R || abs(th_y_L) > th_y_high_threshold_L || abs(th_y_R) > th_y_high_threshold_R)\")\\\n",
    "                                        .Define(\"div_corr_l\", f\"(abs(th_y) > th_y_low_threshold_eff) ? 2. / (TMath::Erf((abs(th_y) - th_y_low_threshold_L) / si_th_y) - TMath::Erf((th_y_low_threshold_R - abs(th_y)) / si_th_y)) : 0\")\\\n",
    "                                        .Define(\"div_corr_h\", f\"(abs(th_y) < th_y_high_threshold_eff) ? 2. / (TMath::Erf((th_y_high_threshold_L - abs(th_y)) / si_th_y) - TMath::Erf((abs(th_y) - th_y_high_threshold_R) / si_th_y)) : 0\")\\\n",
    "                                        .Define(\"A_fluct\", f\"(div_corr_l * div_corr_h) * div_constraint\")\n",
    "\n",
    "Afluct_helper_columns = {\"div_constraint\", \"div_corr_l\", \"div_corr_h\"}"
   ]
  },
  {
   "cell_type": "markdown",
   "metadata": {},
   "source": [
    "### Acceptance Correction\n",
    "Calculating the full acceptance correction factor from the Eq. (1)."
   ]
  },
  {
   "cell_type": "code",
   "execution_count": 9,
   "metadata": {},
   "outputs": [
    {
     "data": {
      "text/plain": [
       "Dataframe from TChain TotemNtuple in file dataset3_after_cuts.root\n",
       "\n",
       "Property                Value\n",
       "--------                -----\n",
       "Columns in total           72\n",
       "Columns from defines       17\n",
       "Event loops run             0\n",
       "Processing slots           10\n",
       "\n",
       "Column                  Type            Origin\n",
       "------                  ----            ------\n",
       "A_fluct                 double          Define\n",
       "A_geom                  double          Define\n",
       "bunch_num               UInt_t          Dataset\n",
       "correction              double          Define\n",
       "dataset_num             Int_t           Dataset\n",
       "diagonal                Bool_t          Dataset\n",
       "div_constraint          bool            Define\n",
       "div_corr_h              double          Define\n",
       "div_corr_l              double          Define\n",
       "event_num               UInt_t          Dataset\n",
       "input_status_bits       UInt_t          Dataset\n",
       "phi_max                 double          Define\n",
       "phi_min                 double          Define\n",
       "run_no                  UInt_t          Dataset\n",
       "si_th_y                 double          Define\n",
       "t                       Double_t        Dataset\n",
       "th                      Double_t        Dataset\n",
       "th_x                    Double_t        Dataset\n",
       "th_x_L                  Double_t        Dataset\n",
       "th_x_R                  Double_t        Dataset\n",
       "th_y                    Double_t        Dataset\n",
       "th_y_L                  Double_t        Dataset\n",
       "th_y_R                  Double_t        Dataset\n",
       "th_y_high_threshold     double          Define\n",
       "th_y_high_threshold_L   double          Define\n",
       "th_y_high_threshold_R   double          Define\n",
       "th_y_high_threshold_eff double          Define\n",
       "th_y_low_threshold      double          Define\n",
       "th_y_low_threshold_L    double          Define\n",
       "th_y_low_threshold_R    double          Define\n",
       "th_y_low_threshold_eff  double          Define\n",
       "timestamp               UInt_t          Dataset\n",
       "track_rp_120_valid      Bool_t          Dataset\n",
       "track_rp_120_x          Double_t        Dataset\n",
       "track_rp_120_y          Double_t        Dataset\n",
       "track_rp_121_valid      Bool_t          Dataset\n",
       "track_rp_121_x          Double_t        Dataset\n",
       "track_rp_121_y          Double_t        Dataset\n",
       "track_rp_122_valid      Bool_t          Dataset\n",
       "track_rp_122_x          Double_t        Dataset\n",
       "track_rp_122_y          Double_t        Dataset\n",
       "track_rp_123_valid      Bool_t          Dataset\n",
       "track_rp_123_x          Double_t        Dataset\n",
       "track_rp_123_y          Double_t        Dataset\n",
       "track_rp_124_valid      Bool_t          Dataset\n",
       "track_rp_124_x          Double_t        Dataset\n",
       "track_rp_124_y          Double_t        Dataset\n",
       "track_rp_125_valid      Bool_t          Dataset\n",
       "track_rp_125_x          Double_t        Dataset\n",
       "track_rp_125_y          Double_t        Dataset\n",
       "track_rp_20_valid       Bool_t          Dataset\n",
       "track_rp_20_x           Double_t        Dataset\n",
       "track_rp_20_y           Double_t        Dataset\n",
       "track_rp_21_valid       Bool_t          Dataset\n",
       "track_rp_21_x           Double_t        Dataset\n",
       "track_rp_21_y           Double_t        Dataset\n",
       "track_rp_22_valid       Bool_t          Dataset\n",
       "track_rp_22_x           Double_t        Dataset\n",
       "track_rp_22_y           Double_t        Dataset\n",
       "track_rp_23_valid       Bool_t          Dataset\n",
       "track_rp_23_x           Double_t        Dataset\n",
       "track_rp_23_y           Double_t        Dataset\n",
       "track_rp_24_valid       Bool_t          Dataset\n",
       "track_rp_24_x           Double_t        Dataset\n",
       "track_rp_24_y           Double_t        Dataset\n",
       "track_rp_25_valid       Bool_t          Dataset\n",
       "track_rp_25_x           Double_t        Dataset\n",
       "track_rp_25_y           Double_t        Dataset\n",
       "trigger_num             UInt_t          Dataset\n",
       "vtx_x                   Double_t        Dataset\n",
       "vtx_x_L                 Double_t        Dataset\n",
       "vtx_x_R                 Double_t        Dataset"
      ]
     },
     "execution_count": 9,
     "metadata": {},
     "output_type": "execute_result"
    }
   ],
   "source": [
    "dataset_correction = dataset_Ageom_Afluct.Define(\"correction\", \"A_geom * A_fluct\")\n",
    "\n",
    "dataset_correction.Describe()"
   ]
  },
  {
   "cell_type": "markdown",
   "metadata": {},
   "source": [
    "### Filtering out entries with invalid correction values\n",
    "\n",
    "As noted earlier, the contribution from the divergence correction is significant only near the acceptance limits. However, it is limited to values below 3 by discarding data points that require larger corrections.\n",
    "\n",
    "A correction value of 0 indicates that it could not be calculated, meaning the entry was outside the measurement limit due to a data error."
   ]
  },
  {
   "cell_type": "code",
   "execution_count": 10,
   "metadata": {},
   "outputs": [
    {
     "name": "stdout",
     "output_type": "stream",
     "text": [
      "Diagonal 45b56t: pass=43361      all=89819      -- eff=48.28 % cumulative eff=48.28 %\n",
      "Valid correction values, correction > 0: pass=42793      all=43361      -- eff=98.69 % cumulative eff=47.64 %\n",
      " A_fluct < 3: pass=42645      all=42793      -- eff=99.65 % cumulative eff=47.48 %\n"
     ]
    }
   ],
   "source": [
    "dataset_correction_filtered = dataset_correction.Filter(\"correction > 0\", \"Valid correction values, correction > 0\")\n",
    "dataset_correction_filtered = dataset_correction_filtered.Filter(\"A_fluct < 3\", \" A_fluct < 3\")\n",
    "\n",
    "dataset_correction_filtered.Report().Print()"
   ]
  },
  {
   "cell_type": "markdown",
   "metadata": {},
   "source": [
    "## Graphical Representation of Correction Factors\n",
    "\n",
    "In Figure 2, we observe how the correction factors used in the TOTEM analysis behave as a function of the four-momentum transfer squared, denoted by $|t|$. The geometrical correction factor exhibits a sharp change in shape at $|t| \\approx 0.16\\, \\text{GeV}^2$, which is caused by the LHC aperture cuts.\n"
   ]
  },
  {
   "cell_type": "markdown",
   "metadata": {},
   "source": [
    "### Geometrical and Divergence Correction Plots"
   ]
  },
  {
   "cell_type": "code",
   "execution_count": 11,
   "metadata": {},
   "outputs": [
    {
     "data": {
      "text/html": [
       "\n",
       "\n",
       "<div id=\"root_plot_1754524553819\" style=\"width: 1000px; height: 500px; position: relative\">\n",
       "</div>\n",
       "\n",
       "<script>\n",
       "\n",
       "function display_root_plot_1754524553819(Core) {\n",
       "   let obj = Core.parse({\"_typename\":\"TCanvasWebSnapshot\",\"fUniqueID\":0,\"fBits\":0,\"fObjectID\":\"\",\"fOption\":\"\",\"fKind\":3,\"fSnapshot\":{\"_typename\":\"TCanvas\",\"fUniqueID\":0,\"fBits\":3342344,\"fLineColor\":1,\"fLineStyle\":1,\"fLineWidth\":1,\"fFillColor\":0,\"fFillStyle\":1001,\"fLeftMargin\":0.1,\"fRightMargin\":0.1,\"fBottomMargin\":0.1,\"fTopMargin\":0.1,\"fXfile\":2,\"fYfile\":2,\"fAfile\":1,\"fXstat\":0.99,\"fYstat\":0.99,\"fAstat\":2,\"fFrameFillColor\":0,\"fFrameLineColor\":1,\"fFrameFillStyle\":1001,\"fFrameLineStyle\":1,\"fFrameLineWidth\":1,\"fFrameBorderSize\":1,\"fFrameBorderMode\":0,\"fX1\":0,\"fY1\":0,\"fX2\":1,\"fY2\":1,\"fXtoAbsPixelk\":0,\"fXtoPixelk\":0,\"fXtoPixel\":996,\"fYtoAbsPixelk\":472,\"fYtoPixelk\":472,\"fYtoPixel\":-472,\"fUtoAbsPixelk\":0,\"fUtoPixelk\":0,\"fUtoPixel\":996,\"fVtoAbsPixelk\":472,\"fVtoPixelk\":472,\"fVtoPixel\":-472,\"fAbsPixeltoXk\":0,\"fPixeltoXk\":0,\"fPixeltoX\":0.00100401606425703,\"fAbsPixeltoYk\":1,\"fPixeltoYk\":0,\"fPixeltoY\":-0.00211864406779661,\"fXlowNDC\":0,\"fYlowNDC\":0,\"fXUpNDC\":1,\"fYUpNDC\":1,\"fWNDC\":1,\"fHNDC\":1,\"fAbsXlowNDC\":0,\"fAbsYlowNDC\":0,\"fAbsWNDC\":1,\"fAbsHNDC\":1,\"fUxmin\":0,\"fUymin\":0,\"fUxmax\":1,\"fUymax\":1,\"fTheta\":30,\"fPhi\":30,\"fAspectRatio\":0,\"fNumber\":0,\"fTickx\":0,\"fTicky\":0,\"fLogx\":0,\"fLogy\":0,\"fLogz\":0,\"fPadPaint\":0,\"fCrosshair\":0,\"fCrosshairPos\":0,\"fBorderSize\":2,\"fBorderMode\":0,\"fModified\":false,\"fGridx\":false,\"fGridy\":false,\"fAbsCoord\":false,\"fEditable\":true,\"fFixedAspectRatio\":false,\"fPrimitives\":{\"_typename\":\"TList\",\"name\":\"TList\",\"arr\":[],\"opt\":[]},\"fExecs\":null,\"fName\":\"c11\",\"fTitle\":\"Phi_profile\",\"fNumPaletteColor\":0,\"fNextPaletteColor\":0,\"fDISPLAY\":\"$DISPLAY\",\"fDoubleBuffer\":0,\"fRetained\":true,\"fXsizeUser\":0,\"fYsizeUser\":0,\"fXsizeReal\":20,\"fYsizeReal\":10,\"fWindowTopX\":0,\"fWindowTopY\":0,\"fWindowWidth\":0,\"fWindowHeight\":0,\"fCw\":996,\"fCh\":472,\"fCatt\":{\"_typename\":\"TAttCanvas\",\"fXBetween\":2,\"fYBetween\":2,\"fTitleFromTop\":1.2,\"fXdate\":0.2,\"fYdate\":0.3,\"fAdate\":1},\"kMoveOpaque\":true,\"kResizeOpaque\":true,\"fHighLightColor\":2,\"fBatch\":true,\"kShowEventStatus\":false,\"kAutoExec\":true,\"kMenuBar\":true},\"fActive\":false,\"fReadOnly\":true,\"fWithoutPrimitives\":false,\"fHasExecs\":false,\"fPrimitives\":[{\"_typename\":\"TWebSnapshot\",\"fUniqueID\":0,\"fBits\":0,\"fObjectID\":\"\",\"fOption\":\"\",\"fKind\":4,\"fSnapshot\":{\"_typename\":\"TWebPainting\",\"fUniqueID\":0,\"fBits\":0,\"fOper\":\"0:255,255,255;1:0,0,0;2:255,0,0;3:0,255,0;4:0,0,255;5:255,255,0;6:255,0,255;7:0,255,255;8:89,211,84;9:89,84,216;10:254,254,254;11:192,182,172;12:76,76,76;13:102,102,102;14:127,127,127;15:153,153,153;16:178,178,178;17:204,204,204;18:229,229,229;19:242,242,242;20:204,198,170;21:204,198,170;22:193,191,168;23:186,181,163;24:178,165,150;25:183,163,155;26:173,153,140;27:155,142,130;28:135,102,86;29:175,206,198;30:132,193,163;31:137,168,160;32:130,158,140;33:173,188,198;34:122,142,153;35:117,137,145;36:104,130,150;37:109,122,132;38:124,153,209;39:127,127,155;40:170,165,191;41:211,206,135;42:221,186,135;43:188,158,130;44:198,153,124;45:191,130,119;46:206,94,96;47:170,142,147;48:165,119,122;49:147,104,112;50:211,89,84;51:146,0,255;52:122,0,255;53:98,0,255;54:74,0,255;55:51,0,255;56:27,0,255;57:3,0,255;58:0,20,255;59:0,44,255;60:0,68,255;61:0,91,255;62:0,115,255;63:0,139,255;64:0,163,255;65:0,187,255;66:0,210,255;67:0,234,255;68:0,255,251;69:0,255,227;70:0,255,204;71:0,255,180;72:0,255,156;73:0,255,132;74:0,255,108;75:0,255,85;76:0,255,61;77:0,255,37;78:0,255,13;79:10,255,0;80:34,255,0;81:57,255,0;82:81,255,0;83:105,255,0;84:129,255,0;85:153,255,0;86:176,255,0;87:200,255,0;88:224,255,0;89:248,255,0;90:255,238,0;91:255,214,0;92:255,190,0;93:255,166,0;94:255,142,0;95:255,119,0;96:255,95,0;97:255,71,0;98:255,47,0;99:255,23,0;100:111,45,168;101:165,42,42;102:178,190,181;103:87,144,252;104:248,156,32;105:228,37,54;106:150,74,139;107:156,156,161;108:122,33,221;109:24,69,251;110:255,94,2;111:201,31,22;112:200,73,169;113:173,173,125;114:134,200,221;115:87,141,255;116:101,99,100;117:63,144,218;118:255,169,14;119:189,31,1;120:148,164,162;121:131,45,182;122:169,107,89;123:231,99,0;124:185,172,112;125:113,117,129;126:146,218,221;127:178,178,178;201:91,91,91;202:122,122,122;203:183,183,183;204:214,214,214;205:137,15,15;206:183,20,20;207:234,71,71;208:239,117,117;209:15,137,15;210:20,183,20;211:71,234,71;212:117,239,117;213:15,15,137;214:20,20,183;215:71,71,234;216:117,117,239;217:137,137,15;218:183,183,20;219:234,234,71;220:239,239,117;221:137,15,137;222:183,20,183;223:234,71,234;224:239,117,239;225:15,137,137;226:20,183,183;227:71,234,234;228:117,239,239;390:255,255,204;391:255,255,153;392:204,204,153;393:255,255,102;394:204,204,102;395:153,153,102;396:255,255,51;397:204,204,51;398:153,153,51;399:102,102,51;400:255,255,0;401:204,204,0;402:153,153,0;403:102,102,0;404:51,51,0;406:204,255,204;407:153,255,153;408:153,204,153;409:102,255,102;410:102,204,102;411:102,153,102;412:51,255,51;413:51,204,51;414:51,153,51;415:51,102,51;416:0,255,0;417:0,204,0;418:0,153,0;419:0,102,0;420:0,51,0;422:204,255,255;423:153,255,255;424:153,204,204;425:102,255,255;426:102,204,204;427:102,153,153;428:51,255,255;429:51,204,204;430:51,153,153;431:51,102,102;432:0,255,255;433:0,204,204;434:0,153,153;435:0,102,102;436:0,51,51;590:204,204,255;591:153,153,255;592:153,153,204;593:102,102,255;594:102,102,204;595:102,102,153;596:51,51,255;597:51,51,204;598:51,51,153;599:51,51,102;600:0,0,255;601:0,0,204;602:0,0,153;603:0,0,102;604:0,0,51;606:255,204,255;607:255,153,255;608:204,153,204;609:255,102,255;610:204,102,204;611:153,102,153;612:255,51,255;613:204,51,204;614:153,51,153;615:102,51,102;616:255,0,255;617:204,0,204;618:153,0,153;619:102,0,102;620:51,0,51;622:255,204,204;623:255,153,153;624:204,153,153;625:255,102,102;626:204,102,102;627:153,102,102;628:255,51,51;629:204,51,51;630:153,51,51;631:102,51,51;632:255,0,0;633:204,0,0;634:153,0,0;635:102,0,0;636:51,0,0;791:255,204,153;792:204,153,102;793:153,102,51;794:153,102,0;795:204,153,51;796:255,204,102;797:255,153,0;798:255,204,51;799:204,153,0;800:255,204,0;801:255,153,51;802:204,102,0;803:102,51,0;804:153,51,0;805:204,102,51;806:255,153,102;807:255,102,0;808:255,102,51;809:204,51,0;810:255,51,0;811:153,255,51;812:102,204,0;813:51,102,0;814:51,153,0;815:102,204,51;816:153,255,102;817:102,255,0;818:102,255,51;819:51,204,0;820:51,255,0;821:204,255,153;822:153,204,102;823:102,153,51;824:102,153,0;825:153,204,51;826:204,255,102;827:153,255,0;828:204,255,51;829:153,204,0;830:204,255,0;831:153,255,204;832:102,204,153;833:51,153,102;834:0,153,102;835:51,204,153;836:102,255,204;837:0,255,102;838:51,255,204;839:0,204,153;840:0,255,204;841:51,255,153;842:0,204,102;843:0,102,51;844:0,153,51;845:51,204,102;846:102,255,153;847:0,255,153;848:51,255,102;849:0,204,51;850:0,255,51;851:153,204,255;852:102,153,204;853:51,102,153;854:0,51,153;855:51,102,204;856:102,153,255;857:0,102,255;858:51,102,255;859:0,51,204;860:0,51,255;861:51,153,255;862:0,102,204;863:0,51,102;864:0,102,153;865:51,153,204;866:102,204,255;867:0,153,255;868:51,204,255;869:0,153,204;870:0,204,255;871:204,153,255;872:153,102,204;873:102,51,153;874:102,0,153;875:153,51,204;876:204,102,255;877:153,0,255;878:204,51,255;879:153,0,204;880:204,0,255;881:153,51,255;882:102,0,204;883:51,0,102;884:51,0,153;885:102,51,204;886:153,102,255;887:102,0,255;888:102,51,255;889:51,0,204;890:51,0,255;891:255,51,153;892:204,0,102;893:102,0,51;894:153,0,51;895:204,51,102;896:255,102,153;897:255,0,102;898:255,51,102;899:204,0,51;900:255,0,51;901:255,153,204;902:204,102,153;903:153,51,102;904:153,0,102;905:204,51,153;906:255,102,204;907:255,0,153;908:204,0,153;909:255,51,204;910:255,0,153;920:204,204,204;921:153,153,153;922:102,102,102;923:51,51,51;924:53,42,134;925:51,44,137;926:50,45,140;927:49,47,143;928:48,48,146;929:46,50,148;930:45,51,151;931:44,53,154;932:43,55,157;933:42,56,160;934:40,58,162;935:39,59,165;936:38,61,168;937:37,63,171;938:35,64,174;939:34,66,176;940:33,67,179;941:32,69,182;942:31,71,185;943:29,72,187;944:28,74,190;945:27,75,193;946:26,77,196;947:24,79,199;948:23,80,201;949:22,82,204;950:21,83,207;951:19,85,210;952:18,86,213;953:17,88,215;954:16,90,218;955:15,91,221;956:15,92,221;957:15,94,220;958:15,95,220;959:15,96,220;960:15,97,220;961:15,98,220;962:16,99,219;963:16,100,219;964:16,102,219;965:16,103,219;966:16,104,218;967:16,105,218;968:17,106,218;969:17,107,218;970:17,109,217;971:17,110,217;972:17,111,217;973:17,112,217;974:17,113,216;975:18,114,216;976:18,115,216;977:18,117,216;978:18,118,215;979:18,119,215;980:18,120,215;981:18,121,215;982:19,122,215;983:19,123,214;984:19,125,214;985:19,126,214;986:19,127,214;987:19,128,213;988:19,129,213;989:19,130,213;990:18,131,212;991:18,132,212;992:17,134,211;993:17,135,211;994:16,136,211;995:16,137,210;996:15,138,210;997:15,139,210;998:15,140,209;999:14,141,209;1000:14,142,208;1001:13,143,208;1002:13,145,208;1003:12,146,207;1004:12,147,207;1005:12,148,207;1006:11,149,206;1007:11,150,206;1008:10,151,205;1009:10,152,205;1010:9,153,205;1011:9,154,204;1012:8,155,204;1013:8,157,204;1014:8,158,203;1015:7,159,203;1016:7,160,202;1017:6,161,202;1018:6,162,202;1019:5,163,201;1020:7,164,200;1021:8,164,199;1022:9,165,198;1023:10,166,197;1024:12,166,195;1025:13,167,194;1026:14,167,193;1027:15,168,192;1028:17,169,191;1029:18,169,189;1030:19,170,188;1031:20,170,187;1032:22,171,186;1033:23,172,185;1034:24,172,184;1035:25,173,182;1036:27,173,181;1037:28,174,180;1038:29,175,179;1039:30,175,178;1040:32,176,176;1041:33,176,175;1042:34,177,174;1043:35,178,173;1044:37,178,172;1045:38,179,170;1046:39,180,169;1047:40,180,168;1048:42,181,167;1049:43,181,166;1050:44,182,165;1051:45,183,163;1052:48,183,162;1053:51,183,161;1054:54,183,159;1055:57,184,158;1056:59,184,156;1057:62,184,155;1058:65,184,154;1059:68,185,152;1060:71,185,151;1061:73,185,149;1062:76,185,148;1063:79,186,146;1064:82,186,145;1065:84,186,144;1066:87,186,142;1067:90,187,141;1068:93,187,139;1069:96,187,138;1070:98,187,137;1071:101,188,135;1072:104,188,134;1073:107,188,132;1074:110,188,131;1075:112,189,130;1076:115,189,128;1077:118,189,127;1078:121,189,125;1079:124,190,124;1080:126,190,123;1081:129,190,121;1082:132,190,120;1083:135,191,118;1084:137,190,117;1085:139,190,117;1086:142,190,116;1087:144,190,115;1088:146,190,114;1089:148,190,113;1090:151,190,112;1091:153,190,111;1092:155,189,110;1093:158,189,109;1094:160,189,108;1095:162,189,107;1096:165,189,106;1097:167,189,105;1098:169,189,104;1099:171,188,104;1100:174,188,103;1101:176,188,102;1102:178,188,101;1103:181,188,100;1104:183,188,99;1105:185,188,98;1106:188,188,97;1107:190,187,96;1108:192,187,95;1109:194,187,94;1110:197,187,93;1111:199,187,92;1112:201,187,92;1113:204,187,91;1114:206,186,90;1115:208,186,89;1116:210,187,88;1117:211,187,86;1118:212,188,85;1119:214,188,84;1120:215,188,83;1121:217,189,81;1122:218,189,80;1123:220,190,79;1124:221,190,78;1125:222,191,77;1126:224,191,75;1127:225,191,74;1128:227,192,73;1129:228,192,72;1130:229,193,70;1131:231,193,69;1132:232,194,68;1133:234,194,67;1134:235,194,66;1135:236,195,64;1136:238,195,63;1137:239,196,62;1138:241,196,61;1139:242,197,59;1140:244,197,58;1141:245,197,57;1142:246,198,56;1143:248,198,55;1144:249,199,53;1145:251,199,52;1146:252,200,51;1147:253,200,50;1148:253,202,49;1149:253,203,47;1150:253,205,46;1151:253,206,45;1152:253,208,44;1153:252,209,43;1154:252,211,42;1155:252,213,41;1156:252,214,39;1157:252,216,38;1158:252,217,37;1159:252,219,36;1160:251,220,35;1161:251,222,34;1162:251,224,33;1163:251,225,31;1164:251,227,30;1165:251,228,29;1166:250,230,28;1167:250,231,27;1168:250,233,26;1169:250,235,25;1170:250,236,23;1171:250,238,22;1172:250,239,21;1173:249,241,20;1174:249,242,19;1175:249,244,18;1176:249,246,17;1177:249,247,16;1178:249,249,14\",\"fBuf\":{\"$arr\":\"Float32\",\"len\":255,\"v\":[924,925,926,927,928,929,930,931,932,933,934,935,936,937,938,939,940,941,942,943,944,945,946,947,948,949,950,951,952,953,954,955,956,957,958,959,960,961,962,963,964,965,966,967,968,969,970,971,972,973,974,975,976,977,978,979,980,981,982,983,984,985,986,987,988,989,990,991,992,993,994,995,996,997,998,999,1000,1001,1002,1003,1004,1005,1006,1007,1008,1009,1010,1011,1012,1013,1014,1015,1016,1017,1018,1019,1020,1021,1022,1023,1024,1025,1026,1027,1028,1029,1030,1031,1032,1033,1034,1035,1036,1037,1038,1039,1040,1041,1042,1043,1044,1045,1046,1047,1048,1049,1050,1051,1052,1053,1054,1055,1056,1057,1058,1059,1060,1061,1062,1063,1064,1065,1066,1067,1068,1069,1070,1071,1072,1073,1074,1075,1076,1077,1078,1079,1080,1081,1082,1083,1084,1085,1086,1087,1088,1089,1090,1091,1092,1093,1094,1095,1096,1097,1098,1099,1100,1101,1102,1103,1104,1105,1106,1107,1108,1109,1110,1111,1112,1113,1114,1115,1116,1117,1118,1119,1120,1121,1122,1123,1124,1125,1126,1127,1128,1129,1130,1131,1132,1133,1134,1135,1136,1137,1138,1139,1140,1141,1142,1143,1144,1145,1146,1147,1148,1149,1150,1151,1152,1153,1154,1155,1156,1157,1158,1159,1160,1161,1162,1163,1164,1165,1166,1167,1168,1169,1170,1171,1172,1173,1174,1175,1176,1177,1178]}}},{\"_typename\":\"TWebSnapshot\",\"fUniqueID\":0,\"fBits\":0,\"fObjectID\":\"\",\"fOption\":\"\",\"fKind\":5,\"fSnapshot\":{\"_typename\":\"TStyle\",\"fUniqueID\":0,\"fBits\":0,\"fName\":\"Modern\",\"fTitle\":\"Modern Style\",\"fLineColor\":1,\"fLineStyle\":1,\"fLineWidth\":1,\"fFillColor\":19,\"fFillStyle\":1001,\"fMarkerColor\":1,\"fMarkerStyle\":1,\"fMarkerSize\":1,\"fTextAngle\":0,\"fTextSize\":0.05,\"fTextAlign\":11,\"fTextColor\":1,\"fTextFont\":62,\"fXaxis\":{\"_typename\":\"TAttAxis\",\"fNdivisions\":510,\"fAxisColor\":1,\"fLabelColor\":1,\"fLabelFont\":42,\"fLabelOffset\":0.005,\"fLabelSize\":0.035,\"fTickLength\":0.03,\"fTitleOffset\":1,\"fTitleSize\":0.035,\"fTitleColor\":1,\"fTitleFont\":42},\"fYaxis\":{\"_typename\":\"TAttAxis\",\"fNdivisions\":510,\"fAxisColor\":1,\"fLabelColor\":1,\"fLabelFont\":42,\"fLabelOffset\":0.005,\"fLabelSize\":0.035,\"fTickLength\":0.03,\"fTitleOffset\":0,\"fTitleSize\":0.035,\"fTitleColor\":1,\"fTitleFont\":42},\"fZaxis\":{\"_typename\":\"TAttAxis\",\"fNdivisions\":510,\"fAxisColor\":1,\"fLabelColor\":1,\"fLabelFont\":42,\"fLabelOffset\":0.005,\"fLabelSize\":0.035,\"fTickLength\":0.03,\"fTitleOffset\":1,\"fTitleSize\":0.035,\"fTitleColor\":1,\"fTitleFont\":42},\"fBarWidth\":1,\"fBarOffset\":0,\"fColorModelPS\":0,\"fDrawBorder\":0,\"fOptLogx\":0,\"fOptLogy\":0,\"fOptLogz\":0,\"fOptDate\":0,\"fOptStat\":1111,\"fOptTitle\":1,\"fOptFile\":0,\"fOptFit\":0,\"fShowEventStatus\":0,\"fShowEditor\":0,\"fShowToolBar\":0,\"fNumberContours\":20,\"fAttDate\":{\"_typename\":\"TAttText\",\"fTextAngle\":0,\"fTextSize\":0.025,\"fTextAlign\":11,\"fTextColor\":1,\"fTextFont\":62},\"fDateX\":0.01,\"fDateY\":0.01,\"fEndErrorSize\":2,\"fErrorX\":0.5,\"fFuncColor\":2,\"fFuncStyle\":1,\"fFuncWidth\":2,\"fGridColor\":0,\"fGridStyle\":3,\"fGridWidth\":1,\"fLegendBorderSize\":1,\"fLegendFillColor\":0,\"fLegendFillStyle\":1001,\"fLegendFont\":42,\"fLegendTextSize\":0,\"fHatchesLineWidth\":1,\"fHatchesSpacing\":1,\"fFrameFillColor\":0,\"fFrameLineColor\":1,\"fFrameFillStyle\":1001,\"fFrameLineStyle\":1,\"fFrameLineWidth\":1,\"fFrameBorderSize\":1,\"fFrameBorderMode\":0,\"fHistFillColor\":0,\"fHistLineColor\":602,\"fHistFillStyle\":1001,\"fHistLineStyle\":1,\"fHistLineWidth\":1,\"fHistMinimumZero\":false,\"fHistTopMargin\":0.05,\"fCanvasPreferGL\":false,\"fCanvasColor\":0,\"fCanvasBorderSize\":2,\"fCanvasBorderMode\":0,\"fCanvasDefH\":500,\"fCanvasDefW\":700,\"fCanvasDefX\":10,\"fCanvasDefY\":10,\"fPadColor\":0,\"fPadBorderSize\":2,\"fPadBorderMode\":0,\"fPadBottomMargin\":0.1,\"fPadTopMargin\":0.1,\"fPadLeftMargin\":0.1,\"fPadRightMargin\":0.1,\"fPadGridX\":false,\"fPadGridY\":false,\"fPadTickX\":0,\"fPadTickY\":0,\"fPaperSizeX\":20,\"fPaperSizeY\":26,\"fScreenFactor\":1,\"fStatColor\":0,\"fStatTextColor\":1,\"fStatBorderSize\":1,\"fStatFont\":42,\"fStatFontSize\":0,\"fStatStyle\":1001,\"fStatFormat\":\"6.4g\",\"fStatX\":0.98,\"fStatY\":0.935,\"fStatW\":0.2,\"fStatH\":0.16,\"fStripDecimals\":true,\"fTitleAlign\":23,\"fTitleColor\":0,\"fTitleTextColor\":1,\"fTitleBorderSize\":0,\"fTitleFont\":42,\"fTitleFontSize\":0.05,\"fTitleStyle\":0,\"fTitleX\":0.5,\"fTitleY\":0.995,\"fTitleW\":0,\"fTitleH\":0,\"fLegoInnerR\":0.5,\"fLineStyles\":[\"\",\"  \",\" 12 12\",\" 4 8\",\" 12 16 4 16\",\" 20 12 4 12\",\" 20 12 4 12 4 12 4 12\",\" 20 20\",\" 20 12 4 12 4 12\",\" 80 20\",\" 80 40 4 40\",\"  \",\"  \",\"  \",\"  \",\"  \",\"  \",\"  \",\"  \",\"  \",\"  \",\"  \",\"  \",\"  \",\"  \",\"  \",\"  \",\"  \",\"  \",\"  \"],\"fHeaderPS\":\"\",\"fTitlePS\":\"\",\"fFitFormat\":\"5.4g\",\"fPaintTextFormat\":\"g\",\"fLineScalePS\":3,\"fJoinLinePS\":0,\"fCapLinePS\":0,\"fTimeOffset\":788918400,\"fImageScaling\":1,\"fCandleWhiskerRange\":1,\"fCandleBoxRange\":0.5,\"fCandleScaled\":false,\"fViolinScaled\":true,\"fXAxisExpXOffset\":0,\"fXAxisExpYOffset\":0,\"fYAxisExpXOffset\":0,\"fYAxisExpYOffset\":0,\"fAxisMaxDigits\":5,\"fOrthoCamera\":false}},{\"_typename\":\"TPadWebSnapshot\",\"fUniqueID\":0,\"fBits\":0,\"fObjectID\":\"\",\"fOption\":\"\",\"fKind\":3,\"fSnapshot\":{\"_typename\":\"TPad\",\"fUniqueID\":0,\"fBits\":9,\"fLineColor\":1,\"fLineStyle\":1,\"fLineWidth\":1,\"fFillColor\":0,\"fFillStyle\":1001,\"fLeftMargin\":0.1,\"fRightMargin\":0.1,\"fBottomMargin\":0.1,\"fTopMargin\":0.1,\"fXfile\":2,\"fYfile\":2,\"fAfile\":1,\"fXstat\":0.99,\"fYstat\":0.99,\"fAstat\":2,\"fFrameFillColor\":0,\"fFrameLineColor\":1,\"fFrameFillStyle\":1001,\"fFrameLineStyle\":1,\"fFrameLineWidth\":1,\"fFrameBorderSize\":1,\"fFrameBorderMode\":0,\"fX1\":-0.0421875034859406,\"fY1\":1.18749993946403,\"fX2\":0.425687503485941,\"fY2\":9.31250006053597,\"fXtoAbsPixelk\":53.0676703834162,\"fXtoPixelk\":43.1076706060396,\"fXtoPixel\":1021.81136697045,\"fYtoAbsPixelk\":534.884918759529,\"fYtoPixelk\":530.164918865029,\"fYtoPixel\":-56.9304607161008,\"fUtoAbsPixelk\":9.95999977737665,\"fUtoPixelk\":0,\"fUtoPixel\":478.080000445247,\"fVtoAbsPixelk\":467.2800001055,\"fVtoPixelk\":462.560000211,\"fVtoPixel\":-462.560000211,\"fAbsPixeltoXk\":-0.0519348992375722,\"fPixeltoXk\":-0.0421875034859406,\"fPixeltoX\":9.78654213805511e-4,\"fAbsPixeltoYk\":9.39540822314575,\"fPixeltoYk\":1.18749993946403,\"fPixeltoY\":-0.017565289081126,\"fXlowNDC\":0.00999999977648258,\"fYlowNDC\":0.00999999977648258,\"fXUpNDC\":0.490000000223517,\"fYUpNDC\":0.990000000223517,\"fWNDC\":0.480000000447035,\"fHNDC\":0.980000000447035,\"fAbsXlowNDC\":0.00999999977648258,\"fAbsYlowNDC\":0.00999999977648258,\"fAbsWNDC\":0.480000000447035,\"fAbsHNDC\":0.980000000447035,\"fUxmin\":0.0046,\"fUymin\":2,\"fUxmax\":0.3789,\"fUymax\":8.5,\"fTheta\":30,\"fPhi\":30,\"fAspectRatio\":0,\"fNumber\":1,\"fTickx\":0,\"fTicky\":0,\"fLogx\":0,\"fLogy\":0,\"fLogz\":0,\"fPadPaint\":0,\"fCrosshair\":0,\"fCrosshairPos\":0,\"fBorderSize\":2,\"fBorderMode\":0,\"fModified\":false,\"fGridx\":false,\"fGridy\":false,\"fAbsCoord\":false,\"fEditable\":true,\"fFixedAspectRatio\":false,\"fPrimitives\":{\"_typename\":\"TList\",\"name\":\"TList\",\"arr\":[],\"opt\":[]},\"fExecs\":{\"_typename\":\"TList\",\"name\":\"TList\",\"arr\":[],\"opt\":[]},\"fName\":\"c11_1\",\"fTitle\":\"c11_1\",\"fNumPaletteColor\":0,\"fNextPaletteColor\":0},\"fActive\":false,\"fReadOnly\":true,\"fWithoutPrimitives\":false,\"fHasExecs\":true,\"fPrimitives\":[{\"_typename\":\"TWebSnapshot\",\"fUniqueID\":0,\"fBits\":0,\"fObjectID\":\"\",\"fOption\":\"\",\"fKind\":1,\"fSnapshot\":{\"_typename\":\"TFrame\",\"fUniqueID\":0,\"fBits\":8,\"fLineColor\":1,\"fLineStyle\":1,\"fLineWidth\":1,\"fFillColor\":0,\"fFillStyle\":1001,\"fX1\":0.0046,\"fY1\":2,\"fX2\":0.3789,\"fY2\":8.5,\"fBorderSize\":1,\"fBorderMode\":0}},{\"_typename\":\"TWebSnapshot\",\"fUniqueID\":0,\"fBits\":0,\"fObjectID\":\"\",\"fOption\":\"\",\"fKind\":1,\"fSnapshot\":{\"_typename\":\"TProfile\",\"fUniqueID\":0,\"fBits\":520,\"fName\":\"Dataset 3 Geometrical correction profile\",\"fTitle\":\"Dataset 3, diagonal 1 Geometrical correction factor profile\",\"fLineColor\":602,\"fLineStyle\":1,\"fLineWidth\":1,\"fFillColor\":0,\"fFillStyle\":1001,\"fMarkerColor\":1,\"fMarkerStyle\":1,\"fMarkerSize\":1,\"fNcells\":89,\"fXaxis\":{\"_typename\":\"TAxis\",\"fUniqueID\":0,\"fBits\":0,\"fName\":\"xaxis\",\"fTitle\":\"|t| [GeV^2]\",\"fNdivisions\":510,\"fAxisColor\":1,\"fLabelColor\":1,\"fLabelFont\":42,\"fLabelOffset\":0.005,\"fLabelSize\":0.035,\"fTickLength\":0.03,\"fTitleOffset\":1,\"fTitleSize\":0.035,\"fTitleColor\":1,\"fTitleFont\":42,\"fNbins\":87,\"fXmin\":0.0046,\"fXmax\":0.3789,\"fXbins\":{\"$arr\":\"Float64\",\"len\":88,\"v\":[0.0046,0.0057,0.0073,0.009059,0.01084,0.01263,0.01445,0.01629,0.01814,0.02002,0.02192,0.02384,0.02579,0.02775,0.02974,0.03176,0.0338,0.03586,0.03795,0.04007,0.04221,0.04438,0.04658,0.04881,0.05107,0.05336,0.05569,0.05804,0.06043,0.06286,0.06532,0.06781,0.07035,0.07292,0.07554,0.07819,0.08089,0.08364,0.08643,0.08926,0.09215,0.09509,0.09808,0.1011,0.1042,0.1074,0.1106,0.1139,0.1172,0.1207,0.1241,0.1277,0.1314,0.1351,0.1389,0.1428,0.1468,0.1509,0.1551,0.1594,0.1638,0.1683,0.173,0.1778,0.1827,0.1878,0.1931,0.1985,0.2041,0.2099,0.2159,0.2221,0.2286,0.2353,0.2424,0.2497,0.2573,0.2654,0.2738,0.2827,0.2921,0.3021,0.3127,0.324,0.3361,0.3492,0.3634,0.3789]},\"fFirst\":0,\"fLast\":0,\"fBits2\":0,\"fTimeDisplay\":false,\"fTimeFormat\":\"\",\"fLabels\":null,\"fModLabs\":null},\"fYaxis\":{\"_typename\":\"TAxis\",\"fUniqueID\":0,\"fBits\":0,\"fName\":\"yaxis\",\"fTitle\":\"A_{geom} [-]\",\"fNdivisions\":510,\"fAxisColor\":1,\"fLabelColor\":1,\"fLabelFont\":42,\"fLabelOffset\":0.005,\"fLabelSize\":0.035,\"fTickLength\":0.03,\"fTitleOffset\":0,\"fTitleSize\":0.035,\"fTitleColor\":1,\"fTitleFont\":42,\"fNbins\":1,\"fXmin\":0,\"fXmax\":1,\"fXbins\":[],\"fFirst\":0,\"fLast\":0,\"fBits2\":0,\"fTimeDisplay\":false,\"fTimeFormat\":\"\",\"fLabels\":null,\"fModLabs\":null},\"fZaxis\":{\"_typename\":\"TAxis\",\"fUniqueID\":0,\"fBits\":0,\"fName\":\"zaxis\",\"fTitle\":\"\",\"fNdivisions\":510,\"fAxisColor\":1,\"fLabelColor\":1,\"fLabelFont\":42,\"fLabelOffset\":0.005,\"fLabelSize\":0.035,\"fTickLength\":0.03,\"fTitleOffset\":1,\"fTitleSize\":0.035,\"fTitleColor\":1,\"fTitleFont\":42,\"fNbins\":1,\"fXmin\":0,\"fXmax\":1,\"fXbins\":[],\"fFirst\":0,\"fLast\":0,\"fBits2\":0,\"fTimeDisplay\":false,\"fTimeFormat\":\"\",\"fLabels\":null,\"fModLabs\":null},\"fBarOffset\":0,\"fBarWidth\":1000,\"fEntries\":42645,\"fTsumw\":42628,\"fTsumw2\":42628,\"fTsumwx\":2437.75573091383,\"fTsumwx2\":222.573961967251,\"fMaximum\":8.5,\"fMinimum\":2,\"fNormFactor\":0,\"fContour\":[],\"fSumw2\":{\"$arr\":\"Float64\",\"len\":89,\"p\":1,\"v\":[12042.2856606229,17781.9327535971,15339.9022451723,13701.1077221913,12720.6440250577,11305.6290437322,10856.0192892186,10481.2398269422,9170.4596223435,9859.98468736667,9275.56503931602,8661.69746779239,8321.69552035983,7805.77905051925,7180.17318783515,7489.35916515772,6884.86980207614,6508.1441688458,6617.50974146038,6336.1724799096,5936.5290243348,5669.99646248969,5576.85983066097,5697.75373292538,5235.62492245548,5043.79565991619,5133.02976507016,4850.76078792999,4616.69476164003,4433.47098934032,4324.38735822789,4029.96752329991,3865.10416610368,3726.23732359683,3489.11384103526,3495.38819066494,3556.60432932335,3355.04112620822,3243.14213459554,2910.60002849447,2728.05703315236,2536.67051690612,2385.24637360892,2490.96301827048,2352.35940854918,2099.11663060135,2152.9694460406,2023.69714648614,2072.45409115179,1861.75703069529,1766.58505632409,1548.84397397387,1317.72519254099,1786.45950928654,1430.7926558452,1589.69750939362,1336.67707409186,1538.85219336259,1716.55641121039,1532.72711950329,1324.11123810681,1472.08812294399,1224.41402851427,1145.37890049503,1304.79652567699,879.011096336191,975.368254185856,794.330652525296,971.595819192028,965.59134484634,968.754199228476,883.692941122397,544.508625788805,687.916379457788,612.722853726871,724.516749059716,598.992411537528,509.610740296254,433.575791462003,251.470521727523,444.72102474174,247.543250676865,230.232398233882,238.48032678354,187.65162060313,162.631368923065,68.7942230188609,1303.96223833175]},\"fOption\":\"\",\"fFunctions\":{\"_typename\":\"TList\",\"name\":\"TList\",\"arr\":[],\"opt\":[]},\"fBufferSize\":0,\"fBuffer\":[],\"fBinStatErrOpt\":0,\"fStatOverflows\":2,\"fArray\":{\"$arr\":\"Float64\",\"len\":89,\"p\":1,\"v\":[1443.25398088589,3372.93954654002,3619.78614080047,3661.0189615001,3674.84293207194,3459.8182185017,3471.13043082,3465.63027024243,3117.71741024608,3432.52508066282,3292.84264287574,3128.49952366247,3051.52776084668,2900.77841268345,2700.9220731091,2847.96540036826,2643.50008010152,2521.59050759257,2585.27573389756,2494.41245176813,2353.45730974467,2262.73940377805,2239.10310870685,2300.69538548673,2125.63726226085,2058.34398996185,2104.70817785044,1998.04146199285,1909.76004662625,1841.62995816015,1803.31233261666,1686.75849153705,1623.57575463861,1570.59442697469,1475.53554285909,1482.76683003338,1513.42377361245,1431.757195125,1387.95721045247,1249.03189702617,1173.74105637871,1094.21563123335,1031.4161926757,1079.7083498291,1021.98194620043,914.028483416969,939.53025731109,884.969211476126,908.205057699959,817.539336446444,777.284943918924,682.789783634626,572.647603210477,704.569594341565,532.199251414808,565.230243806918,456.61789212047,508.433834945567,549.628582350932,476.265698273913,400.260781060029,434.069770921353,351.652343624017,321.060735307113,357.582425226834,235.319970564629,255.63063188034,203.232527549732,243.443310480592,236.648329070839,232.913116981619,208.085393428825,125.658538966227,155.164091319473,135.576787635702,156.948351940166,127.170402337505,105.88199493248,88.3407615069194,50.1460926872815,86.9480304329507,47.1995224884698,42.9162886679766,43.6780368313309,33.5542139042723,28.5155356634423,11.7296820299922,142.750948907438]},\"fBinEntries\":{\"$arr\":\"Float64\",\"len\":89,\"p\":1,\"v\":[181,645,856,979,1062,1059,1110,1146,1060,1195,1169,1130,1119,1078,1016,1083,1015,977,1010,982,933,903,899,929,863,840,863,823,790,765,752,706,682,662,624,629,644,611,594,536,505,472,446,468,444,398,410,387,398,359,342,301,249,278,198,201,156,168,176,148,121,128,101,90,98,63,67,52,61,58,56,49,29,35,30,34,27,22,18,10,17,9,8,8,6,5,2,17]},\"fErrorMode\":0,\"fYmin\":0,\"fYmax\":0,\"fTsumwy\":117715.137736747,\"fTsumwy2\":343650.981258035,\"fBinSumw2\":[]}},{\"_typename\":\"TWebSnapshot\",\"fUniqueID\":0,\"fBits\":0,\"fObjectID\":\"\",\"fOption\":\"blNDC\",\"fKind\":1,\"fSnapshot\":{\"_typename\":\"TPaveText\",\"fUniqueID\":0,\"fBits\":9,\"fLineColor\":1,\"fLineStyle\":1,\"fLineWidth\":1,\"fFillColor\":0,\"fFillStyle\":0,\"fX1\":0.0279937475598416,\"fY1\":8.7659947731372,\"fX2\":0.355506252440158,\"fY2\":9.27187509867363,\"fX1NDC\":0.15,\"fY1NDC\":0.932737811783975,\"fX2NDC\":0.85,\"fY2NDC\":0.995000004768372,\"fBorderSize\":0,\"fInit\":1,\"fShadowColor\":1,\"fCornerRadius\":0,\"fOption\":\"blNDC\",\"fName\":\"title\",\"fTextAngle\":0,\"fTextSize\":0,\"fTextAlign\":22,\"fTextColor\":1,\"fTextFont\":42,\"fLabel\":\"\",\"fLongest\":59,\"fMargin\":0.05,\"fLines\":{\"_typename\":\"TList\",\"name\":\"TList\",\"arr\":[{\"_typename\":\"TLatex\",\"fUniqueID\":0,\"fBits\":0,\"fName\":\"\",\"fTitle\":\"Dataset 3, diagonal 1 Geometrical correction factor profile\",\"fTextAngle\":0,\"fTextSize\":0,\"fTextAlign\":0,\"fTextColor\":0,\"fTextFont\":0,\"fX\":0,\"fY\":0,\"fLineColor\":1,\"fLineStyle\":1,\"fLineWidth\":2,\"fLimitFactorSize\":3,\"fOriginSize\":0.0529228635132313}],\"opt\":[\"\"]}}}]},{\"_typename\":\"TPadWebSnapshot\",\"fUniqueID\":0,\"fBits\":0,\"fObjectID\":\"\",\"fOption\":\"\",\"fKind\":3,\"fSnapshot\":{\"_typename\":\"TPad\",\"fUniqueID\":0,\"fBits\":9,\"fLineColor\":1,\"fLineStyle\":1,\"fLineWidth\":1,\"fFillColor\":0,\"fFillStyle\":1001,\"fLeftMargin\":0.1,\"fRightMargin\":0.1,\"fBottomMargin\":0.1,\"fTopMargin\":0.1,\"fXfile\":2,\"fYfile\":2,\"fAfile\":1,\"fXstat\":0.99,\"fYstat\":0.99,\"fAstat\":2,\"fFrameFillColor\":0,\"fFrameLineColor\":1,\"fFrameFillStyle\":1001,\"fFrameLineStyle\":1,\"fFrameLineWidth\":1,\"fFrameBorderSize\":1,\"fFrameBorderMode\":0,\"fX1\":-0.0421875034859406,\"fY1\":0.895261049323594,\"fX2\":0.425687503485941,\"fY2\":1.66381138894668,\"fXtoAbsPixelk\":551.067670383416,\"fXtoPixelk\":43.1076706060396,\"fXtoPixel\":1021.81136697045,\"fYtoAbsPixelk\":1006.10215633161,\"fYtoPixelk\":1001.38215643711,\"fYtoPixel\":-601.860380984088,\"fUtoAbsPixelk\":507.959999777377,\"fUtoPixelk\":0,\"fUtoPixel\":478.080000445247,\"fVtoAbsPixelk\":467.2800001055,\"fVtoPixelk\":462.560000211,\"fVtoPixel\":-462.560000211,\"fAbsPixeltoXk\":-0.539304697712717,\"fPixeltoXk\":-0.0421875034859406,\"fPixeltoX\":9.78654213805511e-4,\"fAbsPixeltoYk\":1.67165373917213,\"fPixeltoYk\":0.895261049323594,\"fPixeltoY\":-0.00166151491541099,\"fXlowNDC\":0.509999999776483,\"fYlowNDC\":0.00999999977648258,\"fXUpNDC\":0.990000000223517,\"fYUpNDC\":0.990000000223517,\"fWNDC\":0.480000000447035,\"fHNDC\":0.980000000447035,\"fAbsXlowNDC\":0.509999999776483,\"fAbsYlowNDC\":0.00999999977648258,\"fAbsWNDC\":0.480000000447035,\"fAbsHNDC\":0.980000000447035,\"fUxmin\":0.0046,\"fUymin\":0.972116087866819,\"fUxmax\":0.3789,\"fUymax\":1.58695635040345,\"fTheta\":30,\"fPhi\":30,\"fAspectRatio\":0,\"fNumber\":2,\"fTickx\":0,\"fTicky\":0,\"fLogx\":0,\"fLogy\":0,\"fLogz\":0,\"fPadPaint\":0,\"fCrosshair\":0,\"fCrosshairPos\":0,\"fBorderSize\":2,\"fBorderMode\":0,\"fModified\":false,\"fGridx\":false,\"fGridy\":false,\"fAbsCoord\":false,\"fEditable\":true,\"fFixedAspectRatio\":false,\"fPrimitives\":{\"_typename\":\"TList\",\"name\":\"TList\",\"arr\":[],\"opt\":[]},\"fExecs\":{\"_typename\":\"TList\",\"name\":\"TList\",\"arr\":[],\"opt\":[]},\"fName\":\"c11_2\",\"fTitle\":\"c11_2\",\"fNumPaletteColor\":0,\"fNextPaletteColor\":0},\"fActive\":false,\"fReadOnly\":true,\"fWithoutPrimitives\":false,\"fHasExecs\":true,\"fPrimitives\":[{\"_typename\":\"TWebSnapshot\",\"fUniqueID\":0,\"fBits\":0,\"fObjectID\":\"\",\"fOption\":\"\",\"fKind\":1,\"fSnapshot\":{\"_typename\":\"TFrame\",\"fUniqueID\":0,\"fBits\":8,\"fLineColor\":1,\"fLineStyle\":1,\"fLineWidth\":1,\"fFillColor\":0,\"fFillStyle\":1001,\"fX1\":0.0046,\"fY1\":0.972116087866819,\"fX2\":0.3789,\"fY2\":1.58695635040345,\"fBorderSize\":1,\"fBorderMode\":0}},{\"_typename\":\"TWebSnapshot\",\"fUniqueID\":0,\"fBits\":0,\"fObjectID\":\"\",\"fOption\":\"\",\"fKind\":1,\"fSnapshot\":{\"_typename\":\"TProfile\",\"fUniqueID\":0,\"fBits\":520,\"fName\":\"Dataset 3 Divergence correction profile\",\"fTitle\":\"Dataset 3, diagonal 1 Divergence correction factor profile\",\"fLineColor\":602,\"fLineStyle\":1,\"fLineWidth\":1,\"fFillColor\":0,\"fFillStyle\":1001,\"fMarkerColor\":1,\"fMarkerStyle\":1,\"fMarkerSize\":1,\"fNcells\":89,\"fXaxis\":{\"_typename\":\"TAxis\",\"fUniqueID\":0,\"fBits\":0,\"fName\":\"xaxis\",\"fTitle\":\"|t| [GeV^2]\",\"fNdivisions\":510,\"fAxisColor\":1,\"fLabelColor\":1,\"fLabelFont\":42,\"fLabelOffset\":0.005,\"fLabelSize\":0.035,\"fTickLength\":0.03,\"fTitleOffset\":1,\"fTitleSize\":0.035,\"fTitleColor\":1,\"fTitleFont\":42,\"fNbins\":87,\"fXmin\":0.0046,\"fXmax\":0.3789,\"fXbins\":{\"$arr\":\"Float64\",\"len\":88,\"v\":[0.0046,0.0057,0.0073,0.009059,0.01084,0.01263,0.01445,0.01629,0.01814,0.02002,0.02192,0.02384,0.02579,0.02775,0.02974,0.03176,0.0338,0.03586,0.03795,0.04007,0.04221,0.04438,0.04658,0.04881,0.05107,0.05336,0.05569,0.05804,0.06043,0.06286,0.06532,0.06781,0.07035,0.07292,0.07554,0.07819,0.08089,0.08364,0.08643,0.08926,0.09215,0.09509,0.09808,0.1011,0.1042,0.1074,0.1106,0.1139,0.1172,0.1207,0.1241,0.1277,0.1314,0.1351,0.1389,0.1428,0.1468,0.1509,0.1551,0.1594,0.1638,0.1683,0.173,0.1778,0.1827,0.1878,0.1931,0.1985,0.2041,0.2099,0.2159,0.2221,0.2286,0.2353,0.2424,0.2497,0.2573,0.2654,0.2738,0.2827,0.2921,0.3021,0.3127,0.324,0.3361,0.3492,0.3634,0.3789]},\"fFirst\":0,\"fLast\":0,\"fBits2\":0,\"fTimeDisplay\":false,\"fTimeFormat\":\"\",\"fLabels\":null,\"fModLabs\":null},\"fYaxis\":{\"_typename\":\"TAxis\",\"fUniqueID\":0,\"fBits\":0,\"fName\":\"yaxis\",\"fTitle\":\"A_{fluct} [-]\",\"fNdivisions\":510,\"fAxisColor\":1,\"fLabelColor\":1,\"fLabelFont\":42,\"fLabelOffset\":0.005,\"fLabelSize\":0.035,\"fTickLength\":0.03,\"fTitleOffset\":0,\"fTitleSize\":0.035,\"fTitleColor\":1,\"fTitleFont\":42,\"fNbins\":1,\"fXmin\":0,\"fXmax\":1,\"fXbins\":[],\"fFirst\":0,\"fLast\":0,\"fBits2\":0,\"fTimeDisplay\":false,\"fTimeFormat\":\"\",\"fLabels\":null,\"fModLabs\":null},\"fZaxis\":{\"_typename\":\"TAxis\",\"fUniqueID\":0,\"fBits\":0,\"fName\":\"zaxis\",\"fTitle\":\"\",\"fNdivisions\":510,\"fAxisColor\":1,\"fLabelColor\":1,\"fLabelFont\":42,\"fLabelOffset\":0.005,\"fLabelSize\":0.035,\"fTickLength\":0.03,\"fTitleOffset\":1,\"fTitleSize\":0.035,\"fTitleColor\":1,\"fTitleFont\":42,\"fNbins\":1,\"fXmin\":0,\"fXmax\":1,\"fXbins\":[],\"fFirst\":0,\"fLast\":0,\"fBits2\":0,\"fTimeDisplay\":false,\"fTimeFormat\":\"\",\"fLabels\":null,\"fModLabs\":null},\"fBarOffset\":0,\"fBarWidth\":1000,\"fEntries\":42645,\"fTsumw\":42628,\"fTsumw2\":42628,\"fTsumwx\":2437.75573091383,\"fTsumwx2\":222.573961967251,\"fMaximum\":-1111,\"fMinimum\":-1111,\"fNormFactor\":0,\"fContour\":[],\"fSumw2\":{\"$arr\":\"Float64\",\"len\":89,\"p\":1,\"v\":[452.827624500704,898.184734116487,1024.90530135937,1101.41929874587,1153.38237609799,1129.35698020088,1203.92321787415,1207.47829773087,1119.4320795928,1272.06456147291,1242.65040816226,1203.22888824652,1157.94923343356,1141.00338495065,1045.43245528053,1123.48424376635,1038.12212086021,1000.25673852589,1056.75844143651,1005.12252983868,950.88396313192,926.639189540295,926.071846168239,957.551579986679,904.427260899693,872.029657147741,878.324608163208,836.824036586859,808.129333424794,780.08855837925,778.990109791482,724.874128388918,692.406965868588,679.004886383224,632.073409368491,648.06733786896,667.4377443486,615.167971614761,601.848213586945,552.715084840567,522.328984154923,489.81193345357,455.280291264264,481.676280858957,460.984125453055,400.054878493745,415.343793293658,392.737703307948,403.785422523061,372.454474733156,358.670355783288,339.722133006089,305.328274969202,323.973556452941,218.756805268492,223.001456618704,166.123229540238,184.266164140794,195.309440332785,164.070134155172,126.960091812661,131.693071975027,107.902970268221,96.0831612136128,114.102231904849,71.3617583528214,67.3790314363124,54.358143091265,62.5524506059916,60.8998450516723,58.0058994442206,51.0774979400522,30.9918701573962,35.2985304848021,32.1743154877015,36.7285546993635,30.0709741457201,22.0073936927409,18.3425443833288,10.1939065000134,17.1240769919935,9.47250366312853,9.87725534511267,8.04953333346641,6.34909346587488,5.00000820504951,2,17.0269187945531]},\"fOption\":\"\",\"fFunctions\":{\"_typename\":\"TList\",\"name\":\"TList\",\"arr\":[],\"opt\":[]},\"fBufferSize\":0,\"fBuffer\":[],\"fBinStatErrOpt\":0,\"fStatOverflows\":2,\"fArray\":{\"$arr\":\"Float64\",\"len\":89,\"p\":1,\"v\":[276.393026932108,741.326147935549,918.203191728252,1023.64389944518,1095.30812906878,1084.45606991775,1143.65690447949,1169.55271540348,1082.08746258279,1221.29004624554,1195.48733739486,1154.64018798775,1132.99391583366,1097.82548827202,1026.78562219045,1097.99472380992,1023.75061140102,985.591137169113,1025.32570605857,990.797733692558,940.03124136308,912.001906326829,908.521092636601,939.12447769231,876.754391950847,851.131982946092,868.897618961832,828.962769001243,796.639399019751,770.554736271706,761.116898653144,712.523266441526,685.881216276951,668.136900636016,627.003278571286,635.677306437615,652.033211244102,612.854612079774,597.217360737268,541.205115339446,510.893908052972,477.737020218481,449.507757150078,472.184034574655,449.56053408887,398.947279921646,412.002109369112,389.27248877663,400.42801256153,363.967647486154,349.626513827035,315.925048889851,266.706604879051,293.621684820974,205.38086755344,208.703889620869,159.974368325251,173.400878948284,182.870438487203,153.083164593512,123.444450937362,129.670650089186,103.259075482145,92.521021525401,103.028086889684,65.6804636432202,67.1852648681859,53.0195542106212,61.6993417760398,59.0335388173191,56.8094174713481,49.7952356021552,29.8382200322721,35.1443261788743,30.9380176813068,35.0586695185943,28.1145501247543,22.0036921241425,18.1594672607186,10.0947046473544,17.0603215603721,9.21355332658729,8.69624743083136,8.02446734133715,6.16150482817545,5.00000410251634,2,17.0133735769847]},\"fBinEntries\":{\"$arr\":\"Float64\",\"len\":89,\"p\":1,\"v\":[181,645,856,979,1062,1059,1110,1146,1060,1195,1169,1130,1119,1078,1016,1083,1015,977,1010,982,933,903,899,929,863,840,863,823,790,765,752,706,682,662,624,629,644,611,594,536,505,472,446,468,444,398,410,387,398,359,342,301,249,278,198,201,156,168,176,148,121,128,101,90,98,63,67,52,61,58,56,49,29,35,30,34,27,22,18,10,17,9,8,8,6,5,2,17]},\"fErrorMode\":0,\"fYmin\":0,\"fYmax\":0,\"fTsumwy\":43537.8269397519,\"fTsumwy2\":45160.2749531386,\"fBinSumw2\":[]}},{\"_typename\":\"TWebSnapshot\",\"fUniqueID\":0,\"fBits\":0,\"fObjectID\":\"\",\"fOption\":\"blNDC\",\"fKind\":1,\"fSnapshot\":{\"_typename\":\"TPaveText\",\"fUniqueID\":0,\"fBits\":9,\"fLineColor\":1,\"fLineStyle\":1,\"fLineWidth\":1,\"fFillColor\":0,\"fFillStyle\":0,\"fX1\":0.0279937475598416,\"fY1\":1.61211701134946,\"fX2\":0.355506252440158,\"fY2\":1.6599686409133,\"fX1NDC\":0.15,\"fY1NDC\":0.932737811783975,\"fX2NDC\":0.85,\"fY2NDC\":0.995000004768372,\"fBorderSize\":0,\"fInit\":1,\"fShadowColor\":1,\"fCornerRadius\":0,\"fOption\":\"blNDC\",\"fName\":\"title\",\"fTextAngle\":0,\"fTextSize\":0,\"fTextAlign\":22,\"fTextColor\":1,\"fTextFont\":42,\"fLabel\":\"\",\"fLongest\":58,\"fMargin\":0.05,\"fLines\":{\"_typename\":\"TList\",\"name\":\"TList\",\"arr\":[{\"_typename\":\"TLatex\",\"fUniqueID\":0,\"fBits\":0,\"fName\":\"\",\"fTitle\":\"Dataset 3, diagonal 1 Divergence correction factor profile\",\"fTextAngle\":0,\"fTextSize\":0,\"fTextAlign\":0,\"fTextColor\":0,\"fTextFont\":0,\"fX\":0,\"fY\":0,\"fLineColor\":1,\"fLineStyle\":1,\"fLineWidth\":2,\"fLimitFactorSize\":3,\"fOriginSize\":0.0529228635132313}],\"opt\":[\"\"]}}}]}],\"fScripts\":\"\",\"fHighlightConnect\":false,\"fFixedSize\":false});\n",
       "   Core.settings.HandleKeys = false;\n",
       "   Core.draw(\"root_plot_1754524553819\", obj, \"\");\n",
       "}\n",
       "\n",
       "function script_load_root_plot_1754524553819(src, on_error) {\n",
       "    let script = document.createElement('script');\n",
       "    script.src = src;\n",
       "    script.onload = function() { display_root_plot_1754524553819(JSROOT); };\n",
       "    script.onerror = function() { script.remove(); on_error(); };\n",
       "    document.head.appendChild(script);\n",
       "}\n",
       "\n",
       "if (typeof requirejs !== 'undefined') {\n",
       "\n",
       "    // We are in jupyter notebooks, use require.js which should be configured already\n",
       "    requirejs.config({\n",
       "       paths: { 'JSRootCore' : [ 'build/jsroot', 'https://root.cern/js/7.8.2/build/jsroot', 'https://jsroot.gsi.de/7.8.2/build/jsroot' ] }\n",
       "    })(['JSRootCore'],  function(Core) {\n",
       "       display_root_plot_1754524553819(Core);\n",
       "    });\n",
       "\n",
       "} else if (typeof JSROOT !== 'undefined') {\n",
       "\n",
       "   // JSROOT already loaded, just use it\n",
       "   display_root_plot_1754524553819(JSROOT);\n",
       "\n",
       "} else {\n",
       "\n",
       "    // We are in jupyterlab without require.js, directly loading jsroot\n",
       "    // Jupyterlab might be installed in a different base_url so we need to know it.\n",
       "    try {\n",
       "        var base_url = JSON.parse(document.getElementById('jupyter-config-data').innerHTML).baseUrl;\n",
       "    } catch(_) {\n",
       "        var base_url = '/';\n",
       "    }\n",
       "\n",
       "    // Try loading a local version of requirejs and fallback to cdn if not possible.\n",
       "    script_load_root_plot_1754524553819(base_url + 'static/build/jsroot.js', function(){\n",
       "        console.error('Fail to load JSROOT locally, please check your jupyter_notebook_config.py file');\n",
       "        script_load_root_plot_1754524553819('https://root.cern/js/7.8.2/build/jsroot.js', function(){\n",
       "            document.getElementById(\"root_plot_1754524553819\").innerHTML = \"Failed to load JSROOT\";\n",
       "        });\n",
       "    });\n",
       "}\n",
       "\n",
       "</script>\n"
      ],
      "text/plain": [
       "<IPython.core.display.HTML object>"
      ]
     },
     "metadata": {},
     "output_type": "display_data"
    }
   ],
   "source": [
    "profile_Ageom = dataset_correction_filtered.Profile1D((f\"Dataset {dataset_number} Geometrical correction profile\", f\"Dataset {dataset_number}, diagonal {diagonal_number} Geometrical correction factor profile;|t| [GeV^2];A_{{geom}} [-]\", len(binning)-1, binning), \"t\", \"A_geom\")\n",
    "profile_Afluct = dataset_correction_filtered.Profile1D((f\"Dataset {dataset_number} Divergence correction profile\", f\"Dataset {dataset_number}, diagonal {diagonal_number} Divergence correction factor profile;|t| [GeV^2];A_{{fluct}} [-]\", len(binning)-1, binning), \"t\", \"A_fluct\")\n",
    "\n",
    "\n",
    "corrections_canvas = ROOT.TCanvas(\"c11\", \"Phi_profile\", 1000, 500)\n",
    "corrections_canvas.Divide(2, 1)\n",
    "\n",
    "corrections_canvas.cd(1)\n",
    "profile_Ageom.SetStats(0)\n",
    "profile_Ageom.Draw()\n",
    "profile_Ageom.GetYaxis().SetRangeUser(2,8.5)\n",
    "\n",
    "corrections_canvas.cd(2)\n",
    "profile_Afluct.SetStats(0)\n",
    "profile_Afluct.Draw()\n",
    "\n",
    "\n",
    "corrections_canvas.Draw()"
   ]
  },
  {
   "cell_type": "markdown",
   "metadata": {},
   "source": [
    "**Figure 2.** Correction factor profiles: $A_{geom}$ on the left and $A_{fluct}$ on the right."
   ]
  },
  {
   "cell_type": "markdown",
   "metadata": {},
   "source": [
    "**The plot on the left displays $A_{\\text{geom}}(|t|)$, which quantifies the fraction of the phase space that is actually covered by the detector.**\n",
    "* There is a sharp change in curvature at $|t| \\approx 0.16\\ , \\text{GeV}^2$, which corresponds to the point where events start to be cut off by the LHC aperture, not just the sensor edges.\n",
    "* At very low $|t|$, the correction is large because the acceptance is narrow — the detectors can't see protons scattered at extremely small angles.\n",
    "As $|t|$ increases, more of the elastic phase space becomes visible, and $A_{\\text{geom}}$ decreases, but after the aperture limit is reached, it increases again because high-angle protons are blocked.\n",
    "\n",
    "**The graph on the right depicts $A_{\\text{fluct}}(|t|)$, which accounts for how much the beam divergence and resolution smear the scattering angles, causing protons to “leak” out of the acceptance.**\n",
    "* $A_{\\text{fluct}}$ is close to 1 across most of the range. This means fluctuations are not very large and corrections are moderate.\n",
    "* At the edges of acceptance, particularly near $|t| \\approx 0.1$–$0.2\\, \\text{GeV}^2 $, we see small peaks due to the enhanced impact of beam divergence.\n",
    "* The fluctuations are modeled as a Gaussian beam smearing, and this correction ensures events near acceptance limits are not over- or under-counted.\n",
    "\n"
   ]
  },
  {
   "cell_type": "markdown",
   "metadata": {},
   "source": [
    "### Combined Correction Plot"
   ]
  },
  {
   "cell_type": "code",
   "execution_count": 12,
   "metadata": {},
   "outputs": [
    {
     "data": {
      "text/html": [
       "\n",
       "\n",
       "<div id=\"root_plot_1754524554151\" style=\"width: 700px; height: 500px; position: relative\">\n",
       "</div>\n",
       "\n",
       "<script>\n",
       "\n",
       "function display_root_plot_1754524554151(Core) {\n",
       "   let obj = Core.parse({\"_typename\":\"TCanvasWebSnapshot\",\"fUniqueID\":0,\"fBits\":0,\"fObjectID\":\"\",\"fOption\":\"\",\"fKind\":3,\"fSnapshot\":{\"_typename\":\"TCanvas\",\"fUniqueID\":0,\"fBits\":3342344,\"fLineColor\":1,\"fLineStyle\":1,\"fLineWidth\":1,\"fFillColor\":0,\"fFillStyle\":1001,\"fLeftMargin\":0.1,\"fRightMargin\":0.1,\"fBottomMargin\":0.1,\"fTopMargin\":0.1,\"fXfile\":2,\"fYfile\":2,\"fAfile\":1,\"fXstat\":0.99,\"fYstat\":0.99,\"fAstat\":2,\"fFrameFillColor\":0,\"fFrameLineColor\":1,\"fFrameFillStyle\":1001,\"fFrameLineStyle\":1,\"fFrameLineWidth\":1,\"fFrameBorderSize\":1,\"fFrameBorderMode\":0,\"fX1\":-0.0421875034859406,\"fY1\":0.624999897554511,\"fX2\":0.425687503485941,\"fY2\":14.3750001024455,\"fXtoAbsPixelk\":62.757150924241,\"fXtoPixelk\":62.757150924241,\"fXtoPixel\":1487.5767878788,\"fYtoAbsPixelk\":493.454541618174,\"fYtoPixelk\":493.454541618174,\"fYtoPixel\":-34.3272722157565,\"fUtoAbsPixelk\":0,\"fUtoPixelk\":0,\"fUtoPixel\":696,\"fVtoAbsPixelk\":472,\"fVtoPixelk\":472,\"fVtoPixel\":-472,\"fAbsPixeltoXk\":-0.0421875034859406,\"fPixeltoXk\":-0.0421875034859406,\"fPixeltoX\":6.7223420541937e-4,\"fAbsPixeltoYk\":14.3750001024455,\"fPixeltoYk\":0.624999897554511,\"fPixeltoY\":-0.0291313563662944,\"fXlowNDC\":0,\"fYlowNDC\":0,\"fXUpNDC\":1,\"fYUpNDC\":1,\"fWNDC\":1,\"fHNDC\":1,\"fAbsXlowNDC\":0,\"fAbsYlowNDC\":0,\"fAbsWNDC\":1,\"fAbsHNDC\":1,\"fUxmin\":0.0046,\"fUymin\":2,\"fUxmax\":0.3789,\"fUymax\":13,\"fTheta\":30,\"fPhi\":30,\"fAspectRatio\":0,\"fNumber\":0,\"fTickx\":0,\"fTicky\":0,\"fLogx\":0,\"fLogy\":0,\"fLogz\":0,\"fPadPaint\":0,\"fCrosshair\":0,\"fCrosshairPos\":0,\"fBorderSize\":2,\"fBorderMode\":0,\"fModified\":false,\"fGridx\":false,\"fGridy\":false,\"fAbsCoord\":false,\"fEditable\":true,\"fFixedAspectRatio\":false,\"fPrimitives\":{\"_typename\":\"TList\",\"name\":\"TList\",\"arr\":[],\"opt\":[]},\"fExecs\":null,\"fName\":\"c13\",\"fTitle\":\"correction_profile\",\"fNumPaletteColor\":0,\"fNextPaletteColor\":0,\"fDISPLAY\":\"$DISPLAY\",\"fDoubleBuffer\":0,\"fRetained\":true,\"fXsizeUser\":0,\"fYsizeUser\":0,\"fXsizeReal\":20,\"fYsizeReal\":14.28571,\"fWindowTopX\":0,\"fWindowTopY\":0,\"fWindowWidth\":0,\"fWindowHeight\":0,\"fCw\":696,\"fCh\":472,\"fCatt\":{\"_typename\":\"TAttCanvas\",\"fXBetween\":2,\"fYBetween\":2,\"fTitleFromTop\":1.2,\"fXdate\":0.2,\"fYdate\":0.3,\"fAdate\":1},\"kMoveOpaque\":true,\"kResizeOpaque\":true,\"fHighLightColor\":2,\"fBatch\":true,\"kShowEventStatus\":false,\"kAutoExec\":true,\"kMenuBar\":true},\"fActive\":false,\"fReadOnly\":true,\"fWithoutPrimitives\":false,\"fHasExecs\":false,\"fPrimitives\":[{\"_typename\":\"TWebSnapshot\",\"fUniqueID\":0,\"fBits\":0,\"fObjectID\":\"\",\"fOption\":\"\",\"fKind\":4,\"fSnapshot\":{\"_typename\":\"TWebPainting\",\"fUniqueID\":0,\"fBits\":0,\"fOper\":\"0:255,255,255;1:0,0,0;2:255,0,0;3:0,255,0;4:0,0,255;5:255,255,0;6:255,0,255;7:0,255,255;8:89,211,84;9:89,84,216;10:254,254,254;11:192,182,172;12:76,76,76;13:102,102,102;14:127,127,127;15:153,153,153;16:178,178,178;17:204,204,204;18:229,229,229;19:242,242,242;20:204,198,170;21:204,198,170;22:193,191,168;23:186,181,163;24:178,165,150;25:183,163,155;26:173,153,140;27:155,142,130;28:135,102,86;29:175,206,198;30:132,193,163;31:137,168,160;32:130,158,140;33:173,188,198;34:122,142,153;35:117,137,145;36:104,130,150;37:109,122,132;38:124,153,209;39:127,127,155;40:170,165,191;41:211,206,135;42:221,186,135;43:188,158,130;44:198,153,124;45:191,130,119;46:206,94,96;47:170,142,147;48:165,119,122;49:147,104,112;50:211,89,84;51:146,0,255;52:122,0,255;53:98,0,255;54:74,0,255;55:51,0,255;56:27,0,255;57:3,0,255;58:0,20,255;59:0,44,255;60:0,68,255;61:0,91,255;62:0,115,255;63:0,139,255;64:0,163,255;65:0,187,255;66:0,210,255;67:0,234,255;68:0,255,251;69:0,255,227;70:0,255,204;71:0,255,180;72:0,255,156;73:0,255,132;74:0,255,108;75:0,255,85;76:0,255,61;77:0,255,37;78:0,255,13;79:10,255,0;80:34,255,0;81:57,255,0;82:81,255,0;83:105,255,0;84:129,255,0;85:153,255,0;86:176,255,0;87:200,255,0;88:224,255,0;89:248,255,0;90:255,238,0;91:255,214,0;92:255,190,0;93:255,166,0;94:255,142,0;95:255,119,0;96:255,95,0;97:255,71,0;98:255,47,0;99:255,23,0;100:111,45,168;101:165,42,42;102:178,190,181;103:87,144,252;104:248,156,32;105:228,37,54;106:150,74,139;107:156,156,161;108:122,33,221;109:24,69,251;110:255,94,2;111:201,31,22;112:200,73,169;113:173,173,125;114:134,200,221;115:87,141,255;116:101,99,100;117:63,144,218;118:255,169,14;119:189,31,1;120:148,164,162;121:131,45,182;122:169,107,89;123:231,99,0;124:185,172,112;125:113,117,129;126:146,218,221;127:178,178,178;201:91,91,91;202:122,122,122;203:183,183,183;204:214,214,214;205:137,15,15;206:183,20,20;207:234,71,71;208:239,117,117;209:15,137,15;210:20,183,20;211:71,234,71;212:117,239,117;213:15,15,137;214:20,20,183;215:71,71,234;216:117,117,239;217:137,137,15;218:183,183,20;219:234,234,71;220:239,239,117;221:137,15,137;222:183,20,183;223:234,71,234;224:239,117,239;225:15,137,137;226:20,183,183;227:71,234,234;228:117,239,239;390:255,255,204;391:255,255,153;392:204,204,153;393:255,255,102;394:204,204,102;395:153,153,102;396:255,255,51;397:204,204,51;398:153,153,51;399:102,102,51;400:255,255,0;401:204,204,0;402:153,153,0;403:102,102,0;404:51,51,0;406:204,255,204;407:153,255,153;408:153,204,153;409:102,255,102;410:102,204,102;411:102,153,102;412:51,255,51;413:51,204,51;414:51,153,51;415:51,102,51;416:0,255,0;417:0,204,0;418:0,153,0;419:0,102,0;420:0,51,0;422:204,255,255;423:153,255,255;424:153,204,204;425:102,255,255;426:102,204,204;427:102,153,153;428:51,255,255;429:51,204,204;430:51,153,153;431:51,102,102;432:0,255,255;433:0,204,204;434:0,153,153;435:0,102,102;436:0,51,51;590:204,204,255;591:153,153,255;592:153,153,204;593:102,102,255;594:102,102,204;595:102,102,153;596:51,51,255;597:51,51,204;598:51,51,153;599:51,51,102;600:0,0,255;601:0,0,204;602:0,0,153;603:0,0,102;604:0,0,51;606:255,204,255;607:255,153,255;608:204,153,204;609:255,102,255;610:204,102,204;611:153,102,153;612:255,51,255;613:204,51,204;614:153,51,153;615:102,51,102;616:255,0,255;617:204,0,204;618:153,0,153;619:102,0,102;620:51,0,51;622:255,204,204;623:255,153,153;624:204,153,153;625:255,102,102;626:204,102,102;627:153,102,102;628:255,51,51;629:204,51,51;630:153,51,51;631:102,51,51;632:255,0,0;633:204,0,0;634:153,0,0;635:102,0,0;636:51,0,0;791:255,204,153;792:204,153,102;793:153,102,51;794:153,102,0;795:204,153,51;796:255,204,102;797:255,153,0;798:255,204,51;799:204,153,0;800:255,204,0;801:255,153,51;802:204,102,0;803:102,51,0;804:153,51,0;805:204,102,51;806:255,153,102;807:255,102,0;808:255,102,51;809:204,51,0;810:255,51,0;811:153,255,51;812:102,204,0;813:51,102,0;814:51,153,0;815:102,204,51;816:153,255,102;817:102,255,0;818:102,255,51;819:51,204,0;820:51,255,0;821:204,255,153;822:153,204,102;823:102,153,51;824:102,153,0;825:153,204,51;826:204,255,102;827:153,255,0;828:204,255,51;829:153,204,0;830:204,255,0;831:153,255,204;832:102,204,153;833:51,153,102;834:0,153,102;835:51,204,153;836:102,255,204;837:0,255,102;838:51,255,204;839:0,204,153;840:0,255,204;841:51,255,153;842:0,204,102;843:0,102,51;844:0,153,51;845:51,204,102;846:102,255,153;847:0,255,153;848:51,255,102;849:0,204,51;850:0,255,51;851:153,204,255;852:102,153,204;853:51,102,153;854:0,51,153;855:51,102,204;856:102,153,255;857:0,102,255;858:51,102,255;859:0,51,204;860:0,51,255;861:51,153,255;862:0,102,204;863:0,51,102;864:0,102,153;865:51,153,204;866:102,204,255;867:0,153,255;868:51,204,255;869:0,153,204;870:0,204,255;871:204,153,255;872:153,102,204;873:102,51,153;874:102,0,153;875:153,51,204;876:204,102,255;877:153,0,255;878:204,51,255;879:153,0,204;880:204,0,255;881:153,51,255;882:102,0,204;883:51,0,102;884:51,0,153;885:102,51,204;886:153,102,255;887:102,0,255;888:102,51,255;889:51,0,204;890:51,0,255;891:255,51,153;892:204,0,102;893:102,0,51;894:153,0,51;895:204,51,102;896:255,102,153;897:255,0,102;898:255,51,102;899:204,0,51;900:255,0,51;901:255,153,204;902:204,102,153;903:153,51,102;904:153,0,102;905:204,51,153;906:255,102,204;907:255,0,153;908:204,0,153;909:255,51,204;910:255,0,153;920:204,204,204;921:153,153,153;922:102,102,102;923:51,51,51;924:53,42,134;925:51,44,137;926:50,45,140;927:49,47,143;928:48,48,146;929:46,50,148;930:45,51,151;931:44,53,154;932:43,55,157;933:42,56,160;934:40,58,162;935:39,59,165;936:38,61,168;937:37,63,171;938:35,64,174;939:34,66,176;940:33,67,179;941:32,69,182;942:31,71,185;943:29,72,187;944:28,74,190;945:27,75,193;946:26,77,196;947:24,79,199;948:23,80,201;949:22,82,204;950:21,83,207;951:19,85,210;952:18,86,213;953:17,88,215;954:16,90,218;955:15,91,221;956:15,92,221;957:15,94,220;958:15,95,220;959:15,96,220;960:15,97,220;961:15,98,220;962:16,99,219;963:16,100,219;964:16,102,219;965:16,103,219;966:16,104,218;967:16,105,218;968:17,106,218;969:17,107,218;970:17,109,217;971:17,110,217;972:17,111,217;973:17,112,217;974:17,113,216;975:18,114,216;976:18,115,216;977:18,117,216;978:18,118,215;979:18,119,215;980:18,120,215;981:18,121,215;982:19,122,215;983:19,123,214;984:19,125,214;985:19,126,214;986:19,127,214;987:19,128,213;988:19,129,213;989:19,130,213;990:18,131,212;991:18,132,212;992:17,134,211;993:17,135,211;994:16,136,211;995:16,137,210;996:15,138,210;997:15,139,210;998:15,140,209;999:14,141,209;1000:14,142,208;1001:13,143,208;1002:13,145,208;1003:12,146,207;1004:12,147,207;1005:12,148,207;1006:11,149,206;1007:11,150,206;1008:10,151,205;1009:10,152,205;1010:9,153,205;1011:9,154,204;1012:8,155,204;1013:8,157,204;1014:8,158,203;1015:7,159,203;1016:7,160,202;1017:6,161,202;1018:6,162,202;1019:5,163,201;1020:7,164,200;1021:8,164,199;1022:9,165,198;1023:10,166,197;1024:12,166,195;1025:13,167,194;1026:14,167,193;1027:15,168,192;1028:17,169,191;1029:18,169,189;1030:19,170,188;1031:20,170,187;1032:22,171,186;1033:23,172,185;1034:24,172,184;1035:25,173,182;1036:27,173,181;1037:28,174,180;1038:29,175,179;1039:30,175,178;1040:32,176,176;1041:33,176,175;1042:34,177,174;1043:35,178,173;1044:37,178,172;1045:38,179,170;1046:39,180,169;1047:40,180,168;1048:42,181,167;1049:43,181,166;1050:44,182,165;1051:45,183,163;1052:48,183,162;1053:51,183,161;1054:54,183,159;1055:57,184,158;1056:59,184,156;1057:62,184,155;1058:65,184,154;1059:68,185,152;1060:71,185,151;1061:73,185,149;1062:76,185,148;1063:79,186,146;1064:82,186,145;1065:84,186,144;1066:87,186,142;1067:90,187,141;1068:93,187,139;1069:96,187,138;1070:98,187,137;1071:101,188,135;1072:104,188,134;1073:107,188,132;1074:110,188,131;1075:112,189,130;1076:115,189,128;1077:118,189,127;1078:121,189,125;1079:124,190,124;1080:126,190,123;1081:129,190,121;1082:132,190,120;1083:135,191,118;1084:137,190,117;1085:139,190,117;1086:142,190,116;1087:144,190,115;1088:146,190,114;1089:148,190,113;1090:151,190,112;1091:153,190,111;1092:155,189,110;1093:158,189,109;1094:160,189,108;1095:162,189,107;1096:165,189,106;1097:167,189,105;1098:169,189,104;1099:171,188,104;1100:174,188,103;1101:176,188,102;1102:178,188,101;1103:181,188,100;1104:183,188,99;1105:185,188,98;1106:188,188,97;1107:190,187,96;1108:192,187,95;1109:194,187,94;1110:197,187,93;1111:199,187,92;1112:201,187,92;1113:204,187,91;1114:206,186,90;1115:208,186,89;1116:210,187,88;1117:211,187,86;1118:212,188,85;1119:214,188,84;1120:215,188,83;1121:217,189,81;1122:218,189,80;1123:220,190,79;1124:221,190,78;1125:222,191,77;1126:224,191,75;1127:225,191,74;1128:227,192,73;1129:228,192,72;1130:229,193,70;1131:231,193,69;1132:232,194,68;1133:234,194,67;1134:235,194,66;1135:236,195,64;1136:238,195,63;1137:239,196,62;1138:241,196,61;1139:242,197,59;1140:244,197,58;1141:245,197,57;1142:246,198,56;1143:248,198,55;1144:249,199,53;1145:251,199,52;1146:252,200,51;1147:253,200,50;1148:253,202,49;1149:253,203,47;1150:253,205,46;1151:253,206,45;1152:253,208,44;1153:252,209,43;1154:252,211,42;1155:252,213,41;1156:252,214,39;1157:252,216,38;1158:252,217,37;1159:252,219,36;1160:251,220,35;1161:251,222,34;1162:251,224,33;1163:251,225,31;1164:251,227,30;1165:251,228,29;1166:250,230,28;1167:250,231,27;1168:250,233,26;1169:250,235,25;1170:250,236,23;1171:250,238,22;1172:250,239,21;1173:249,241,20;1174:249,242,19;1175:249,244,18;1176:249,246,17;1177:249,247,16;1178:249,249,14\",\"fBuf\":{\"$arr\":\"Float32\",\"len\":255,\"v\":[924,925,926,927,928,929,930,931,932,933,934,935,936,937,938,939,940,941,942,943,944,945,946,947,948,949,950,951,952,953,954,955,956,957,958,959,960,961,962,963,964,965,966,967,968,969,970,971,972,973,974,975,976,977,978,979,980,981,982,983,984,985,986,987,988,989,990,991,992,993,994,995,996,997,998,999,1000,1001,1002,1003,1004,1005,1006,1007,1008,1009,1010,1011,1012,1013,1014,1015,1016,1017,1018,1019,1020,1021,1022,1023,1024,1025,1026,1027,1028,1029,1030,1031,1032,1033,1034,1035,1036,1037,1038,1039,1040,1041,1042,1043,1044,1045,1046,1047,1048,1049,1050,1051,1052,1053,1054,1055,1056,1057,1058,1059,1060,1061,1062,1063,1064,1065,1066,1067,1068,1069,1070,1071,1072,1073,1074,1075,1076,1077,1078,1079,1080,1081,1082,1083,1084,1085,1086,1087,1088,1089,1090,1091,1092,1093,1094,1095,1096,1097,1098,1099,1100,1101,1102,1103,1104,1105,1106,1107,1108,1109,1110,1111,1112,1113,1114,1115,1116,1117,1118,1119,1120,1121,1122,1123,1124,1125,1126,1127,1128,1129,1130,1131,1132,1133,1134,1135,1136,1137,1138,1139,1140,1141,1142,1143,1144,1145,1146,1147,1148,1149,1150,1151,1152,1153,1154,1155,1156,1157,1158,1159,1160,1161,1162,1163,1164,1165,1166,1167,1168,1169,1170,1171,1172,1173,1174,1175,1176,1177,1178]}}},{\"_typename\":\"TWebSnapshot\",\"fUniqueID\":0,\"fBits\":0,\"fObjectID\":\"\",\"fOption\":\"\",\"fKind\":5,\"fSnapshot\":{\"_typename\":\"TStyle\",\"fUniqueID\":0,\"fBits\":0,\"fName\":\"Modern\",\"fTitle\":\"Modern Style\",\"fLineColor\":1,\"fLineStyle\":1,\"fLineWidth\":1,\"fFillColor\":19,\"fFillStyle\":1001,\"fMarkerColor\":1,\"fMarkerStyle\":1,\"fMarkerSize\":1,\"fTextAngle\":0,\"fTextSize\":0.05,\"fTextAlign\":11,\"fTextColor\":1,\"fTextFont\":62,\"fXaxis\":{\"_typename\":\"TAttAxis\",\"fNdivisions\":510,\"fAxisColor\":1,\"fLabelColor\":1,\"fLabelFont\":42,\"fLabelOffset\":0.005,\"fLabelSize\":0.035,\"fTickLength\":0.03,\"fTitleOffset\":1,\"fTitleSize\":0.035,\"fTitleColor\":1,\"fTitleFont\":42},\"fYaxis\":{\"_typename\":\"TAttAxis\",\"fNdivisions\":510,\"fAxisColor\":1,\"fLabelColor\":1,\"fLabelFont\":42,\"fLabelOffset\":0.005,\"fLabelSize\":0.035,\"fTickLength\":0.03,\"fTitleOffset\":0,\"fTitleSize\":0.035,\"fTitleColor\":1,\"fTitleFont\":42},\"fZaxis\":{\"_typename\":\"TAttAxis\",\"fNdivisions\":510,\"fAxisColor\":1,\"fLabelColor\":1,\"fLabelFont\":42,\"fLabelOffset\":0.005,\"fLabelSize\":0.035,\"fTickLength\":0.03,\"fTitleOffset\":1,\"fTitleSize\":0.035,\"fTitleColor\":1,\"fTitleFont\":42},\"fBarWidth\":1,\"fBarOffset\":0,\"fColorModelPS\":0,\"fDrawBorder\":0,\"fOptLogx\":0,\"fOptLogy\":0,\"fOptLogz\":0,\"fOptDate\":0,\"fOptStat\":1111,\"fOptTitle\":1,\"fOptFile\":0,\"fOptFit\":0,\"fShowEventStatus\":0,\"fShowEditor\":0,\"fShowToolBar\":0,\"fNumberContours\":20,\"fAttDate\":{\"_typename\":\"TAttText\",\"fTextAngle\":0,\"fTextSize\":0.025,\"fTextAlign\":11,\"fTextColor\":1,\"fTextFont\":62},\"fDateX\":0.01,\"fDateY\":0.01,\"fEndErrorSize\":2,\"fErrorX\":0.5,\"fFuncColor\":2,\"fFuncStyle\":1,\"fFuncWidth\":2,\"fGridColor\":0,\"fGridStyle\":3,\"fGridWidth\":1,\"fLegendBorderSize\":1,\"fLegendFillColor\":0,\"fLegendFillStyle\":1001,\"fLegendFont\":42,\"fLegendTextSize\":0,\"fHatchesLineWidth\":1,\"fHatchesSpacing\":1,\"fFrameFillColor\":0,\"fFrameLineColor\":1,\"fFrameFillStyle\":1001,\"fFrameLineStyle\":1,\"fFrameLineWidth\":1,\"fFrameBorderSize\":1,\"fFrameBorderMode\":0,\"fHistFillColor\":0,\"fHistLineColor\":602,\"fHistFillStyle\":1001,\"fHistLineStyle\":1,\"fHistLineWidth\":1,\"fHistMinimumZero\":false,\"fHistTopMargin\":0.05,\"fCanvasPreferGL\":false,\"fCanvasColor\":0,\"fCanvasBorderSize\":2,\"fCanvasBorderMode\":0,\"fCanvasDefH\":500,\"fCanvasDefW\":700,\"fCanvasDefX\":10,\"fCanvasDefY\":10,\"fPadColor\":0,\"fPadBorderSize\":2,\"fPadBorderMode\":0,\"fPadBottomMargin\":0.1,\"fPadTopMargin\":0.1,\"fPadLeftMargin\":0.1,\"fPadRightMargin\":0.1,\"fPadGridX\":false,\"fPadGridY\":false,\"fPadTickX\":0,\"fPadTickY\":0,\"fPaperSizeX\":20,\"fPaperSizeY\":26,\"fScreenFactor\":1,\"fStatColor\":0,\"fStatTextColor\":1,\"fStatBorderSize\":1,\"fStatFont\":42,\"fStatFontSize\":0,\"fStatStyle\":1001,\"fStatFormat\":\"6.4g\",\"fStatX\":0.98,\"fStatY\":0.935,\"fStatW\":0.2,\"fStatH\":0.16,\"fStripDecimals\":true,\"fTitleAlign\":23,\"fTitleColor\":0,\"fTitleTextColor\":1,\"fTitleBorderSize\":0,\"fTitleFont\":42,\"fTitleFontSize\":0.05,\"fTitleStyle\":0,\"fTitleX\":0.5,\"fTitleY\":0.995,\"fTitleW\":0,\"fTitleH\":0,\"fLegoInnerR\":0.5,\"fLineStyles\":[\"\",\"  \",\" 12 12\",\" 4 8\",\" 12 16 4 16\",\" 20 12 4 12\",\" 20 12 4 12 4 12 4 12\",\" 20 20\",\" 20 12 4 12 4 12\",\" 80 20\",\" 80 40 4 40\",\"  \",\"  \",\"  \",\"  \",\"  \",\"  \",\"  \",\"  \",\"  \",\"  \",\"  \",\"  \",\"  \",\"  \",\"  \",\"  \",\"  \",\"  \",\"  \"],\"fHeaderPS\":\"\",\"fTitlePS\":\"\",\"fFitFormat\":\"5.4g\",\"fPaintTextFormat\":\"g\",\"fLineScalePS\":3,\"fJoinLinePS\":0,\"fCapLinePS\":0,\"fTimeOffset\":788918400,\"fImageScaling\":1,\"fCandleWhiskerRange\":1,\"fCandleBoxRange\":0.5,\"fCandleScaled\":false,\"fViolinScaled\":true,\"fXAxisExpXOffset\":0,\"fXAxisExpYOffset\":0,\"fYAxisExpXOffset\":0,\"fYAxisExpYOffset\":0,\"fAxisMaxDigits\":5,\"fOrthoCamera\":false}},{\"_typename\":\"TWebSnapshot\",\"fUniqueID\":0,\"fBits\":0,\"fObjectID\":\"\",\"fOption\":\"\",\"fKind\":1,\"fSnapshot\":{\"_typename\":\"TFrame\",\"fUniqueID\":0,\"fBits\":8,\"fLineColor\":1,\"fLineStyle\":1,\"fLineWidth\":1,\"fFillColor\":0,\"fFillStyle\":1001,\"fX1\":0.0046,\"fY1\":2,\"fX2\":0.3789,\"fY2\":13,\"fBorderSize\":1,\"fBorderMode\":0}},{\"_typename\":\"TWebSnapshot\",\"fUniqueID\":0,\"fBits\":0,\"fObjectID\":\"\",\"fOption\":\"\",\"fKind\":1,\"fSnapshot\":{\"_typename\":\"TProfile\",\"fUniqueID\":0,\"fBits\":520,\"fName\":\"Dataset 3, diagonal 1 Correction profile\",\"fTitle\":\"Dataset 3, diagonal 1 Acceptance correction factor profile\",\"fLineColor\":602,\"fLineStyle\":1,\"fLineWidth\":1,\"fFillColor\":0,\"fFillStyle\":1001,\"fMarkerColor\":1,\"fMarkerStyle\":1,\"fMarkerSize\":1,\"fNcells\":89,\"fXaxis\":{\"_typename\":\"TAxis\",\"fUniqueID\":0,\"fBits\":0,\"fName\":\"xaxis\",\"fTitle\":\"|t| [GeV^2]\",\"fNdivisions\":510,\"fAxisColor\":1,\"fLabelColor\":1,\"fLabelFont\":42,\"fLabelOffset\":0.005,\"fLabelSize\":0.035,\"fTickLength\":0.03,\"fTitleOffset\":1,\"fTitleSize\":0.035,\"fTitleColor\":1,\"fTitleFont\":42,\"fNbins\":87,\"fXmin\":0.0046,\"fXmax\":0.3789,\"fXbins\":{\"$arr\":\"Float64\",\"len\":88,\"v\":[0.0046,0.0057,0.0073,0.009059,0.01084,0.01263,0.01445,0.01629,0.01814,0.02002,0.02192,0.02384,0.02579,0.02775,0.02974,0.03176,0.0338,0.03586,0.03795,0.04007,0.04221,0.04438,0.04658,0.04881,0.05107,0.05336,0.05569,0.05804,0.06043,0.06286,0.06532,0.06781,0.07035,0.07292,0.07554,0.07819,0.08089,0.08364,0.08643,0.08926,0.09215,0.09509,0.09808,0.1011,0.1042,0.1074,0.1106,0.1139,0.1172,0.1207,0.1241,0.1277,0.1314,0.1351,0.1389,0.1428,0.1468,0.1509,0.1551,0.1594,0.1638,0.1683,0.173,0.1778,0.1827,0.1878,0.1931,0.1985,0.2041,0.2099,0.2159,0.2221,0.2286,0.2353,0.2424,0.2497,0.2573,0.2654,0.2738,0.2827,0.2921,0.3021,0.3127,0.324,0.3361,0.3492,0.3634,0.3789]},\"fFirst\":0,\"fLast\":0,\"fBits2\":0,\"fTimeDisplay\":false,\"fTimeFormat\":\"\",\"fLabels\":null,\"fModLabs\":null},\"fYaxis\":{\"_typename\":\"TAxis\",\"fUniqueID\":0,\"fBits\":0,\"fName\":\"yaxis\",\"fTitle\":\"A [-]\",\"fNdivisions\":510,\"fAxisColor\":1,\"fLabelColor\":1,\"fLabelFont\":42,\"fLabelOffset\":0.005,\"fLabelSize\":0.035,\"fTickLength\":0.03,\"fTitleOffset\":0,\"fTitleSize\":0.035,\"fTitleColor\":1,\"fTitleFont\":42,\"fNbins\":1,\"fXmin\":0,\"fXmax\":1,\"fXbins\":[],\"fFirst\":0,\"fLast\":0,\"fBits2\":0,\"fTimeDisplay\":false,\"fTimeFormat\":\"\",\"fLabels\":null,\"fModLabs\":null},\"fZaxis\":{\"_typename\":\"TAxis\",\"fUniqueID\":0,\"fBits\":0,\"fName\":\"zaxis\",\"fTitle\":\"\",\"fNdivisions\":510,\"fAxisColor\":1,\"fLabelColor\":1,\"fLabelFont\":42,\"fLabelOffset\":0.005,\"fLabelSize\":0.035,\"fTickLength\":0.03,\"fTitleOffset\":1,\"fTitleSize\":0.035,\"fTitleColor\":1,\"fTitleFont\":42,\"fNbins\":1,\"fXmin\":0,\"fXmax\":1,\"fXbins\":[],\"fFirst\":0,\"fLast\":0,\"fBits2\":0,\"fTimeDisplay\":false,\"fTimeFormat\":\"\",\"fLabels\":null,\"fModLabs\":null},\"fBarOffset\":0,\"fBarWidth\":1000,\"fEntries\":42645,\"fTsumw\":42628,\"fTsumw2\":42628,\"fTsumwx\":2437.75573091383,\"fTsumwx2\":222.573961967251,\"fMaximum\":13,\"fMinimum\":2,\"fNormFactor\":0,\"fContour\":[],\"fSumw2\":{\"$arr\":\"Float64\",\"len\":89,\"p\":1,\"v\":[36256.9347020377,25014.2652959995,18422.4759378932,15430.3399286513,13810.8708023058,12060.7533661438,11773.8411650193,11041.8441473364,9685.31823531307,10495.9850127117,9862.94758814457,9222.10680234728,8612.3049130059,8260.57268918154,7387.96764634134,7769.32303744792,7042.07152934599,6663.20200639748,6924.16418079139,6485.18736429065,6050.40636675342,5818.36405040616,5744.77449114458,5873.02895480698,5487.06337012629,5236.11791139492,5224.18290047614,4932.1691980548,4722.66713587968,4520.90401293035,4479.70944765925,4137.75700275596,3924.08258564963,3821.94428036086,3534.2597177181,3601.3267093088,3686.07641777754,3377.94227186222,3286.01010039234,3001.33667955026,2821.79638251636,2632.37910998431,2434.91289910893,2563.65750952162,2442.36136741879,2109.95212673678,2181.02978327157,2053.72184872449,2102.57427370121,1931.52961087145,1852.68148518548,1748.02849574891,1608.57460639274,2079.9245164041,1579.14300545037,1762.21587683922,1422.97696897696,1687.52680711504,1905.17363149999,1701.3258507668,1388.61402391901,1514.27686012529,1307.68183084208,1222.80308970688,1517.84847105869,997.375803876706,980.846996549691,830.629771726167,996.383776621223,1013.54844739776,1003.01939294493,920.770096049332,581.431022914208,693.839857314386,657.238838469947,782.350608799962,666.3910986201,509.782082030578,441.667223423697,256.345503431975,447.924268055606,260.470404355754,285.161016812517,239.952262907114,198.537940867143,162.631634525245,68.7942230188609,1304.93071702342]},\"fOption\":\"\",\"fFunctions\":{\"_typename\":\"TList\",\"name\":\"TList\",\"arr\":[],\"opt\":[]},\"fBufferSize\":0,\"fBuffer\":[],\"fBinStatErrOpt\":0,\"fStatOverflows\":2,\"fArray\":{\"$arr\":\"Float64\",\"len\":89,\"p\":1,\"v\":[2297.05063538966,3886.53464359096,3885.25854778686,3828.75094623749,3789.86476260254,3543.22431562962,3576.33105047613,3536.78095411853,3182.72875241185,3508.04919172944,3367.61443453005,3196.66009306329,3089.7418683755,2954.04891129108,2729.58168669116,2887.39721962313,2666.31203207224,2543.76798893899,2624.52503979722,2516.74834298671,2371.19818486837,2285.29259845705,2262.81390251078,2325.77972273143,2159.51956119339,2085.62082160701,2119.0910346186,2012.51090843147,1925.81203750173,1854.99929229896,1825.18073711341,1702.34437770687,1632.81508677769,1585.15367231844,1482.63741764001,1498.50620469248,1532.3043667879,1436.10435385885,1395.476200023,1261.15904869927,1187.44856981507,1107.51460619072,1039.5308638475,1089.35538693756,1034.78294343022,916.203739597397,944.118136609983,890.167454260284,913.745056357891,828.851956943625,794.617048478247,716.641487060589,612.912351248895,744.061906593555,551.931466018897,586.81743194675,468.221494268754,524.756991357778,571.092128156181,492.720490272817,408.306303863425,439.715795634774,359.506575465458,330.052470435752,375.875483527723,245.394619097013,256.335002002737,207.232256451231,246.237186994308,240.851800829324,236.258341501724,211.444968190395,129.267229175894,155.806943933278,139.819936335223,161.824243170061,132.391284697632,105.899768496945,89.1158156578324,50.6209515413311,87.2545270360585,48.316526303215,46.6824703724223,43.811414304247,34.4561072930202,28.5155590047688,11.7296820299922,142.831094921379]},\"fBinEntries\":{\"$arr\":\"Float64\",\"len\":89,\"p\":1,\"v\":[181,645,856,979,1062,1059,1110,1146,1060,1195,1169,1130,1119,1078,1016,1083,1015,977,1010,982,933,903,899,929,863,840,863,823,790,765,752,706,682,662,624,629,644,611,594,536,505,472,446,468,444,398,410,387,398,359,342,301,249,278,198,201,156,168,176,148,121,128,101,90,98,63,67,52,61,58,56,49,29,35,30,34,27,22,18,10,17,9,8,8,6,5,2,17]},\"fErrorMode\":0,\"fYmin\":0,\"fYmax\":0,\"fTsumwy\":121203.505719918,\"fTsumwy2\":393250.402658312,\"fBinSumw2\":[]}},{\"_typename\":\"TWebSnapshot\",\"fUniqueID\":0,\"fBits\":0,\"fObjectID\":\"\",\"fOption\":\"blNDC\",\"fKind\":1,\"fSnapshot\":{\"_typename\":\"TPaveText\",\"fUniqueID\":0,\"fBits\":9,\"fLineColor\":1,\"fLineStyle\":1,\"fLineWidth\":1,\"fFillColor\":0,\"fFillStyle\":0,\"fX1\":0.0279937475598416,\"fY1\":13.4672671036369,\"fX2\":0.355506252440158,\"fY2\":14.3062501669861,\"fX1NDC\":0.15,\"fY1NDC\":0.933983055615829,\"fX2NDC\":0.85,\"fY2NDC\":0.995000004768372,\"fBorderSize\":0,\"fInit\":1,\"fShadowColor\":1,\"fCornerRadius\":0,\"fOption\":\"blNDC\",\"fName\":\"title\",\"fTextAngle\":0,\"fTextSize\":0,\"fTextAlign\":22,\"fTextColor\":1,\"fTextFont\":42,\"fLabel\":\"\",\"fLongest\":58,\"fMargin\":0.05,\"fLines\":{\"_typename\":\"TList\",\"name\":\"TList\",\"arr\":[{\"_typename\":\"TLatex\",\"fUniqueID\":0,\"fBits\":0,\"fName\":\"\",\"fTitle\":\"Dataset 3, diagonal 1 Acceptance correction factor profile\",\"fTextAngle\":0,\"fTextSize\":0,\"fTextAlign\":0,\"fTextColor\":0,\"fTextFont\":0,\"fX\":0,\"fY\":0,\"fLineColor\":1,\"fLineStyle\":1,\"fLineWidth\":2,\"fLimitFactorSize\":3,\"fOriginSize\":0.0518644079566002}],\"opt\":[\"\"]}}}],\"fScripts\":\"\",\"fHighlightConnect\":false,\"fFixedSize\":false});\n",
       "   Core.settings.HandleKeys = false;\n",
       "   Core.draw(\"root_plot_1754524554151\", obj, \"\");\n",
       "}\n",
       "\n",
       "function script_load_root_plot_1754524554151(src, on_error) {\n",
       "    let script = document.createElement('script');\n",
       "    script.src = src;\n",
       "    script.onload = function() { display_root_plot_1754524554151(JSROOT); };\n",
       "    script.onerror = function() { script.remove(); on_error(); };\n",
       "    document.head.appendChild(script);\n",
       "}\n",
       "\n",
       "if (typeof requirejs !== 'undefined') {\n",
       "\n",
       "    // We are in jupyter notebooks, use require.js which should be configured already\n",
       "    requirejs.config({\n",
       "       paths: { 'JSRootCore' : [ 'build/jsroot', 'https://root.cern/js/7.8.2/build/jsroot', 'https://jsroot.gsi.de/7.8.2/build/jsroot' ] }\n",
       "    })(['JSRootCore'],  function(Core) {\n",
       "       display_root_plot_1754524554151(Core);\n",
       "    });\n",
       "\n",
       "} else if (typeof JSROOT !== 'undefined') {\n",
       "\n",
       "   // JSROOT already loaded, just use it\n",
       "   display_root_plot_1754524554151(JSROOT);\n",
       "\n",
       "} else {\n",
       "\n",
       "    // We are in jupyterlab without require.js, directly loading jsroot\n",
       "    // Jupyterlab might be installed in a different base_url so we need to know it.\n",
       "    try {\n",
       "        var base_url = JSON.parse(document.getElementById('jupyter-config-data').innerHTML).baseUrl;\n",
       "    } catch(_) {\n",
       "        var base_url = '/';\n",
       "    }\n",
       "\n",
       "    // Try loading a local version of requirejs and fallback to cdn if not possible.\n",
       "    script_load_root_plot_1754524554151(base_url + 'static/build/jsroot.js', function(){\n",
       "        console.error('Fail to load JSROOT locally, please check your jupyter_notebook_config.py file');\n",
       "        script_load_root_plot_1754524554151('https://root.cern/js/7.8.2/build/jsroot.js', function(){\n",
       "            document.getElementById(\"root_plot_1754524554151\").innerHTML = \"Failed to load JSROOT\";\n",
       "        });\n",
       "    });\n",
       "}\n",
       "\n",
       "</script>\n"
      ],
      "text/plain": [
       "<IPython.core.display.HTML object>"
      ]
     },
     "metadata": {},
     "output_type": "display_data"
    }
   ],
   "source": [
    "profile_correction = dataset_correction_filtered.Profile1D((f\"Dataset {dataset_number}, diagonal {diagonal_number} Correction profile\", f\"Dataset {dataset_number}, diagonal {diagonal_number} Acceptance correction factor profile;|t| [GeV^2];A [-]\", len(binning)-1, binning), \"t\", \"correction\")\n",
    "\n",
    "correction_canvas = ROOT.TCanvas(\"c13\", \"correction_profile\")\n",
    "profile_correction.Draw()\n",
    "profile_correction.SetStats(0)\n",
    "profile_correction.GetYaxis().SetRangeUser(2, 13)\n",
    "\n",
    "correction_canvas.Draw()"
   ]
  },
  {
   "cell_type": "markdown",
   "metadata": {},
   "source": [
    "**Figure 3.** Full acceptance correction factor profile- product of the two factors plotted in Fig. 2.\n"
   ]
  },
  {
   "cell_type": "markdown",
   "metadata": {},
   "source": [
    "**Low $|t|$ Region ($|t| < 0.05\\, \\text{GeV}^2$):**\n",
    "The correction factor is high and drops sharply as $|t|$ increases.\n",
    "* At very small $|t|$, the corresponding scattering angle $\\theta^*_y$ is also small. These small-angle protons pass very close to the beam, where the detector cannot reach due to safety constraints. Thus, only a small fraction of the full angular phase space is detected → a large correction is required to compensate.\n",
    "\n",
    "**Middle Region ($0.05 < |t| < 0.15\\, \\text{GeV}^2$):**\n",
    "The correction factor reaches a minimum (~2.3), where acceptance is best.\n",
    "* In this region, most of the proton trajectories are well within the detector's acceptance. Both $A_{\\text{geom}}$ and $A_{\\text{fluct}}$ are small and stable. (most reliable for analysis.)\n",
    "\n",
    "**High $|t|$ Region ($|t| > 0.15\\, \\text{GeV}^2$):**\n",
    "Correction factor increases again, especially after $|t| \\approx 0.16\\, \\text{GeV}^2$.\n",
    "* This is where the LHC aperture limits affect acceptance—protons scattered at large angles may hit collimators or beam pipe boundaries.\n",
    "Additionally, fluctuations in angle can push events outside the acceptance even if their average $\\theta^*_y$ is within range."
   ]
  },
  {
   "cell_type": "markdown",
   "metadata": {},
   "source": [
    "## Reasonable Acceptance Correction Region\n",
    "\n",
    "The analysis was limited to bins where the correction factor $A(|t|)$ does not exceed 7.5. This decision is motivated by the following considerations:\n",
    "\n",
    "The acceptance correction factor $A(|t|)$ indicates how much the observed data must be scaled to reflect the true number of events. A high correction factor implies that:\n",
    "* A large fraction of events is missed by the detector due to geometrical and divergence-related limitations.\n",
    "* The resulting measurement at that $|t|$ is heavily reliant on extrapolation and is thus statistically and systematically less reliable.\n",
    "For example:\n",
    "\n",
    "$$A(|t|) = 7.5 \\Rightarrow \\text{Only } \\frac{1}{7.5} \\approx 13\\% \\text{ of the events are detected}$$\n",
    "\n",
    "This means 87% of events in that bin are missing and must be inferred from assumptions and corrections.\n",
    "\n",
    "So the threshold of 7.5 is a conservative upper bound that balances:\n",
    "* Retaining enough data for statistical significance,\n",
    "* Avoiding bins with excessive corrections. "
   ]
  },
  {
   "cell_type": "code",
   "execution_count": 13,
   "metadata": {},
   "outputs": [
    {
     "name": "stdout",
     "output_type": "stream",
     "text": [
      "t threshold value: 0.0057\n",
      "Diagonal 45b56t: pass=43361      all=89819      -- eff=48.28 % cumulative eff=48.28 %\n",
      "Valid correction values, correction > 0: pass=42793      all=43361      -- eff=98.69 % cumulative eff=47.64 %\n",
      " A_fluct < 3: pass=42645      all=42793      -- eff=99.65 % cumulative eff=47.48 %\n",
      "Region where correction <= 7.5 (t >= 0.0057): pass=42464      all=42645      -- eff=99.58 % cumulative eff=47.28 %\n"
     ]
    }
   ],
   "source": [
    "threshold = 7.5\n",
    "\n",
    "low = 0\n",
    "high = float(\"inf\")\n",
    "\n",
    "t_threshold = 0\n",
    "\n",
    "\n",
    "# Go through histogram from left to right\n",
    "for i in range(1, profile_correction.GetNbinsX() + 1):\n",
    "    bin_value = profile_correction.GetBinContent(i)  \n",
    "    # Find first bin that is below threshold but is not 0 and calculate t threshold to filter out\n",
    "    if bin_value < threshold and bin_value != 0:\n",
    "        bin_low_edge = profile_correction.GetBinLowEdge(i-1)\n",
    "        bin_width = profile_correction.GetBinWidth(i-1)\n",
    "        t_threshold = bin_low_edge + bin_width # bin right edge\n",
    "        break\n",
    "\n",
    "print(\"t threshold value:\", t_threshold)\n",
    "\n",
    "\n",
    "dataset_correction_valid = dataset_correction_filtered.Filter(f\"t >= {t_threshold}\", f\"Region where correction <= 7.5 (t >= {t_threshold})\")\n",
    "dataset_correction_valid.Report().Print()"
   ]
  },
  {
   "cell_type": "markdown",
   "metadata": {},
   "source": [
    "### Acceptance Correction Profile with Applied Threshold "
   ]
  },
  {
   "cell_type": "code",
   "execution_count": 14,
   "metadata": {},
   "outputs": [
    {
     "name": "stderr",
     "output_type": "stream",
     "text": [
      "Warning in <TCanvas::Constructor>: Deleting canvas with same name: c13\n"
     ]
    },
    {
     "data": {
      "text/html": [
       "\n",
       "\n",
       "<div id=\"root_plot_1754524554768\" style=\"width: 700px; height: 500px; position: relative\">\n",
       "</div>\n",
       "\n",
       "<script>\n",
       "\n",
       "function display_root_plot_1754524554768(Core) {\n",
       "   let obj = Core.parse({\"_typename\":\"TCanvasWebSnapshot\",\"fUniqueID\":0,\"fBits\":0,\"fObjectID\":\"\",\"fOption\":\"\",\"fKind\":3,\"fSnapshot\":{\"_typename\":\"TCanvas\",\"fUniqueID\":0,\"fBits\":3342344,\"fLineColor\":1,\"fLineStyle\":1,\"fLineWidth\":1,\"fFillColor\":0,\"fFillStyle\":1001,\"fLeftMargin\":0.1,\"fRightMargin\":0.1,\"fBottomMargin\":0.1,\"fTopMargin\":0.1,\"fXfile\":2,\"fYfile\":2,\"fAfile\":1,\"fXstat\":0.99,\"fYstat\":0.99,\"fAstat\":2,\"fFrameFillColor\":0,\"fFrameLineColor\":1,\"fFrameFillStyle\":1001,\"fFrameLineStyle\":1,\"fFrameLineWidth\":1,\"fFrameBorderSize\":1,\"fFrameBorderMode\":0,\"fX1\":-0.0421875034859406,\"fY1\":1.24999994412064,\"fX2\":0.425687503485941,\"fY2\":8.75000005587936,\"fXtoAbsPixelk\":62.757150924241,\"fXtoPixelk\":62.757150924241,\"fXtoPixel\":1487.5767878788,\"fYtoAbsPixelk\":550.666661977768,\"fYtoPixelk\":550.666661977768,\"fYtoPixel\":-62.9333323955535,\"fUtoAbsPixelk\":0,\"fUtoPixelk\":0,\"fUtoPixel\":696,\"fVtoAbsPixelk\":472,\"fVtoPixelk\":472,\"fVtoPixel\":-472,\"fAbsPixeltoXk\":-0.0421875034859406,\"fPixeltoXk\":-0.0421875034859406,\"fPixeltoX\":6.7223420541937e-4,\"fAbsPixeltoYk\":8.75000005587936,\"fPixeltoYk\":1.24999994412064,\"fPixeltoY\":-0.0158898307452515,\"fXlowNDC\":0,\"fYlowNDC\":0,\"fXUpNDC\":1,\"fYUpNDC\":1,\"fWNDC\":1,\"fHNDC\":1,\"fAbsXlowNDC\":0,\"fAbsYlowNDC\":0,\"fAbsWNDC\":1,\"fAbsHNDC\":1,\"fUxmin\":0.0046,\"fUymin\":2,\"fUxmax\":0.3789,\"fUymax\":8,\"fTheta\":30,\"fPhi\":30,\"fAspectRatio\":0,\"fNumber\":0,\"fTickx\":0,\"fTicky\":0,\"fLogx\":0,\"fLogy\":0,\"fLogz\":0,\"fPadPaint\":0,\"fCrosshair\":0,\"fCrosshairPos\":0,\"fBorderSize\":2,\"fBorderMode\":0,\"fModified\":false,\"fGridx\":false,\"fGridy\":false,\"fAbsCoord\":false,\"fEditable\":true,\"fFixedAspectRatio\":false,\"fPrimitives\":{\"_typename\":\"TList\",\"name\":\"TList\",\"arr\":[],\"opt\":[]},\"fExecs\":null,\"fName\":\"c13\",\"fTitle\":\"correction_profile\",\"fNumPaletteColor\":0,\"fNextPaletteColor\":0,\"fDISPLAY\":\"$DISPLAY\",\"fDoubleBuffer\":0,\"fRetained\":true,\"fXsizeUser\":0,\"fYsizeUser\":0,\"fXsizeReal\":20,\"fYsizeReal\":14.28571,\"fWindowTopX\":0,\"fWindowTopY\":0,\"fWindowWidth\":0,\"fWindowHeight\":0,\"fCw\":696,\"fCh\":472,\"fCatt\":{\"_typename\":\"TAttCanvas\",\"fXBetween\":2,\"fYBetween\":2,\"fTitleFromTop\":1.2,\"fXdate\":0.2,\"fYdate\":0.3,\"fAdate\":1},\"kMoveOpaque\":true,\"kResizeOpaque\":true,\"fHighLightColor\":2,\"fBatch\":true,\"kShowEventStatus\":false,\"kAutoExec\":true,\"kMenuBar\":true},\"fActive\":false,\"fReadOnly\":true,\"fWithoutPrimitives\":false,\"fHasExecs\":false,\"fPrimitives\":[{\"_typename\":\"TWebSnapshot\",\"fUniqueID\":0,\"fBits\":0,\"fObjectID\":\"\",\"fOption\":\"\",\"fKind\":4,\"fSnapshot\":{\"_typename\":\"TWebPainting\",\"fUniqueID\":0,\"fBits\":0,\"fOper\":\"0:255,255,255;1:0,0,0;2:255,0,0;3:0,255,0;4:0,0,255;5:255,255,0;6:255,0,255;7:0,255,255;8:89,211,84;9:89,84,216;10:254,254,254;11:192,182,172;12:76,76,76;13:102,102,102;14:127,127,127;15:153,153,153;16:178,178,178;17:204,204,204;18:229,229,229;19:242,242,242;20:204,198,170;21:204,198,170;22:193,191,168;23:186,181,163;24:178,165,150;25:183,163,155;26:173,153,140;27:155,142,130;28:135,102,86;29:175,206,198;30:132,193,163;31:137,168,160;32:130,158,140;33:173,188,198;34:122,142,153;35:117,137,145;36:104,130,150;37:109,122,132;38:124,153,209;39:127,127,155;40:170,165,191;41:211,206,135;42:221,186,135;43:188,158,130;44:198,153,124;45:191,130,119;46:206,94,96;47:170,142,147;48:165,119,122;49:147,104,112;50:211,89,84;51:146,0,255;52:122,0,255;53:98,0,255;54:74,0,255;55:51,0,255;56:27,0,255;57:3,0,255;58:0,20,255;59:0,44,255;60:0,68,255;61:0,91,255;62:0,115,255;63:0,139,255;64:0,163,255;65:0,187,255;66:0,210,255;67:0,234,255;68:0,255,251;69:0,255,227;70:0,255,204;71:0,255,180;72:0,255,156;73:0,255,132;74:0,255,108;75:0,255,85;76:0,255,61;77:0,255,37;78:0,255,13;79:10,255,0;80:34,255,0;81:57,255,0;82:81,255,0;83:105,255,0;84:129,255,0;85:153,255,0;86:176,255,0;87:200,255,0;88:224,255,0;89:248,255,0;90:255,238,0;91:255,214,0;92:255,190,0;93:255,166,0;94:255,142,0;95:255,119,0;96:255,95,0;97:255,71,0;98:255,47,0;99:255,23,0;100:111,45,168;101:165,42,42;102:178,190,181;103:87,144,252;104:248,156,32;105:228,37,54;106:150,74,139;107:156,156,161;108:122,33,221;109:24,69,251;110:255,94,2;111:201,31,22;112:200,73,169;113:173,173,125;114:134,200,221;115:87,141,255;116:101,99,100;117:63,144,218;118:255,169,14;119:189,31,1;120:148,164,162;121:131,45,182;122:169,107,89;123:231,99,0;124:185,172,112;125:113,117,129;126:146,218,221;127:178,178,178;201:91,91,91;202:122,122,122;203:183,183,183;204:214,214,214;205:137,15,15;206:183,20,20;207:234,71,71;208:239,117,117;209:15,137,15;210:20,183,20;211:71,234,71;212:117,239,117;213:15,15,137;214:20,20,183;215:71,71,234;216:117,117,239;217:137,137,15;218:183,183,20;219:234,234,71;220:239,239,117;221:137,15,137;222:183,20,183;223:234,71,234;224:239,117,239;225:15,137,137;226:20,183,183;227:71,234,234;228:117,239,239;390:255,255,204;391:255,255,153;392:204,204,153;393:255,255,102;394:204,204,102;395:153,153,102;396:255,255,51;397:204,204,51;398:153,153,51;399:102,102,51;400:255,255,0;401:204,204,0;402:153,153,0;403:102,102,0;404:51,51,0;406:204,255,204;407:153,255,153;408:153,204,153;409:102,255,102;410:102,204,102;411:102,153,102;412:51,255,51;413:51,204,51;414:51,153,51;415:51,102,51;416:0,255,0;417:0,204,0;418:0,153,0;419:0,102,0;420:0,51,0;422:204,255,255;423:153,255,255;424:153,204,204;425:102,255,255;426:102,204,204;427:102,153,153;428:51,255,255;429:51,204,204;430:51,153,153;431:51,102,102;432:0,255,255;433:0,204,204;434:0,153,153;435:0,102,102;436:0,51,51;590:204,204,255;591:153,153,255;592:153,153,204;593:102,102,255;594:102,102,204;595:102,102,153;596:51,51,255;597:51,51,204;598:51,51,153;599:51,51,102;600:0,0,255;601:0,0,204;602:0,0,153;603:0,0,102;604:0,0,51;606:255,204,255;607:255,153,255;608:204,153,204;609:255,102,255;610:204,102,204;611:153,102,153;612:255,51,255;613:204,51,204;614:153,51,153;615:102,51,102;616:255,0,255;617:204,0,204;618:153,0,153;619:102,0,102;620:51,0,51;622:255,204,204;623:255,153,153;624:204,153,153;625:255,102,102;626:204,102,102;627:153,102,102;628:255,51,51;629:204,51,51;630:153,51,51;631:102,51,51;632:255,0,0;633:204,0,0;634:153,0,0;635:102,0,0;636:51,0,0;791:255,204,153;792:204,153,102;793:153,102,51;794:153,102,0;795:204,153,51;796:255,204,102;797:255,153,0;798:255,204,51;799:204,153,0;800:255,204,0;801:255,153,51;802:204,102,0;803:102,51,0;804:153,51,0;805:204,102,51;806:255,153,102;807:255,102,0;808:255,102,51;809:204,51,0;810:255,51,0;811:153,255,51;812:102,204,0;813:51,102,0;814:51,153,0;815:102,204,51;816:153,255,102;817:102,255,0;818:102,255,51;819:51,204,0;820:51,255,0;821:204,255,153;822:153,204,102;823:102,153,51;824:102,153,0;825:153,204,51;826:204,255,102;827:153,255,0;828:204,255,51;829:153,204,0;830:204,255,0;831:153,255,204;832:102,204,153;833:51,153,102;834:0,153,102;835:51,204,153;836:102,255,204;837:0,255,102;838:51,255,204;839:0,204,153;840:0,255,204;841:51,255,153;842:0,204,102;843:0,102,51;844:0,153,51;845:51,204,102;846:102,255,153;847:0,255,153;848:51,255,102;849:0,204,51;850:0,255,51;851:153,204,255;852:102,153,204;853:51,102,153;854:0,51,153;855:51,102,204;856:102,153,255;857:0,102,255;858:51,102,255;859:0,51,204;860:0,51,255;861:51,153,255;862:0,102,204;863:0,51,102;864:0,102,153;865:51,153,204;866:102,204,255;867:0,153,255;868:51,204,255;869:0,153,204;870:0,204,255;871:204,153,255;872:153,102,204;873:102,51,153;874:102,0,153;875:153,51,204;876:204,102,255;877:153,0,255;878:204,51,255;879:153,0,204;880:204,0,255;881:153,51,255;882:102,0,204;883:51,0,102;884:51,0,153;885:102,51,204;886:153,102,255;887:102,0,255;888:102,51,255;889:51,0,204;890:51,0,255;891:255,51,153;892:204,0,102;893:102,0,51;894:153,0,51;895:204,51,102;896:255,102,153;897:255,0,102;898:255,51,102;899:204,0,51;900:255,0,51;901:255,153,204;902:204,102,153;903:153,51,102;904:153,0,102;905:204,51,153;906:255,102,204;907:255,0,153;908:204,0,153;909:255,51,204;910:255,0,153;920:204,204,204;921:153,153,153;922:102,102,102;923:51,51,51;924:53,42,134;925:51,44,137;926:50,45,140;927:49,47,143;928:48,48,146;929:46,50,148;930:45,51,151;931:44,53,154;932:43,55,157;933:42,56,160;934:40,58,162;935:39,59,165;936:38,61,168;937:37,63,171;938:35,64,174;939:34,66,176;940:33,67,179;941:32,69,182;942:31,71,185;943:29,72,187;944:28,74,190;945:27,75,193;946:26,77,196;947:24,79,199;948:23,80,201;949:22,82,204;950:21,83,207;951:19,85,210;952:18,86,213;953:17,88,215;954:16,90,218;955:15,91,221;956:15,92,221;957:15,94,220;958:15,95,220;959:15,96,220;960:15,97,220;961:15,98,220;962:16,99,219;963:16,100,219;964:16,102,219;965:16,103,219;966:16,104,218;967:16,105,218;968:17,106,218;969:17,107,218;970:17,109,217;971:17,110,217;972:17,111,217;973:17,112,217;974:17,113,216;975:18,114,216;976:18,115,216;977:18,117,216;978:18,118,215;979:18,119,215;980:18,120,215;981:18,121,215;982:19,122,215;983:19,123,214;984:19,125,214;985:19,126,214;986:19,127,214;987:19,128,213;988:19,129,213;989:19,130,213;990:18,131,212;991:18,132,212;992:17,134,211;993:17,135,211;994:16,136,211;995:16,137,210;996:15,138,210;997:15,139,210;998:15,140,209;999:14,141,209;1000:14,142,208;1001:13,143,208;1002:13,145,208;1003:12,146,207;1004:12,147,207;1005:12,148,207;1006:11,149,206;1007:11,150,206;1008:10,151,205;1009:10,152,205;1010:9,153,205;1011:9,154,204;1012:8,155,204;1013:8,157,204;1014:8,158,203;1015:7,159,203;1016:7,160,202;1017:6,161,202;1018:6,162,202;1019:5,163,201;1020:7,164,200;1021:8,164,199;1022:9,165,198;1023:10,166,197;1024:12,166,195;1025:13,167,194;1026:14,167,193;1027:15,168,192;1028:17,169,191;1029:18,169,189;1030:19,170,188;1031:20,170,187;1032:22,171,186;1033:23,172,185;1034:24,172,184;1035:25,173,182;1036:27,173,181;1037:28,174,180;1038:29,175,179;1039:30,175,178;1040:32,176,176;1041:33,176,175;1042:34,177,174;1043:35,178,173;1044:37,178,172;1045:38,179,170;1046:39,180,169;1047:40,180,168;1048:42,181,167;1049:43,181,166;1050:44,182,165;1051:45,183,163;1052:48,183,162;1053:51,183,161;1054:54,183,159;1055:57,184,158;1056:59,184,156;1057:62,184,155;1058:65,184,154;1059:68,185,152;1060:71,185,151;1061:73,185,149;1062:76,185,148;1063:79,186,146;1064:82,186,145;1065:84,186,144;1066:87,186,142;1067:90,187,141;1068:93,187,139;1069:96,187,138;1070:98,187,137;1071:101,188,135;1072:104,188,134;1073:107,188,132;1074:110,188,131;1075:112,189,130;1076:115,189,128;1077:118,189,127;1078:121,189,125;1079:124,190,124;1080:126,190,123;1081:129,190,121;1082:132,190,120;1083:135,191,118;1084:137,190,117;1085:139,190,117;1086:142,190,116;1087:144,190,115;1088:146,190,114;1089:148,190,113;1090:151,190,112;1091:153,190,111;1092:155,189,110;1093:158,189,109;1094:160,189,108;1095:162,189,107;1096:165,189,106;1097:167,189,105;1098:169,189,104;1099:171,188,104;1100:174,188,103;1101:176,188,102;1102:178,188,101;1103:181,188,100;1104:183,188,99;1105:185,188,98;1106:188,188,97;1107:190,187,96;1108:192,187,95;1109:194,187,94;1110:197,187,93;1111:199,187,92;1112:201,187,92;1113:204,187,91;1114:206,186,90;1115:208,186,89;1116:210,187,88;1117:211,187,86;1118:212,188,85;1119:214,188,84;1120:215,188,83;1121:217,189,81;1122:218,189,80;1123:220,190,79;1124:221,190,78;1125:222,191,77;1126:224,191,75;1127:225,191,74;1128:227,192,73;1129:228,192,72;1130:229,193,70;1131:231,193,69;1132:232,194,68;1133:234,194,67;1134:235,194,66;1135:236,195,64;1136:238,195,63;1137:239,196,62;1138:241,196,61;1139:242,197,59;1140:244,197,58;1141:245,197,57;1142:246,198,56;1143:248,198,55;1144:249,199,53;1145:251,199,52;1146:252,200,51;1147:253,200,50;1148:253,202,49;1149:253,203,47;1150:253,205,46;1151:253,206,45;1152:253,208,44;1153:252,209,43;1154:252,211,42;1155:252,213,41;1156:252,214,39;1157:252,216,38;1158:252,217,37;1159:252,219,36;1160:251,220,35;1161:251,222,34;1162:251,224,33;1163:251,225,31;1164:251,227,30;1165:251,228,29;1166:250,230,28;1167:250,231,27;1168:250,233,26;1169:250,235,25;1170:250,236,23;1171:250,238,22;1172:250,239,21;1173:249,241,20;1174:249,242,19;1175:249,244,18;1176:249,246,17;1177:249,247,16;1178:249,249,14\",\"fBuf\":{\"$arr\":\"Float32\",\"len\":255,\"v\":[924,925,926,927,928,929,930,931,932,933,934,935,936,937,938,939,940,941,942,943,944,945,946,947,948,949,950,951,952,953,954,955,956,957,958,959,960,961,962,963,964,965,966,967,968,969,970,971,972,973,974,975,976,977,978,979,980,981,982,983,984,985,986,987,988,989,990,991,992,993,994,995,996,997,998,999,1000,1001,1002,1003,1004,1005,1006,1007,1008,1009,1010,1011,1012,1013,1014,1015,1016,1017,1018,1019,1020,1021,1022,1023,1024,1025,1026,1027,1028,1029,1030,1031,1032,1033,1034,1035,1036,1037,1038,1039,1040,1041,1042,1043,1044,1045,1046,1047,1048,1049,1050,1051,1052,1053,1054,1055,1056,1057,1058,1059,1060,1061,1062,1063,1064,1065,1066,1067,1068,1069,1070,1071,1072,1073,1074,1075,1076,1077,1078,1079,1080,1081,1082,1083,1084,1085,1086,1087,1088,1089,1090,1091,1092,1093,1094,1095,1096,1097,1098,1099,1100,1101,1102,1103,1104,1105,1106,1107,1108,1109,1110,1111,1112,1113,1114,1115,1116,1117,1118,1119,1120,1121,1122,1123,1124,1125,1126,1127,1128,1129,1130,1131,1132,1133,1134,1135,1136,1137,1138,1139,1140,1141,1142,1143,1144,1145,1146,1147,1148,1149,1150,1151,1152,1153,1154,1155,1156,1157,1158,1159,1160,1161,1162,1163,1164,1165,1166,1167,1168,1169,1170,1171,1172,1173,1174,1175,1176,1177,1178]}}},{\"_typename\":\"TWebSnapshot\",\"fUniqueID\":0,\"fBits\":0,\"fObjectID\":\"\",\"fOption\":\"\",\"fKind\":5,\"fSnapshot\":{\"_typename\":\"TStyle\",\"fUniqueID\":0,\"fBits\":0,\"fName\":\"Modern\",\"fTitle\":\"Modern Style\",\"fLineColor\":1,\"fLineStyle\":1,\"fLineWidth\":1,\"fFillColor\":19,\"fFillStyle\":1001,\"fMarkerColor\":1,\"fMarkerStyle\":1,\"fMarkerSize\":1,\"fTextAngle\":0,\"fTextSize\":0.05,\"fTextAlign\":11,\"fTextColor\":1,\"fTextFont\":62,\"fXaxis\":{\"_typename\":\"TAttAxis\",\"fNdivisions\":510,\"fAxisColor\":1,\"fLabelColor\":1,\"fLabelFont\":42,\"fLabelOffset\":0.005,\"fLabelSize\":0.035,\"fTickLength\":0.03,\"fTitleOffset\":1,\"fTitleSize\":0.035,\"fTitleColor\":1,\"fTitleFont\":42},\"fYaxis\":{\"_typename\":\"TAttAxis\",\"fNdivisions\":510,\"fAxisColor\":1,\"fLabelColor\":1,\"fLabelFont\":42,\"fLabelOffset\":0.005,\"fLabelSize\":0.035,\"fTickLength\":0.03,\"fTitleOffset\":0,\"fTitleSize\":0.035,\"fTitleColor\":1,\"fTitleFont\":42},\"fZaxis\":{\"_typename\":\"TAttAxis\",\"fNdivisions\":510,\"fAxisColor\":1,\"fLabelColor\":1,\"fLabelFont\":42,\"fLabelOffset\":0.005,\"fLabelSize\":0.035,\"fTickLength\":0.03,\"fTitleOffset\":1,\"fTitleSize\":0.035,\"fTitleColor\":1,\"fTitleFont\":42},\"fBarWidth\":1,\"fBarOffset\":0,\"fColorModelPS\":0,\"fDrawBorder\":0,\"fOptLogx\":0,\"fOptLogy\":0,\"fOptLogz\":0,\"fOptDate\":0,\"fOptStat\":1111,\"fOptTitle\":1,\"fOptFile\":0,\"fOptFit\":0,\"fShowEventStatus\":0,\"fShowEditor\":0,\"fShowToolBar\":0,\"fNumberContours\":20,\"fAttDate\":{\"_typename\":\"TAttText\",\"fTextAngle\":0,\"fTextSize\":0.025,\"fTextAlign\":11,\"fTextColor\":1,\"fTextFont\":62},\"fDateX\":0.01,\"fDateY\":0.01,\"fEndErrorSize\":2,\"fErrorX\":0.5,\"fFuncColor\":2,\"fFuncStyle\":1,\"fFuncWidth\":2,\"fGridColor\":0,\"fGridStyle\":3,\"fGridWidth\":1,\"fLegendBorderSize\":1,\"fLegendFillColor\":0,\"fLegendFillStyle\":1001,\"fLegendFont\":42,\"fLegendTextSize\":0,\"fHatchesLineWidth\":1,\"fHatchesSpacing\":1,\"fFrameFillColor\":0,\"fFrameLineColor\":1,\"fFrameFillStyle\":1001,\"fFrameLineStyle\":1,\"fFrameLineWidth\":1,\"fFrameBorderSize\":1,\"fFrameBorderMode\":0,\"fHistFillColor\":0,\"fHistLineColor\":602,\"fHistFillStyle\":1001,\"fHistLineStyle\":1,\"fHistLineWidth\":1,\"fHistMinimumZero\":false,\"fHistTopMargin\":0.05,\"fCanvasPreferGL\":false,\"fCanvasColor\":0,\"fCanvasBorderSize\":2,\"fCanvasBorderMode\":0,\"fCanvasDefH\":500,\"fCanvasDefW\":700,\"fCanvasDefX\":10,\"fCanvasDefY\":10,\"fPadColor\":0,\"fPadBorderSize\":2,\"fPadBorderMode\":0,\"fPadBottomMargin\":0.1,\"fPadTopMargin\":0.1,\"fPadLeftMargin\":0.1,\"fPadRightMargin\":0.1,\"fPadGridX\":false,\"fPadGridY\":false,\"fPadTickX\":0,\"fPadTickY\":0,\"fPaperSizeX\":20,\"fPaperSizeY\":26,\"fScreenFactor\":1,\"fStatColor\":0,\"fStatTextColor\":1,\"fStatBorderSize\":1,\"fStatFont\":42,\"fStatFontSize\":0,\"fStatStyle\":1001,\"fStatFormat\":\"6.4g\",\"fStatX\":0.98,\"fStatY\":0.935,\"fStatW\":0.2,\"fStatH\":0.16,\"fStripDecimals\":true,\"fTitleAlign\":23,\"fTitleColor\":0,\"fTitleTextColor\":1,\"fTitleBorderSize\":0,\"fTitleFont\":42,\"fTitleFontSize\":0.05,\"fTitleStyle\":0,\"fTitleX\":0.5,\"fTitleY\":0.995,\"fTitleW\":0,\"fTitleH\":0,\"fLegoInnerR\":0.5,\"fLineStyles\":[\"\",\"  \",\" 12 12\",\" 4 8\",\" 12 16 4 16\",\" 20 12 4 12\",\" 20 12 4 12 4 12 4 12\",\" 20 20\",\" 20 12 4 12 4 12\",\" 80 20\",\" 80 40 4 40\",\"  \",\"  \",\"  \",\"  \",\"  \",\"  \",\"  \",\"  \",\"  \",\"  \",\"  \",\"  \",\"  \",\"  \",\"  \",\"  \",\"  \",\"  \",\"  \"],\"fHeaderPS\":\"\",\"fTitlePS\":\"\",\"fFitFormat\":\"5.4g\",\"fPaintTextFormat\":\"g\",\"fLineScalePS\":3,\"fJoinLinePS\":0,\"fCapLinePS\":0,\"fTimeOffset\":788918400,\"fImageScaling\":1,\"fCandleWhiskerRange\":1,\"fCandleBoxRange\":0.5,\"fCandleScaled\":false,\"fViolinScaled\":true,\"fXAxisExpXOffset\":0,\"fXAxisExpYOffset\":0,\"fYAxisExpXOffset\":0,\"fYAxisExpYOffset\":0,\"fAxisMaxDigits\":5,\"fOrthoCamera\":false}},{\"_typename\":\"TWebSnapshot\",\"fUniqueID\":0,\"fBits\":0,\"fObjectID\":\"\",\"fOption\":\"\",\"fKind\":1,\"fSnapshot\":{\"_typename\":\"TFrame\",\"fUniqueID\":0,\"fBits\":8,\"fLineColor\":1,\"fLineStyle\":1,\"fLineWidth\":1,\"fFillColor\":0,\"fFillStyle\":1001,\"fX1\":0.0046,\"fY1\":2,\"fX2\":0.3789,\"fY2\":8,\"fBorderSize\":1,\"fBorderMode\":0}},{\"_typename\":\"TWebSnapshot\",\"fUniqueID\":0,\"fBits\":0,\"fObjectID\":\"\",\"fOption\":\"\",\"fKind\":1,\"fSnapshot\":{\"_typename\":\"TProfile\",\"fUniqueID\":0,\"fBits\":520,\"fName\":\"Dataset 3, diagonal 1 Acceptance correction profile\",\"fTitle\":\"Dataset 3, diagonal 1 Acceptance correction profile\",\"fLineColor\":602,\"fLineStyle\":1,\"fLineWidth\":1,\"fFillColor\":0,\"fFillStyle\":1001,\"fMarkerColor\":1,\"fMarkerStyle\":1,\"fMarkerSize\":1,\"fNcells\":89,\"fXaxis\":{\"_typename\":\"TAxis\",\"fUniqueID\":0,\"fBits\":0,\"fName\":\"xaxis\",\"fTitle\":\"t [GeV^2]\",\"fNdivisions\":510,\"fAxisColor\":1,\"fLabelColor\":1,\"fLabelFont\":42,\"fLabelOffset\":0.005,\"fLabelSize\":0.035,\"fTickLength\":0.03,\"fTitleOffset\":1,\"fTitleSize\":0.035,\"fTitleColor\":1,\"fTitleFont\":42,\"fNbins\":87,\"fXmin\":0.0046,\"fXmax\":0.3789,\"fXbins\":{\"$arr\":\"Float64\",\"len\":88,\"v\":[0.0046,0.0057,0.0073,0.009059,0.01084,0.01263,0.01445,0.01629,0.01814,0.02002,0.02192,0.02384,0.02579,0.02775,0.02974,0.03176,0.0338,0.03586,0.03795,0.04007,0.04221,0.04438,0.04658,0.04881,0.05107,0.05336,0.05569,0.05804,0.06043,0.06286,0.06532,0.06781,0.07035,0.07292,0.07554,0.07819,0.08089,0.08364,0.08643,0.08926,0.09215,0.09509,0.09808,0.1011,0.1042,0.1074,0.1106,0.1139,0.1172,0.1207,0.1241,0.1277,0.1314,0.1351,0.1389,0.1428,0.1468,0.1509,0.1551,0.1594,0.1638,0.1683,0.173,0.1778,0.1827,0.1878,0.1931,0.1985,0.2041,0.2099,0.2159,0.2221,0.2286,0.2353,0.2424,0.2497,0.2573,0.2654,0.2738,0.2827,0.2921,0.3021,0.3127,0.324,0.3361,0.3492,0.3634,0.3789]},\"fFirst\":0,\"fLast\":0,\"fBits2\":0,\"fTimeDisplay\":false,\"fTimeFormat\":\"\",\"fLabels\":null,\"fModLabs\":null},\"fYaxis\":{\"_typename\":\"TAxis\",\"fUniqueID\":0,\"fBits\":0,\"fName\":\"yaxis\",\"fTitle\":\"A [-]\",\"fNdivisions\":510,\"fAxisColor\":1,\"fLabelColor\":1,\"fLabelFont\":42,\"fLabelOffset\":0.005,\"fLabelSize\":0.035,\"fTickLength\":0.03,\"fTitleOffset\":0,\"fTitleSize\":0.035,\"fTitleColor\":1,\"fTitleFont\":42,\"fNbins\":1,\"fXmin\":0,\"fXmax\":1,\"fXbins\":[],\"fFirst\":0,\"fLast\":0,\"fBits2\":0,\"fTimeDisplay\":false,\"fTimeFormat\":\"\",\"fLabels\":null,\"fModLabs\":null},\"fZaxis\":{\"_typename\":\"TAxis\",\"fUniqueID\":0,\"fBits\":0,\"fName\":\"zaxis\",\"fTitle\":\"\",\"fNdivisions\":510,\"fAxisColor\":1,\"fLabelColor\":1,\"fLabelFont\":42,\"fLabelOffset\":0.005,\"fLabelSize\":0.035,\"fTickLength\":0.03,\"fTitleOffset\":1,\"fTitleSize\":0.035,\"fTitleColor\":1,\"fTitleFont\":42,\"fNbins\":1,\"fXmin\":0,\"fXmax\":1,\"fXbins\":[],\"fFirst\":0,\"fLast\":0,\"fBits2\":0,\"fTimeDisplay\":false,\"fTimeFormat\":\"\",\"fLabels\":null,\"fModLabs\":null},\"fBarOffset\":0,\"fBarWidth\":1000,\"fEntries\":42464,\"fTsumw\":42447,\"fTsumw2\":42447,\"fTsumwx\":2436.79856690464,\"fTsumwx2\":222.56888527275,\"fMaximum\":8,\"fMinimum\":2,\"fNormFactor\":0,\"fContour\":[],\"fSumw2\":{\"$arr\":\"Float64\",\"len\":89,\"p\":2,\"v\":[25014.2652959995,18422.4759378932,15430.3399286513,13810.8708023058,12060.7533661438,11773.8411650193,11041.8441473364,9685.31823531307,10495.9850127117,9862.94758814457,9222.10680234728,8612.3049130059,8260.57268918154,7387.96764634134,7769.32303744792,7042.07152934599,6663.20200639748,6924.16418079139,6485.18736429065,6050.40636675342,5818.36405040616,5744.77449114458,5873.02895480698,5487.06337012629,5236.11791139492,5224.18290047614,4932.1691980548,4722.66713587968,4520.90401293035,4479.70944765925,4137.75700275596,3924.08258564963,3821.94428036086,3534.2597177181,3601.3267093088,3686.07641777754,3377.94227186222,3286.01010039234,3001.33667955026,2821.79638251636,2632.37910998431,2434.91289910893,2563.65750952162,2442.36136741879,2109.95212673678,2181.02978327157,2053.72184872449,2102.57427370121,1931.52961087145,1852.68148518548,1748.02849574891,1608.57460639274,2079.9245164041,1579.14300545037,1762.21587683922,1422.97696897696,1687.52680711504,1905.17363149999,1701.3258507668,1388.61402391901,1514.27686012529,1307.68183084208,1222.80308970688,1517.84847105869,997.375803876706,980.846996549691,830.629771726167,996.383776621223,1013.54844739776,1003.01939294493,920.770096049332,581.431022914208,693.839857314386,657.238838469947,782.350608799962,666.3910986201,509.782082030578,441.667223423697,256.345503431975,447.924268055606,260.470404355754,285.161016812517,239.952262907114,198.537940867143,162.631634525245,68.7942230188609,1304.93071702342]},\"fOption\":\"\",\"fFunctions\":{\"_typename\":\"TList\",\"name\":\"TList\",\"arr\":[],\"opt\":[]},\"fBufferSize\":0,\"fBuffer\":[],\"fBinStatErrOpt\":0,\"fStatOverflows\":2,\"fArray\":{\"$arr\":\"Float64\",\"len\":89,\"p\":2,\"v\":[3886.53464359096,3885.25854778686,3828.75094623749,3789.86476260254,3543.22431562962,3576.33105047613,3536.78095411853,3182.72875241185,3508.04919172944,3367.61443453005,3196.66009306329,3089.7418683755,2954.04891129108,2729.58168669116,2887.39721962313,2666.31203207224,2543.76798893899,2624.52503979722,2516.74834298671,2371.19818486837,2285.29259845705,2262.81390251078,2325.77972273143,2159.51956119339,2085.62082160701,2119.0910346186,2012.51090843147,1925.81203750173,1854.99929229896,1825.18073711341,1702.34437770687,1632.81508677769,1585.15367231844,1482.63741764001,1498.50620469248,1532.3043667879,1436.10435385885,1395.476200023,1261.15904869927,1187.44856981507,1107.51460619072,1039.5308638475,1089.35538693756,1034.78294343022,916.203739597397,944.118136609983,890.167454260284,913.745056357891,828.851956943625,794.617048478247,716.641487060589,612.912351248895,744.061906593555,551.931466018897,586.81743194675,468.221494268754,524.756991357778,571.092128156181,492.720490272817,408.306303863425,439.715795634774,359.506575465458,330.052470435752,375.875483527723,245.394619097013,256.335002002737,207.232256451231,246.237186994308,240.851800829324,236.258341501724,211.444968190395,129.267229175894,155.806943933278,139.819936335223,161.824243170061,132.391284697632,105.899768496945,89.1158156578324,50.6209515413311,87.2545270360585,48.316526303215,46.6824703724223,43.811414304247,34.4561072930202,28.5155590047688,11.7296820299922,142.831094921379]},\"fBinEntries\":{\"$arr\":\"Float64\",\"len\":89,\"p\":2,\"v\":[645,856,979,1062,1059,1110,1146,1060,1195,1169,1130,1119,1078,1016,1083,1015,977,1010,982,933,903,899,929,863,840,863,823,790,765,752,706,682,662,624,629,644,611,594,536,505,472,446,468,444,398,410,387,398,359,342,301,249,278,198,201,156,168,176,148,121,128,101,90,98,63,67,52,61,58,56,49,29,35,30,34,27,22,18,10,17,9,8,8,6,5,2,17]},\"fErrorMode\":0,\"fYmin\":0,\"fYmax\":0,\"fTsumwy\":118906.455084528,\"fTsumwy2\":356993.467956274,\"fBinSumw2\":[]}},{\"_typename\":\"TWebSnapshot\",\"fUniqueID\":0,\"fBits\":0,\"fObjectID\":\"\",\"fOption\":\"blNDC\",\"fKind\":1,\"fSnapshot\":{\"_typename\":\"TPaveText\",\"fUniqueID\":0,\"fBits\":9,\"fLineColor\":1,\"fLineStyle\":1,\"fLineWidth\":1,\"fFillColor\":0,\"fFillStyle\":0,\"fX1\":0.0279937475598416,\"fY1\":8.25487296562011,\"fX2\":0.355506252440158,\"fY2\":8.71250009108335,\"fX1NDC\":0.15,\"fY1NDC\":0.933983055615829,\"fX2NDC\":0.85,\"fY2NDC\":0.995000004768372,\"fBorderSize\":0,\"fInit\":1,\"fShadowColor\":1,\"fCornerRadius\":0,\"fOption\":\"blNDC\",\"fName\":\"title\",\"fTextAngle\":0,\"fTextSize\":0,\"fTextAlign\":22,\"fTextColor\":1,\"fTextFont\":42,\"fLabel\":\"\",\"fLongest\":51,\"fMargin\":0.05,\"fLines\":{\"_typename\":\"TList\",\"name\":\"TList\",\"arr\":[{\"_typename\":\"TLatex\",\"fUniqueID\":0,\"fBits\":0,\"fName\":\"\",\"fTitle\":\"Dataset 3, diagonal 1 Acceptance correction profile\",\"fTextAngle\":0,\"fTextSize\":0,\"fTextAlign\":0,\"fTextColor\":0,\"fTextFont\":0,\"fX\":0,\"fY\":0,\"fLineColor\":1,\"fLineStyle\":1,\"fLineWidth\":2,\"fLimitFactorSize\":3,\"fOriginSize\":0.0518644079566002}],\"opt\":[\"\"]}}}],\"fScripts\":\"\",\"fHighlightConnect\":false,\"fFixedSize\":false});\n",
       "   Core.settings.HandleKeys = false;\n",
       "   Core.draw(\"root_plot_1754524554768\", obj, \"\");\n",
       "}\n",
       "\n",
       "function script_load_root_plot_1754524554768(src, on_error) {\n",
       "    let script = document.createElement('script');\n",
       "    script.src = src;\n",
       "    script.onload = function() { display_root_plot_1754524554768(JSROOT); };\n",
       "    script.onerror = function() { script.remove(); on_error(); };\n",
       "    document.head.appendChild(script);\n",
       "}\n",
       "\n",
       "if (typeof requirejs !== 'undefined') {\n",
       "\n",
       "    // We are in jupyter notebooks, use require.js which should be configured already\n",
       "    requirejs.config({\n",
       "       paths: { 'JSRootCore' : [ 'build/jsroot', 'https://root.cern/js/7.8.2/build/jsroot', 'https://jsroot.gsi.de/7.8.2/build/jsroot' ] }\n",
       "    })(['JSRootCore'],  function(Core) {\n",
       "       display_root_plot_1754524554768(Core);\n",
       "    });\n",
       "\n",
       "} else if (typeof JSROOT !== 'undefined') {\n",
       "\n",
       "   // JSROOT already loaded, just use it\n",
       "   display_root_plot_1754524554768(JSROOT);\n",
       "\n",
       "} else {\n",
       "\n",
       "    // We are in jupyterlab without require.js, directly loading jsroot\n",
       "    // Jupyterlab might be installed in a different base_url so we need to know it.\n",
       "    try {\n",
       "        var base_url = JSON.parse(document.getElementById('jupyter-config-data').innerHTML).baseUrl;\n",
       "    } catch(_) {\n",
       "        var base_url = '/';\n",
       "    }\n",
       "\n",
       "    // Try loading a local version of requirejs and fallback to cdn if not possible.\n",
       "    script_load_root_plot_1754524554768(base_url + 'static/build/jsroot.js', function(){\n",
       "        console.error('Fail to load JSROOT locally, please check your jupyter_notebook_config.py file');\n",
       "        script_load_root_plot_1754524554768('https://root.cern/js/7.8.2/build/jsroot.js', function(){\n",
       "            document.getElementById(\"root_plot_1754524554768\").innerHTML = \"Failed to load JSROOT\";\n",
       "        });\n",
       "    });\n",
       "}\n",
       "\n",
       "</script>\n"
      ],
      "text/plain": [
       "<IPython.core.display.HTML object>"
      ]
     },
     "metadata": {},
     "output_type": "display_data"
    }
   ],
   "source": [
    "profile_correction = dataset_correction_valid.Profile1D((f\"Dataset {dataset_number}, diagonal {diagonal_number} Acceptance correction profile\", f\"Dataset {dataset_number}, diagonal {diagonal_number} Acceptance correction profile;t [GeV^2];A [-]\", len(binning)-1, binning), \"t\", \"correction\")\n",
    "\n",
    "correction_canvas = ROOT.TCanvas(\"c13\", \"correction_profile\")\n",
    "profile_correction.Draw()\n",
    "profile_correction.SetStats(0)\n",
    "profile_correction.GetYaxis().SetRangeUser(2, 8)\n",
    "\n",
    "correction_canvas.Draw()"
   ]
  },
  {
   "cell_type": "markdown",
   "metadata": {},
   "source": [
    "**Figure 4.**  Full acceptance correction factor profile with applied threshold for reasonable uncertainties. \n",
    "As you can see, the point with the value 7.97 was discarded after the application of the threshold."
   ]
  },
  {
   "cell_type": "markdown",
   "metadata": {},
   "source": [
    "## Saving Results\n",
    "\n",
    "Results are saved without helper columns that were only used to calculate divergence and acceptance correction."
   ]
  },
  {
   "cell_type": "code",
   "execution_count": 15,
   "metadata": {},
   "outputs": [
    {
     "data": {
      "text/plain": [
       "<cppyy.gbl.ROOT.RDF.RResultPtr<ROOT::RDF::RInterface<ROOT::Detail::RDF::RLoopManager,void> > object at 0x102b27b40>"
      ]
     },
     "execution_count": 15,
     "metadata": {},
     "output_type": "execute_result"
    }
   ],
   "source": [
    "columns_to_save = set(dataset_correction.GetColumnNames()) - constants_columns - Ageom_helper_columns - Afluct_helper_columns \n",
    "\n",
    "dataset_output_path = Path(f\"dataset{dataset_number}_diagonal{diagonal_number}_correction.root\")\n",
    "dataset_correction_valid.Snapshot(\"TotemNtuple\", dataset_output_path.as_posix(), columns_to_save)"
   ]
  }
 ],
 "metadata": {
  "@webio": {
   "lastCommId": null,
   "lastKernelId": null
  },
  "kernelspec": {
   "display_name": "Python 3",
   "language": "python",
   "name": "python3"
  },
  "language_info": {
   "codemirror_mode": {
    "name": "ipython",
    "version": 3
   },
   "file_extension": ".py",
   "mimetype": "text/x-python",
   "name": "python",
   "nbconvert_exporter": "python",
   "pygments_lexer": "ipython3",
   "version": "3.13.3"
  }
 },
 "nbformat": 4,
 "nbformat_minor": 2
}
