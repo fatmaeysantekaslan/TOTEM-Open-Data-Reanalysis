{
 "cells": [
  {
   "cell_type": "markdown",
   "metadata": {},
   "source": [
    "# Construction of the Differential Elastic Scattering Cross-Section\n",
    "\n",
    "In particle physics, the **cross-section** ($\\sigma$) is a measure of the probability that a certain interaction (e.g., elastic scattering) will occur when two particles collide. And it can be thought of as an \"effective size\" of the target that the incoming particle sees.  \n",
    "The basic relation between the number of observed events and the total cross-section is:\n",
    "\n",
    "$$N = \\sigma \\cdot \\mathcal{L}$$\n",
    "\n",
    "where:\n",
    "- $N$: number of events,\n",
    "- $\\sigma$: cross-section,\n",
    "- $\\mathcal{L}$: **luminosity**, describing how many collision opportunities occurred in the dataset.\n",
    "\n",
    "It depends on the beam intensity, number of bunches, and focusing at the interaction point. When integrated over time, **integrated luminosity** $\\mathcal{L}_{\\text{int}}$ represents the total number of potential collisions.\n",
    "\n",
    "The cross-section ($\\sigma$) tells us **the overall probability** of an interaction, but in many analyses we need to know **how this probability depends on a kinematic variable**, such as the squared four-momentum transfer $|t|$. For elastic scattering:\n",
    "\n",
    "$$\n",
    "\\frac{d\\sigma_{\\text{el}}}{dt} = \\frac{1}{\\mathcal{L}_{\\text{int}}} \\cdot \\frac{dN}{dt}\n",
    "$$ \n",
    "\n",
    "The **differential cross-section** is important because:\n",
    "- It reveals the **angular dependence** of the scattering process,\n",
    "- It allows testing of **theoretical models** (e.g., exponential behavior at low $|t|$ from diffraction),\n",
    "- It provides access to the **total cross-section** via extrapolation to $t = 0$ (optical theorem).\n",
    "\n",
    "In this part:\n",
    "- $dN/dt$ is obtained from the fully corrected histogram of $|t|$, normalized by the bin width to give the event density per unit $|t|$,\n",
    "- The **differential elastic cross-section** is then calculated,\n",
    "- This distribution is fitted with an exponential function to determine $\\left. \\frac{d\\sigma_{\\text{el}}}{dt} \\right|_{t=0}$, the value extrapolated to $t = 0$.\n"
   ]
  },
  {
   "cell_type": "markdown",
   "metadata": {},
   "source": [
    "## Environment Setup "
   ]
  },
  {
   "cell_type": "code",
   "execution_count": null,
   "metadata": {},
   "outputs": [],
   "source": [
    "import ROOT\n",
    "import numpy as np\n",
    "\n",
    "ROOT.EnableImplicitMT() # Tell ROOT you want to go parallel"
   ]
  },
  {
   "cell_type": "markdown",
   "metadata": {},
   "source": [
    "Due to varying data-taking conditions, the constants used in the cuts differ for each dataset and diagonal. Consequently, the correction factors are determined separately for each diagonal in every dataset. Therefore, the elastic scattering cross section is also calculated separately for each diagonal in each dataset.\n",
    "\n",
    "One can chose a dataset and a diagonal by changing variables in the cell below.\n"
   ]
  },
  {
   "cell_type": "code",
   "execution_count": null,
   "metadata": {},
   "outputs": [],
   "source": [
    "dataset_number = 3\n",
    "diagonal_number = 1 # 1 - diagonal 45b56t, 0 - diagonal 45t56b"
   ]
  },
  {
   "cell_type": "code",
   "execution_count": 73,
   "metadata": {},
   "outputs": [
    {
     "data": {
      "text/plain": [
       "Dataframe from TChain TotemNtuple in file ./dataset3_diagonal0_correction.root\n",
       "\n",
       "Property                Value\n",
       "--------                -----\n",
       "Columns in total           59\n",
       "Columns from defines        1\n",
       "Event loops run             0\n",
       "Processing slots           10\n",
       "\n",
       "Column                  Type            Origin\n",
       "------                  ----            ------\n",
       "A_fluct                 Double_t        Dataset\n",
       "A_geom                  Double_t        Dataset\n",
       "bunch_num               UInt_t          Dataset\n",
       "correction              Double_t        Dataset\n",
       "dataset_num             Int_t           Dataset\n",
       "diagonal                Bool_t          Dataset\n",
       "event_num               UInt_t          Dataset\n",
       "input_status_bits       UInt_t          Dataset\n",
       "run_no                  UInt_t          Dataset\n",
       "t                       Double_t        Dataset\n",
       "t_abs                   double          Define\n",
       "th                      Double_t        Dataset\n",
       "th_x                    Double_t        Dataset\n",
       "th_x_L                  Double_t        Dataset\n",
       "th_x_R                  Double_t        Dataset\n",
       "th_y                    Double_t        Dataset\n",
       "th_y_L                  Double_t        Dataset\n",
       "th_y_R                  Double_t        Dataset\n",
       "timestamp               UInt_t          Dataset\n",
       "track_rp_120_valid      Bool_t          Dataset\n",
       "track_rp_120_x          Double_t        Dataset\n",
       "track_rp_120_y          Double_t        Dataset\n",
       "track_rp_121_valid      Bool_t          Dataset\n",
       "track_rp_121_x          Double_t        Dataset\n",
       "track_rp_121_y          Double_t        Dataset\n",
       "track_rp_122_valid      Bool_t          Dataset\n",
       "track_rp_122_x          Double_t        Dataset\n",
       "track_rp_122_y          Double_t        Dataset\n",
       "track_rp_123_valid      Bool_t          Dataset\n",
       "track_rp_123_x          Double_t        Dataset\n",
       "track_rp_123_y          Double_t        Dataset\n",
       "track_rp_124_valid      Bool_t          Dataset\n",
       "track_rp_124_x          Double_t        Dataset\n",
       "track_rp_124_y          Double_t        Dataset\n",
       "track_rp_125_valid      Bool_t          Dataset\n",
       "track_rp_125_x          Double_t        Dataset\n",
       "track_rp_125_y          Double_t        Dataset\n",
       "track_rp_20_valid       Bool_t          Dataset\n",
       "track_rp_20_x           Double_t        Dataset\n",
       "track_rp_20_y           Double_t        Dataset\n",
       "track_rp_21_valid       Bool_t          Dataset\n",
       "track_rp_21_x           Double_t        Dataset\n",
       "track_rp_21_y           Double_t        Dataset\n",
       "track_rp_22_valid       Bool_t          Dataset\n",
       "track_rp_22_x           Double_t        Dataset\n",
       "track_rp_22_y           Double_t        Dataset\n",
       "track_rp_23_valid       Bool_t          Dataset\n",
       "track_rp_23_x           Double_t        Dataset\n",
       "track_rp_23_y           Double_t        Dataset\n",
       "track_rp_24_valid       Bool_t          Dataset\n",
       "track_rp_24_x           Double_t        Dataset\n",
       "track_rp_24_y           Double_t        Dataset\n",
       "track_rp_25_valid       Bool_t          Dataset\n",
       "track_rp_25_x           Double_t        Dataset\n",
       "track_rp_25_y           Double_t        Dataset\n",
       "trigger_num             UInt_t          Dataset\n",
       "vtx_x                   Double_t        Dataset\n",
       "vtx_x_L                 Double_t        Dataset\n",
       "vtx_x_R                 Double_t        Dataset"
      ]
     },
     "execution_count": 73,
     "metadata": {},
     "output_type": "execute_result"
    }
   ],
   "source": [
    "if not isinstance(dataset_number, int) or not (1 <= dataset_number <= 3):\n",
    "    raise ValueError(\"Dataset number must be an integer 1 or 2 or 3\")\n",
    "\n",
    "if not isinstance(diagonal_number, int) or not (0 <= diagonal_number <= 1):\n",
    "    raise ValueError(\"Diagonal has to be number 0 or 1\")\n",
    "\n",
    "### Loading the data from previous step\n",
    "dataset = ROOT.ROOT.RDataFrame(\"TotemNtuple\", f\"./dataset{dataset_number}_diagonal{diagonal_number}_correction.root\")\n",
    "dataset = dataset.Define(\"t_abs\", \"abs(t)\")\n",
    "\n",
    "try:\n",
    "    with ROOT.TFile(f\"unfolding_correction.root\") as file:\n",
    "        unfolding_correction = file.Get(f\"dataset{dataset_number}_diagonal{diagonal_number}\")\n",
    "        unfolding_correction.SetDirectory(0) # This line keeps histogram in RAM after closing the file\n",
    "except AttributeError as e:\n",
    "    print(f\"Missing dependency in file unfolding_correction.root: dataset{dataset_number}_diagonall{diagonal_number}. Try running step4 analysis for chosen dataset AND diagonal.\")\n",
    "    raise e\n",
    "\n",
    "\n",
    "dataset.Describe()"
   ]
  },
  {
   "cell_type": "markdown",
   "metadata": {},
   "source": [
    "### Defining Custom Binning\n",
    "\n",
    "Similarily to the previous notebooks lower and upper edges of the bins, which can be seen in the cell below, are exactly the same as those in the original article  [[1]](https://iopscience.iop.org/article/10.1209/0295-5075/101/21002#epl15159s5-2)."
   ]
  },
  {
   "cell_type": "code",
   "execution_count": 74,
   "metadata": {},
   "outputs": [],
   "source": [
    "binning = np.array([0.0046, 0.0057, 0.0073, 0.009059, 0.01084, 0.01263, 0.01445, 0.01629, 0.01814, 0.02002, 0.02192, 0.02384, \n",
    "    0.02579, 0.02775, 0.02974, 0.03176, 0.0338, 0.03586, 0.03795, 0.04007, 0.04221, 0.04438, 0.04658, 0.04881, \n",
    "    0.05107, 0.05336, 0.05569, 0.05804, 0.06043, 0.06286, 0.06532, 0.06781, 0.07035, 0.07292, 0.07554, 0.07819, \n",
    "    0.08089, 0.08364, 0.08643, 0.08926, 0.09215, 0.09509, 0.09808, 0.1011, 0.1042, 0.1074, 0.1106, 0.1139, 0.1172, \n",
    "    0.1207, 0.1241, 0.1277, 0.1314, 0.1351, 0.1389, 0.1428, 0.1468, 0.1509, 0.1551, 0.1594, 0.1638, 0.1683, 0.173, \n",
    "    0.1778, 0.1827, 0.1878, 0.1931, 0.1985, 0.2041, 0.2099, 0.2159, 0.2221, 0.2286, 0.2353, 0.2424, 0.2497, 0.2573, \n",
    "    0.2654, 0.2738, 0.2827, 0.2921, 0.3021, 0.3127, 0.324, 0.3361, 0.3492, 0.3634, 0.3789])"
   ]
  },
  {
   "cell_type": "markdown",
   "metadata": {},
   "source": [
    "## Distribution of the four-momentum transfer squared\n",
    " \n",
    "In this analysis, our goal is to precisely measure how often elastic scattering occurs at different $|t|$ values, i.e., the differential cross-section $d\\sigma/dt$. To do this, we first constructed the raw distribution of $|t|$ using the measured proton angles $\\theta^*$:\n",
    "\n",
    "$$|t| \\approx (p \\cdot \\theta^*)^2$$\n",
    " \n",
    "This gives us a histogram of events vs. $|t|$ — the foundation of our analysis. By using the special beam optics configuration in this analysis ($\\beta^{*}$ = 90 m) the $|t|$ range can be explored down to $5\\cdot10^{-3} \\, \\mathrm{GeV}^{2}$. The distribution of $|t|$ variable is presented in Fig.1 . What can be observed is that the correction factor effectively smooths the distribution by removing irregularities and makes it nearly linear on a logarithmic scale."
   ]
  },
  {
   "cell_type": "code",
   "execution_count": null,
   "metadata": {},
   "outputs": [],
   "source": [
    "background_correction = 0.992\n",
    "\n",
    "\n",
    "dataset1_luminosity_integrated_ub = 68.0 \n",
    "dataset1_luminosity_integrated_mb = dataset1_luminosity_integrated_ub  * 1e3\n",
    "dataset1_full_efficiency_correction_45b_56t = 1.176 \n",
    "dataset1_full_efficiency_correction_45t_56b = 1.145\n",
    "\n",
    "dataset2_luminosity_integrated_ub = 8.2 \n",
    "dataset2_luminosity_integrated_mb = dataset2_luminosity_integrated_ub  * 1e3\n",
    "dataset2_full_efficiency_correction_45b_56t = 1.216\n",
    "dataset2_full_efficiency_correction_45t_56b = 1.168\n",
    "\n",
    "dataset3_luminosity_integrated_ub = 6.6\n",
    "dataset3_luminosity_integrated_mb = dataset3_luminosity_integrated_ub  * 1e3\n",
    "dataset3_full_efficiency_correction_45b_56t = 1.251\n",
    "dataset3_full_efficiency_correction_45t_56b = 1.175\n",
    "\n",
    "luminosities = (\n",
    "    (dataset1_luminosity_integrated_mb),\n",
    "    (dataset2_luminosity_integrated_mb),\n",
    "    (dataset3_luminosity_integrated_mb)\n",
    "    )\n",
    "\n",
    "datasets_diagonals = (\n",
    "    (dataset1_full_efficiency_correction_45b_56t, dataset1_full_efficiency_correction_45t_56b),\n",
    "    (dataset2_full_efficiency_correction_45b_56t, dataset2_full_efficiency_correction_45t_56b),\n",
    "    (dataset3_full_efficiency_correction_45b_56t, dataset3_full_efficiency_correction_45t_56b),\n",
    "    )\n",
    "\n",
    "integrated_luminosity_mb  = luminosities[dataset_number - 1]\n",
    "full_efficiency_correction = datasets_diagonals[dataset_number-1][-diagonal_number+1]"
   ]
  },
  {
   "cell_type": "code",
   "execution_count": 76,
   "metadata": {},
   "outputs": [
    {
     "name": "stderr",
     "output_type": "stream",
     "text": [
      "Warning in <TCanvas::Constructor>: Deleting canvas with same name: t_dist_canvas\n"
     ]
    },
    {
     "data": {
      "text/html": [
       "\n",
       "\n",
       "<div id=\"root_plot_1751927076710\" style=\"width: 1200px; height: 600px; position: relative\">\n",
       "</div>\n",
       "\n",
       "<script>\n",
       "\n",
       "function display_root_plot_1751927076710(Core) {\n",
       "   let obj = Core.parse({\"_typename\":\"TCanvasWebSnapshot\",\"fUniqueID\":0,\"fBits\":0,\"fObjectID\":\"\",\"fOption\":\"\",\"fKind\":3,\"fSnapshot\":{\"_typename\":\"TCanvas\",\"fUniqueID\":0,\"fBits\":3342344,\"fLineColor\":1,\"fLineStyle\":1,\"fLineWidth\":1,\"fFillColor\":0,\"fFillStyle\":1001,\"fLeftMargin\":0.1,\"fRightMargin\":0.1,\"fBottomMargin\":0.1,\"fTopMargin\":0.1,\"fXfile\":2,\"fYfile\":2,\"fAfile\":1,\"fXstat\":0.99,\"fYstat\":0.99,\"fAstat\":2,\"fFrameFillColor\":0,\"fFrameLineColor\":1,\"fFrameFillStyle\":1001,\"fFrameLineStyle\":1,\"fFrameLineWidth\":1,\"fFrameBorderSize\":1,\"fFrameBorderMode\":0,\"fX1\":0,\"fY1\":0,\"fX2\":1,\"fY2\":1,\"fXtoAbsPixelk\":0,\"fXtoPixelk\":0,\"fXtoPixel\":1196,\"fYtoAbsPixelk\":572,\"fYtoPixelk\":572,\"fYtoPixel\":-572,\"fUtoAbsPixelk\":0,\"fUtoPixelk\":0,\"fUtoPixel\":1196,\"fVtoAbsPixelk\":572,\"fVtoPixelk\":572,\"fVtoPixel\":-572,\"fAbsPixeltoXk\":0,\"fPixeltoXk\":0,\"fPixeltoX\":8.36120401337793e-4,\"fAbsPixeltoYk\":1,\"fPixeltoYk\":0,\"fPixeltoY\":-0.00174825174825175,\"fXlowNDC\":0,\"fYlowNDC\":0,\"fXUpNDC\":1,\"fYUpNDC\":1,\"fWNDC\":1,\"fHNDC\":1,\"fAbsXlowNDC\":0,\"fAbsYlowNDC\":0,\"fAbsWNDC\":1,\"fAbsHNDC\":1,\"fUxmin\":0,\"fUymin\":0,\"fUxmax\":1,\"fUymax\":1,\"fTheta\":30,\"fPhi\":30,\"fAspectRatio\":0,\"fNumber\":0,\"fTickx\":0,\"fTicky\":0,\"fLogx\":0,\"fLogy\":0,\"fLogz\":0,\"fPadPaint\":0,\"fCrosshair\":0,\"fCrosshairPos\":0,\"fBorderSize\":2,\"fBorderMode\":0,\"fModified\":false,\"fGridx\":false,\"fGridy\":false,\"fAbsCoord\":false,\"fEditable\":true,\"fFixedAspectRatio\":false,\"fPrimitives\":{\"_typename\":\"TList\",\"name\":\"TList\",\"arr\":[],\"opt\":[]},\"fExecs\":null,\"fName\":\"t_dist_canvas\",\"fTitle\":\"t_dist_canvas\",\"fNumPaletteColor\":0,\"fNextPaletteColor\":0,\"fDISPLAY\":\"$DISPLAY\",\"fDoubleBuffer\":0,\"fRetained\":true,\"fXsizeUser\":0,\"fYsizeUser\":0,\"fXsizeReal\":20,\"fYsizeReal\":10,\"fWindowTopX\":0,\"fWindowTopY\":0,\"fWindowWidth\":0,\"fWindowHeight\":0,\"fCw\":1196,\"fCh\":572,\"fCatt\":{\"_typename\":\"TAttCanvas\",\"fXBetween\":2,\"fYBetween\":2,\"fTitleFromTop\":1.2,\"fXdate\":0.2,\"fYdate\":0.3,\"fAdate\":1},\"kMoveOpaque\":true,\"kResizeOpaque\":true,\"fHighLightColor\":2,\"fBatch\":true,\"kShowEventStatus\":false,\"kAutoExec\":true,\"kMenuBar\":true},\"fActive\":false,\"fReadOnly\":true,\"fWithoutPrimitives\":false,\"fHasExecs\":false,\"fPrimitives\":[{\"_typename\":\"TWebSnapshot\",\"fUniqueID\":0,\"fBits\":0,\"fObjectID\":\"\",\"fOption\":\"\",\"fKind\":4,\"fSnapshot\":{\"_typename\":\"TWebPainting\",\"fUniqueID\":0,\"fBits\":0,\"fOper\":\"0:255,255,255;1:0,0,0;2:255,0,0;3:0,255,0;4:0,0,255;5:255,255,0;6:255,0,255;7:0,255,255;8:89,211,84;9:89,84,216;10:254,254,254;11:192,182,172;12:76,76,76;13:102,102,102;14:127,127,127;15:153,153,153;16:178,178,178;17:204,204,204;18:229,229,229;19:242,242,242;20:204,198,170;21:204,198,170;22:193,191,168;23:186,181,163;24:178,165,150;25:183,163,155;26:173,153,140;27:155,142,130;28:135,102,86;29:175,206,198;30:132,193,163;31:137,168,160;32:130,158,140;33:173,188,198;34:122,142,153;35:117,137,145;36:104,130,150;37:109,122,132;38:124,153,209;39:127,127,155;40:170,165,191;41:211,206,135;42:221,186,135;43:188,158,130;44:198,153,124;45:191,130,119;46:206,94,96;47:170,142,147;48:165,119,122;49:147,104,112;50:211,89,84;51:146,0,255;52:122,0,255;53:98,0,255;54:74,0,255;55:51,0,255;56:27,0,255;57:3,0,255;58:0,20,255;59:0,44,255;60:0,68,255;61:0,91,255;62:0,115,255;63:0,139,255;64:0,163,255;65:0,187,255;66:0,210,255;67:0,234,255;68:0,255,251;69:0,255,227;70:0,255,204;71:0,255,180;72:0,255,156;73:0,255,132;74:0,255,108;75:0,255,85;76:0,255,61;77:0,255,37;78:0,255,13;79:10,255,0;80:34,255,0;81:57,255,0;82:81,255,0;83:105,255,0;84:129,255,0;85:153,255,0;86:176,255,0;87:200,255,0;88:224,255,0;89:248,255,0;90:255,238,0;91:255,214,0;92:255,190,0;93:255,166,0;94:255,142,0;95:255,119,0;96:255,95,0;97:255,71,0;98:255,47,0;99:255,23,0;100:111,45,168;101:165,42,42;102:178,190,181;103:87,144,252;104:248,156,32;105:228,37,54;106:150,74,139;107:156,156,161;108:122,33,221;109:24,69,251;110:255,94,2;111:201,31,22;112:200,73,169;113:173,173,125;114:134,200,221;115:87,141,255;116:101,99,100;117:63,144,218;118:255,169,14;119:189,31,1;120:148,164,162;121:131,45,182;122:169,107,89;123:231,99,0;124:185,172,112;125:113,117,129;126:146,218,221;127:178,178,178;201:91,91,91;202:122,122,122;203:183,183,183;204:214,214,214;205:137,15,15;206:183,20,20;207:234,71,71;208:239,117,117;209:15,137,15;210:20,183,20;211:71,234,71;212:117,239,117;213:15,15,137;214:20,20,183;215:71,71,234;216:117,117,239;217:137,137,15;218:183,183,20;219:234,234,71;220:239,239,117;221:137,15,137;222:183,20,183;223:234,71,234;224:239,117,239;225:15,137,137;226:20,183,183;227:71,234,234;228:117,239,239;390:255,255,204;391:255,255,153;392:204,204,153;393:255,255,102;394:204,204,102;395:153,153,102;396:255,255,51;397:204,204,51;398:153,153,51;399:102,102,51;400:255,255,0;401:204,204,0;402:153,153,0;403:102,102,0;404:51,51,0;406:204,255,204;407:153,255,153;408:153,204,153;409:102,255,102;410:102,204,102;411:102,153,102;412:51,255,51;413:51,204,51;414:51,153,51;415:51,102,51;416:0,255,0;417:0,204,0;418:0,153,0;419:0,102,0;420:0,51,0;422:204,255,255;423:153,255,255;424:153,204,204;425:102,255,255;426:102,204,204;427:102,153,153;428:51,255,255;429:51,204,204;430:51,153,153;431:51,102,102;432:0,255,255;433:0,204,204;434:0,153,153;435:0,102,102;436:0,51,51;590:204,204,255;591:153,153,255;592:153,153,204;593:102,102,255;594:102,102,204;595:102,102,153;596:51,51,255;597:51,51,204;598:51,51,153;599:51,51,102;600:0,0,255;601:0,0,204;602:0,0,153;603:0,0,102;604:0,0,51;606:255,204,255;607:255,153,255;608:204,153,204;609:255,102,255;610:204,102,204;611:153,102,153;612:255,51,255;613:204,51,204;614:153,51,153;615:102,51,102;616:255,0,255;617:204,0,204;618:153,0,153;619:102,0,102;620:51,0,51;622:255,204,204;623:255,153,153;624:204,153,153;625:255,102,102;626:204,102,102;627:153,102,102;628:255,51,51;629:204,51,51;630:153,51,51;631:102,51,51;632:255,0,0;633:204,0,0;634:153,0,0;635:102,0,0;636:51,0,0;791:255,204,153;792:204,153,102;793:153,102,51;794:153,102,0;795:204,153,51;796:255,204,102;797:255,153,0;798:255,204,51;799:204,153,0;800:255,204,0;801:255,153,51;802:204,102,0;803:102,51,0;804:153,51,0;805:204,102,51;806:255,153,102;807:255,102,0;808:255,102,51;809:204,51,0;810:255,51,0;811:153,255,51;812:102,204,0;813:51,102,0;814:51,153,0;815:102,204,51;816:153,255,102;817:102,255,0;818:102,255,51;819:51,204,0;820:51,255,0;821:204,255,153;822:153,204,102;823:102,153,51;824:102,153,0;825:153,204,51;826:204,255,102;827:153,255,0;828:204,255,51;829:153,204,0;830:204,255,0;831:153,255,204;832:102,204,153;833:51,153,102;834:0,153,102;835:51,204,153;836:102,255,204;837:0,255,102;838:51,255,204;839:0,204,153;840:0,255,204;841:51,255,153;842:0,204,102;843:0,102,51;844:0,153,51;845:51,204,102;846:102,255,153;847:0,255,153;848:51,255,102;849:0,204,51;850:0,255,51;851:153,204,255;852:102,153,204;853:51,102,153;854:0,51,153;855:51,102,204;856:102,153,255;857:0,102,255;858:51,102,255;859:0,51,204;860:0,51,255;861:51,153,255;862:0,102,204;863:0,51,102;864:0,102,153;865:51,153,204;866:102,204,255;867:0,153,255;868:51,204,255;869:0,153,204;870:0,204,255;871:204,153,255;872:153,102,204;873:102,51,153;874:102,0,153;875:153,51,204;876:204,102,255;877:153,0,255;878:204,51,255;879:153,0,204;880:204,0,255;881:153,51,255;882:102,0,204;883:51,0,102;884:51,0,153;885:102,51,204;886:153,102,255;887:102,0,255;888:102,51,255;889:51,0,204;890:51,0,255;891:255,51,153;892:204,0,102;893:102,0,51;894:153,0,51;895:204,51,102;896:255,102,153;897:255,0,102;898:255,51,102;899:204,0,51;900:255,0,51;901:255,153,204;902:204,102,153;903:153,51,102;904:153,0,102;905:204,51,153;906:255,102,204;907:255,0,153;908:204,0,153;909:255,51,204;910:255,0,153;920:204,204,204;921:153,153,153;922:102,102,102;923:51,51,51;924:53,42,134;925:51,44,137;926:50,45,140;927:49,47,143;928:48,48,146;929:46,50,148;930:45,51,151;931:44,53,154;932:43,55,157;933:42,56,160;934:40,58,162;935:39,59,165;936:38,61,168;937:37,63,171;938:35,64,174;939:34,66,176;940:33,67,179;941:32,69,182;942:31,71,185;943:29,72,187;944:28,74,190;945:27,75,193;946:26,77,196;947:24,79,199;948:23,80,201;949:22,82,204;950:21,83,207;951:19,85,210;952:18,86,213;953:17,88,215;954:16,90,218;955:15,91,221;956:15,92,221;957:15,94,220;958:15,95,220;959:15,96,220;960:15,97,220;961:15,98,220;962:16,99,219;963:16,100,219;964:16,102,219;965:16,103,219;966:16,104,218;967:16,105,218;968:17,106,218;969:17,107,218;970:17,109,217;971:17,110,217;972:17,111,217;973:17,112,217;974:17,113,216;975:18,114,216;976:18,115,216;977:18,117,216;978:18,118,215;979:18,119,215;980:18,120,215;981:18,121,215;982:19,122,215;983:19,123,214;984:19,125,214;985:19,126,214;986:19,127,214;987:19,128,213;988:19,129,213;989:19,130,213;990:18,131,212;991:18,132,212;992:17,134,211;993:17,135,211;994:16,136,211;995:16,137,210;996:15,138,210;997:15,139,210;998:15,140,209;999:14,141,209;1000:14,142,208;1001:13,143,208;1002:13,145,208;1003:12,146,207;1004:12,147,207;1005:12,148,207;1006:11,149,206;1007:11,150,206;1008:10,151,205;1009:10,152,205;1010:9,153,205;1011:9,154,204;1012:8,155,204;1013:8,157,204;1014:8,158,203;1015:7,159,203;1016:7,160,202;1017:6,161,202;1018:6,162,202;1019:5,163,201;1020:7,164,200;1021:8,164,199;1022:9,165,198;1023:10,166,197;1024:12,166,195;1025:13,167,194;1026:14,167,193;1027:15,168,192;1028:17,169,191;1029:18,169,189;1030:19,170,188;1031:20,170,187;1032:22,171,186;1033:23,172,185;1034:24,172,184;1035:25,173,182;1036:27,173,181;1037:28,174,180;1038:29,175,179;1039:30,175,178;1040:32,176,176;1041:33,176,175;1042:34,177,174;1043:35,178,173;1044:37,178,172;1045:38,179,170;1046:39,180,169;1047:40,180,168;1048:42,181,167;1049:43,181,166;1050:44,182,165;1051:45,183,163;1052:48,183,162;1053:51,183,161;1054:54,183,159;1055:57,184,158;1056:59,184,156;1057:62,184,155;1058:65,184,154;1059:68,185,152;1060:71,185,151;1061:73,185,149;1062:76,185,148;1063:79,186,146;1064:82,186,145;1065:84,186,144;1066:87,186,142;1067:90,187,141;1068:93,187,139;1069:96,187,138;1070:98,187,137;1071:101,188,135;1072:104,188,134;1073:107,188,132;1074:110,188,131;1075:112,189,130;1076:115,189,128;1077:118,189,127;1078:121,189,125;1079:124,190,124;1080:126,190,123;1081:129,190,121;1082:132,190,120;1083:135,191,118;1084:137,190,117;1085:139,190,117;1086:142,190,116;1087:144,190,115;1088:146,190,114;1089:148,190,113;1090:151,190,112;1091:153,190,111;1092:155,189,110;1093:158,189,109;1094:160,189,108;1095:162,189,107;1096:165,189,106;1097:167,189,105;1098:169,189,104;1099:171,188,104;1100:174,188,103;1101:176,188,102;1102:178,188,101;1103:181,188,100;1104:183,188,99;1105:185,188,98;1106:188,188,97;1107:190,187,96;1108:192,187,95;1109:194,187,94;1110:197,187,93;1111:199,187,92;1112:201,187,92;1113:204,187,91;1114:206,186,90;1115:208,186,89;1116:210,187,88;1117:211,187,86;1118:212,188,85;1119:214,188,84;1120:215,188,83;1121:217,189,81;1122:218,189,80;1123:220,190,79;1124:221,190,78;1125:222,191,77;1126:224,191,75;1127:225,191,74;1128:227,192,73;1129:228,192,72;1130:229,193,70;1131:231,193,69;1132:232,194,68;1133:234,194,67;1134:235,194,66;1135:236,195,64;1136:238,195,63;1137:239,196,62;1138:241,196,61;1139:242,197,59;1140:244,197,58;1141:245,197,57;1142:246,198,56;1143:248,198,55;1144:249,199,53;1145:251,199,52;1146:252,200,51;1147:253,200,50;1148:253,202,49;1149:253,203,47;1150:253,205,46;1151:253,206,45;1152:253,208,44;1153:252,209,43;1154:252,211,42;1155:252,213,41;1156:252,214,39;1157:252,216,38;1158:252,217,37;1159:252,219,36;1160:251,220,35;1161:251,222,34;1162:251,224,33;1163:251,225,31;1164:251,227,30;1165:251,228,29;1166:250,230,28;1167:250,231,27;1168:250,233,26;1169:250,235,25;1170:250,236,23;1171:250,238,22;1172:250,239,21;1173:249,241,20;1174:249,242,19;1175:249,244,18;1176:249,246,17;1177:249,247,16;1178:249,249,14\",\"fBuf\":{\"$arr\":\"Float32\",\"len\":255,\"v\":[924,925,926,927,928,929,930,931,932,933,934,935,936,937,938,939,940,941,942,943,944,945,946,947,948,949,950,951,952,953,954,955,956,957,958,959,960,961,962,963,964,965,966,967,968,969,970,971,972,973,974,975,976,977,978,979,980,981,982,983,984,985,986,987,988,989,990,991,992,993,994,995,996,997,998,999,1000,1001,1002,1003,1004,1005,1006,1007,1008,1009,1010,1011,1012,1013,1014,1015,1016,1017,1018,1019,1020,1021,1022,1023,1024,1025,1026,1027,1028,1029,1030,1031,1032,1033,1034,1035,1036,1037,1038,1039,1040,1041,1042,1043,1044,1045,1046,1047,1048,1049,1050,1051,1052,1053,1054,1055,1056,1057,1058,1059,1060,1061,1062,1063,1064,1065,1066,1067,1068,1069,1070,1071,1072,1073,1074,1075,1076,1077,1078,1079,1080,1081,1082,1083,1084,1085,1086,1087,1088,1089,1090,1091,1092,1093,1094,1095,1096,1097,1098,1099,1100,1101,1102,1103,1104,1105,1106,1107,1108,1109,1110,1111,1112,1113,1114,1115,1116,1117,1118,1119,1120,1121,1122,1123,1124,1125,1126,1127,1128,1129,1130,1131,1132,1133,1134,1135,1136,1137,1138,1139,1140,1141,1142,1143,1144,1145,1146,1147,1148,1149,1150,1151,1152,1153,1154,1155,1156,1157,1158,1159,1160,1161,1162,1163,1164,1165,1166,1167,1168,1169,1170,1171,1172,1173,1174,1175,1176,1177,1178]}}},{\"_typename\":\"TWebSnapshot\",\"fUniqueID\":0,\"fBits\":0,\"fObjectID\":\"\",\"fOption\":\"\",\"fKind\":5,\"fSnapshot\":{\"_typename\":\"TStyle\",\"fUniqueID\":0,\"fBits\":0,\"fName\":\"Modern\",\"fTitle\":\"Modern Style\",\"fLineColor\":1,\"fLineStyle\":1,\"fLineWidth\":1,\"fFillColor\":19,\"fFillStyle\":1001,\"fMarkerColor\":1,\"fMarkerStyle\":1,\"fMarkerSize\":1,\"fTextAngle\":0,\"fTextSize\":0.05,\"fTextAlign\":11,\"fTextColor\":1,\"fTextFont\":62,\"fXaxis\":{\"_typename\":\"TAttAxis\",\"fNdivisions\":510,\"fAxisColor\":1,\"fLabelColor\":1,\"fLabelFont\":42,\"fLabelOffset\":0.005,\"fLabelSize\":0.035,\"fTickLength\":0.03,\"fTitleOffset\":1,\"fTitleSize\":0.035,\"fTitleColor\":1,\"fTitleFont\":42},\"fYaxis\":{\"_typename\":\"TAttAxis\",\"fNdivisions\":510,\"fAxisColor\":1,\"fLabelColor\":1,\"fLabelFont\":42,\"fLabelOffset\":0.005,\"fLabelSize\":0.035,\"fTickLength\":0.03,\"fTitleOffset\":0,\"fTitleSize\":0.035,\"fTitleColor\":1,\"fTitleFont\":42},\"fZaxis\":{\"_typename\":\"TAttAxis\",\"fNdivisions\":510,\"fAxisColor\":1,\"fLabelColor\":1,\"fLabelFont\":42,\"fLabelOffset\":0.005,\"fLabelSize\":0.035,\"fTickLength\":0.03,\"fTitleOffset\":1,\"fTitleSize\":0.035,\"fTitleColor\":1,\"fTitleFont\":42},\"fBarWidth\":1,\"fBarOffset\":0,\"fColorModelPS\":0,\"fDrawBorder\":0,\"fOptLogx\":0,\"fOptLogy\":0,\"fOptLogz\":0,\"fOptDate\":0,\"fOptStat\":1111,\"fOptTitle\":1,\"fOptFile\":0,\"fOptFit\":0,\"fShowEventStatus\":0,\"fShowEditor\":0,\"fShowToolBar\":0,\"fNumberContours\":20,\"fAttDate\":{\"_typename\":\"TAttText\",\"fTextAngle\":0,\"fTextSize\":0.025,\"fTextAlign\":11,\"fTextColor\":1,\"fTextFont\":62},\"fDateX\":0.01,\"fDateY\":0.01,\"fEndErrorSize\":2,\"fErrorX\":0.5,\"fFuncColor\":2,\"fFuncStyle\":1,\"fFuncWidth\":2,\"fGridColor\":0,\"fGridStyle\":3,\"fGridWidth\":1,\"fLegendBorderSize\":1,\"fLegendFillColor\":0,\"fLegendFillStyle\":1001,\"fLegendFont\":42,\"fLegendTextSize\":0,\"fHatchesLineWidth\":1,\"fHatchesSpacing\":1,\"fFrameFillColor\":0,\"fFrameLineColor\":1,\"fFrameFillStyle\":1001,\"fFrameLineStyle\":1,\"fFrameLineWidth\":1,\"fFrameBorderSize\":1,\"fFrameBorderMode\":0,\"fHistFillColor\":0,\"fHistLineColor\":602,\"fHistFillStyle\":1001,\"fHistLineStyle\":1,\"fHistLineWidth\":1,\"fHistMinimumZero\":false,\"fHistTopMargin\":0.05,\"fCanvasPreferGL\":false,\"fCanvasColor\":0,\"fCanvasBorderSize\":2,\"fCanvasBorderMode\":0,\"fCanvasDefH\":500,\"fCanvasDefW\":700,\"fCanvasDefX\":10,\"fCanvasDefY\":10,\"fPadColor\":0,\"fPadBorderSize\":2,\"fPadBorderMode\":0,\"fPadBottomMargin\":0.1,\"fPadTopMargin\":0.1,\"fPadLeftMargin\":0.1,\"fPadRightMargin\":0.1,\"fPadGridX\":false,\"fPadGridY\":false,\"fPadTickX\":0,\"fPadTickY\":0,\"fPaperSizeX\":20,\"fPaperSizeY\":26,\"fScreenFactor\":1,\"fStatColor\":0,\"fStatTextColor\":1,\"fStatBorderSize\":1,\"fStatFont\":42,\"fStatFontSize\":0,\"fStatStyle\":1001,\"fStatFormat\":\"6.4g\",\"fStatX\":0.98,\"fStatY\":0.935,\"fStatW\":0.2,\"fStatH\":0.16,\"fStripDecimals\":true,\"fTitleAlign\":23,\"fTitleColor\":0,\"fTitleTextColor\":1,\"fTitleBorderSize\":0,\"fTitleFont\":42,\"fTitleFontSize\":0.05,\"fTitleStyle\":0,\"fTitleX\":0.5,\"fTitleY\":0.995,\"fTitleW\":0,\"fTitleH\":0,\"fLegoInnerR\":0.5,\"fLineStyles\":[\"\",\"  \",\" 12 12\",\" 4 8\",\" 12 16 4 16\",\" 20 12 4 12\",\" 20 12 4 12 4 12 4 12\",\" 20 20\",\" 20 12 4 12 4 12\",\" 80 20\",\" 80 40 4 40\",\"  \",\"  \",\"  \",\"  \",\"  \",\"  \",\"  \",\"  \",\"  \",\"  \",\"  \",\"  \",\"  \",\"  \",\"  \",\"  \",\"  \",\"  \",\"  \"],\"fHeaderPS\":\"\",\"fTitlePS\":\"\",\"fFitFormat\":\"5.4g\",\"fPaintTextFormat\":\"g\",\"fLineScalePS\":3,\"fJoinLinePS\":0,\"fCapLinePS\":0,\"fTimeOffset\":788918400,\"fImageScaling\":1,\"fCandleWhiskerRange\":1,\"fCandleBoxRange\":0.5,\"fCandleScaled\":false,\"fViolinScaled\":true,\"fXAxisExpXOffset\":0,\"fXAxisExpYOffset\":0,\"fYAxisExpXOffset\":0,\"fYAxisExpYOffset\":0,\"fAxisMaxDigits\":5,\"fOrthoCamera\":false}},{\"_typename\":\"TPadWebSnapshot\",\"fUniqueID\":0,\"fBits\":0,\"fObjectID\":\"\",\"fOption\":\"\",\"fKind\":3,\"fSnapshot\":{\"_typename\":\"TPad\",\"fUniqueID\":0,\"fBits\":9,\"fLineColor\":1,\"fLineStyle\":1,\"fLineWidth\":1,\"fFillColor\":0,\"fFillStyle\":1001,\"fLeftMargin\":0.15,\"fRightMargin\":0.1,\"fBottomMargin\":0.1,\"fTopMargin\":0.1,\"fXfile\":2,\"fYfile\":2,\"fAfile\":1,\"fXstat\":0.99,\"fYstat\":0.99,\"fAstat\":2,\"fFrameFillColor\":0,\"fFrameLineColor\":1,\"fFrameFillStyle\":1001,\"fFrameLineStyle\":1,\"fFrameLineWidth\":1,\"fFrameBorderSize\":1,\"fFrameBorderMode\":0,\"fX1\":-0.0702600029746691,\"fY1\":-0.391191125878357,\"fX2\":0.428806667410334,\"fY2\":3.52071989973713,\"fXtoAbsPixelk\":92.7805893227306,\"fXtoPixelk\":80.8205895900575,\"fXtoPixel\":1150.30723268252,\"fYtoAbsPixelk\":510.223996761083,\"fYtoPixelk\":504.503996888935,\"fYtoPixel\":-143.295692715175,\"fUtoAbsPixelk\":11.9599997326732,\"fUtoPixelk\":0,\"fUtoPixel\":574.080000534654,\"fVtoAbsPixelk\":566.280000127852,\"fVtoPixelk\":560.560000255704,\"fVtoPixel\":-560.560000255704,\"fAbsPixeltoXk\":-0.0806572250322775,\"fPixeltoXk\":-0.0702600029746691,\"fPixeltoX\":8.69332967391672e-4,\"fAbsPixeltoYk\":3.56063735827176,\"fPixeltoYk\":-0.391191125878357,\"fPixeltoY\":-0.00697857682287541,\"fXlowNDC\":0.00999999977648258,\"fYlowNDC\":0.00999999977648258,\"fXUpNDC\":0.490000000223517,\"fYUpNDC\":0.990000000223517,\"fWNDC\":0.480000000447035,\"fHNDC\":0.980000000447035,\"fAbsXlowNDC\":0.00999999977648258,\"fAbsYlowNDC\":0.00999999977648258,\"fAbsWNDC\":0.480000000447035,\"fAbsHNDC\":0.980000000447035,\"fUxmin\":0.0046,\"fUymin\":0,\"fUxmax\":0.3789,\"fUymax\":3.12952877385878,\"fTheta\":30,\"fPhi\":30,\"fAspectRatio\":0,\"fNumber\":1,\"fTickx\":0,\"fTicky\":0,\"fLogx\":0,\"fLogy\":1,\"fLogz\":0,\"fPadPaint\":0,\"fCrosshair\":0,\"fCrosshairPos\":0,\"fBorderSize\":2,\"fBorderMode\":0,\"fModified\":false,\"fGridx\":false,\"fGridy\":false,\"fAbsCoord\":false,\"fEditable\":true,\"fFixedAspectRatio\":false,\"fPrimitives\":{\"_typename\":\"TList\",\"name\":\"TList\",\"arr\":[],\"opt\":[]},\"fExecs\":{\"_typename\":\"TList\",\"name\":\"TList\",\"arr\":[],\"opt\":[]},\"fName\":\"t_dist_canvas_1\",\"fTitle\":\"t_dist_canvas_1\",\"fNumPaletteColor\":0,\"fNextPaletteColor\":0},\"fActive\":false,\"fReadOnly\":true,\"fWithoutPrimitives\":false,\"fHasExecs\":true,\"fPrimitives\":[{\"_typename\":\"TWebSnapshot\",\"fUniqueID\":0,\"fBits\":0,\"fObjectID\":\"\",\"fOption\":\"\",\"fKind\":1,\"fSnapshot\":{\"_typename\":\"TFrame\",\"fUniqueID\":0,\"fBits\":8,\"fLineColor\":1,\"fLineStyle\":1,\"fLineWidth\":1,\"fFillColor\":0,\"fFillStyle\":1001,\"fX1\":0.0046,\"fY1\":0,\"fX2\":0.3789,\"fY2\":3.12952877385878,\"fBorderSize\":1,\"fBorderMode\":0}},{\"_typename\":\"TWebSnapshot\",\"fUniqueID\":0,\"fBits\":0,\"fObjectID\":\"\",\"fOption\":\"\",\"fKind\":1,\"fSnapshot\":{\"_typename\":\"TH1D\",\"fUniqueID\":0,\"fBits\":520,\"fName\":\"Dataset 3, diagonal 0 t_abs_dist after cuts\",\"fTitle\":\"Dataset 3, diagonal 0 |t| distribution after the cuts\",\"fLineColor\":602,\"fLineStyle\":1,\"fLineWidth\":1,\"fFillColor\":0,\"fFillStyle\":1001,\"fMarkerColor\":1,\"fMarkerStyle\":1,\"fMarkerSize\":1,\"fNcells\":89,\"fXaxis\":{\"_typename\":\"TAxis\",\"fUniqueID\":0,\"fBits\":0,\"fName\":\"xaxis\",\"fTitle\":\"|t| [GeV^2]\",\"fNdivisions\":510,\"fAxisColor\":1,\"fLabelColor\":1,\"fLabelFont\":42,\"fLabelOffset\":0.005,\"fLabelSize\":0.035,\"fTickLength\":0.03,\"fTitleOffset\":1,\"fTitleSize\":0.035,\"fTitleColor\":1,\"fTitleFont\":42,\"fNbins\":87,\"fXmin\":0.0046,\"fXmax\":0.3789,\"fXbins\":{\"$arr\":\"Float64\",\"len\":88,\"v\":[0.0046,0.0057,0.0073,0.009059,0.01084,0.01263,0.01445,0.01629,0.01814,0.02002,0.02192,0.02384,0.02579,0.02775,0.02974,0.03176,0.0338,0.03586,0.03795,0.04007,0.04221,0.04438,0.04658,0.04881,0.05107,0.05336,0.05569,0.05804,0.06043,0.06286,0.06532,0.06781,0.07035,0.07292,0.07554,0.07819,0.08089,0.08364,0.08643,0.08926,0.09215,0.09509,0.09808,0.1011,0.1042,0.1074,0.1106,0.1139,0.1172,0.1207,0.1241,0.1277,0.1314,0.1351,0.1389,0.1428,0.1468,0.1509,0.1551,0.1594,0.1638,0.1683,0.173,0.1778,0.1827,0.1878,0.1931,0.1985,0.2041,0.2099,0.2159,0.2221,0.2286,0.2353,0.2424,0.2497,0.2573,0.2654,0.2738,0.2827,0.2921,0.3021,0.3127,0.324,0.3361,0.3492,0.3634,0.3789]},\"fFirst\":0,\"fLast\":0,\"fBits2\":0,\"fTimeDisplay\":false,\"fTimeFormat\":\"\",\"fLabels\":null,\"fModLabs\":null},\"fYaxis\":{\"_typename\":\"TAxis\",\"fUniqueID\":0,\"fBits\":0,\"fName\":\"yaxis\",\"fTitle\":\"dN [-]\",\"fNdivisions\":510,\"fAxisColor\":1,\"fLabelColor\":1,\"fLabelFont\":42,\"fLabelOffset\":0.005,\"fLabelSize\":0.035,\"fTickLength\":0.03,\"fTitleOffset\":0,\"fTitleSize\":0.035,\"fTitleColor\":1,\"fTitleFont\":42,\"fNbins\":1,\"fXmin\":0,\"fXmax\":1,\"fXbins\":[],\"fFirst\":0,\"fLast\":0,\"fBits2\":0,\"fTimeDisplay\":false,\"fTimeFormat\":\"\",\"fLabels\":null,\"fModLabs\":null},\"fZaxis\":{\"_typename\":\"TAxis\",\"fUniqueID\":0,\"fBits\":0,\"fName\":\"zaxis\",\"fTitle\":\"\",\"fNdivisions\":510,\"fAxisColor\":1,\"fLabelColor\":1,\"fLabelFont\":42,\"fLabelOffset\":0.005,\"fLabelSize\":0.035,\"fTickLength\":0.03,\"fTitleOffset\":1,\"fTitleSize\":0.035,\"fTitleColor\":1,\"fTitleFont\":42,\"fNbins\":1,\"fXmin\":0,\"fXmax\":1,\"fXbins\":[],\"fFirst\":0,\"fLast\":0,\"fBits2\":0,\"fTimeDisplay\":false,\"fTimeFormat\":\"\",\"fLabels\":null,\"fModLabs\":null},\"fBarOffset\":0,\"fBarWidth\":1000,\"fEntries\":45662,\"fTsumw\":45649,\"fTsumw2\":45649,\"fTsumwx\":2659.04140075315,\"fTsumwx2\":247.601222659814,\"fMaximum\":1347.5,\"fMinimum\":1,\"fNormFactor\":0,\"fContour\":[],\"fSumw2\":[],\"fOption\":\"\",\"fFunctions\":{\"_typename\":\"TList\",\"name\":\"TList\",\"arr\":[],\"opt\":[]},\"fBufferSize\":0,\"fBuffer\":[],\"fBinStatErrOpt\":0,\"fStatOverflows\":2,\"fArray\":{\"$arr\":\"Float64\",\"len\":89,\"p\":2,\"v\":[654,950,1043,1125,1131,1199,1220,1223,1213,1225,1182,1167,1137,1194,1132,1105,1044,1094,1080,1025,991,957,923,948,895,851,804,831,814,803,782,697,725,713,619,629,624,629,555,607,540,515,509,446,461,415,391,361,385,342,372,319,317,283,249,211,176,193,169,148,149,133,146,105,112,79,78,50,49,55,55,41,47,36,26,33,19,25,12,16,13,6,8,6,5,3,13]}}},{\"_typename\":\"TWebSnapshot\",\"fUniqueID\":0,\"fBits\":0,\"fObjectID\":\"\",\"fOption\":\"blNDC\",\"fKind\":1,\"fSnapshot\":{\"_typename\":\"TPaveText\",\"fUniqueID\":0,\"fBits\":9,\"fLineColor\":1,\"fLineStyle\":1,\"fLineWidth\":1,\"fFillColor\":0,\"fFillStyle\":0,\"fX1\":0.00459999758308133,\"fY1\":3.25830588982644,\"fX2\":0.353946666852583,\"fY2\":3.5011603632625,\"fX1NDC\":0.15,\"fY1NDC\":0.9329192284302,\"fX2NDC\":0.85,\"fY2NDC\":0.995000004768372,\"fBorderSize\":0,\"fInit\":1,\"fShadowColor\":1,\"fCornerRadius\":0,\"fOption\":\"blNDC\",\"fName\":\"title\",\"fTextAngle\":0,\"fTextSize\":0,\"fTextAlign\":22,\"fTextColor\":1,\"fTextFont\":42,\"fLabel\":\"\",\"fLongest\":53,\"fMargin\":0.05,\"fLines\":{\"_typename\":\"TList\",\"name\":\"TList\",\"arr\":[{\"_typename\":\"TLatex\",\"fUniqueID\":0,\"fBits\":0,\"fName\":\"\",\"fTitle\":\"Dataset 3, diagonal 0 |t| distribution after the cuts\",\"fTextAngle\":0,\"fTextSize\":0,\"fTextAlign\":0,\"fTextColor\":0,\"fTextFont\":0,\"fX\":0,\"fY\":0,\"fLineColor\":1,\"fLineStyle\":1,\"fLineWidth\":2,\"fLimitFactorSize\":3,\"fOriginSize\":0.0527686588466167}],\"opt\":[\"\"]}}}]},{\"_typename\":\"TPadWebSnapshot\",\"fUniqueID\":0,\"fBits\":0,\"fObjectID\":\"\",\"fOption\":\"\",\"fKind\":3,\"fSnapshot\":{\"_typename\":\"TPad\",\"fUniqueID\":0,\"fBits\":9,\"fLineColor\":1,\"fLineStyle\":1,\"fLineWidth\":1,\"fFillColor\":0,\"fFillStyle\":1001,\"fLeftMargin\":0.15,\"fRightMargin\":0.1,\"fBottomMargin\":0.1,\"fTopMargin\":0.1,\"fXfile\":2,\"fYfile\":2,\"fAfile\":1,\"fXstat\":0.99,\"fYstat\":0.99,\"fAstat\":2,\"fFrameFillColor\":0,\"fFrameLineColor\":1,\"fFrameFillStyle\":1001,\"fFrameLineStyle\":1,\"fFrameLineWidth\":1,\"fFrameBorderSize\":1,\"fFrameBorderMode\":0,\"fX1\":-0.0702600029746691,\"fY1\":-0.458573202353835,\"fX2\":0.428806667410334,\"fY2\":4.12715854785359,\"fXtoAbsPixelk\":690.780589322731,\"fXtoPixelk\":80.8205895900575,\"fXtoPixel\":1150.30723268252,\"fYtoAbsPixelk\":510.223996761083,\"fYtoPixelk\":504.503996888935,\"fYtoPixel\":-122.240032952287,\"fUtoAbsPixelk\":609.959999732673,\"fUtoPixelk\":0,\"fUtoPixel\":574.080000534654,\"fVtoAbsPixelk\":566.280000127852,\"fVtoPixelk\":560.560000255704,\"fVtoPixel\":-560.560000255704,\"fAbsPixeltoXk\":-0.600518339532497,\"fPixeltoXk\":-0.0702600029746691,\"fPixeltoX\":8.69332967391672e-4,\"fAbsPixeltoYk\":4.1739517279109,\"fPixeltoYk\":-0.458573202353835,\"fPixeltoY\":-0.00818062606699658,\"fXlowNDC\":0.509999999776483,\"fYlowNDC\":0.00999999977648258,\"fXUpNDC\":0.990000000223517,\"fYUpNDC\":0.990000000223517,\"fWNDC\":0.480000000447035,\"fHNDC\":0.980000000447035,\"fAbsXlowNDC\":0.509999999776483,\"fAbsYlowNDC\":0.00999999977648258,\"fAbsWNDC\":0.480000000447035,\"fAbsHNDC\":0.980000000447035,\"fUxmin\":0.0046,\"fUymin\":0,\"fUxmax\":0.3789,\"fUymax\":3.66858534549975,\"fTheta\":30,\"fPhi\":30,\"fAspectRatio\":0,\"fNumber\":2,\"fTickx\":0,\"fTicky\":0,\"fLogx\":0,\"fLogy\":1,\"fLogz\":0,\"fPadPaint\":0,\"fCrosshair\":0,\"fCrosshairPos\":0,\"fBorderSize\":2,\"fBorderMode\":0,\"fModified\":false,\"fGridx\":false,\"fGridy\":false,\"fAbsCoord\":false,\"fEditable\":true,\"fFixedAspectRatio\":false,\"fPrimitives\":{\"_typename\":\"TList\",\"name\":\"TList\",\"arr\":[],\"opt\":[]},\"fExecs\":{\"_typename\":\"TList\",\"name\":\"TList\",\"arr\":[],\"opt\":[]},\"fName\":\"t_dist_canvas_2\",\"fTitle\":\"t_dist_canvas_2\",\"fNumPaletteColor\":0,\"fNextPaletteColor\":0},\"fActive\":false,\"fReadOnly\":true,\"fWithoutPrimitives\":false,\"fHasExecs\":true,\"fPrimitives\":[{\"_typename\":\"TWebSnapshot\",\"fUniqueID\":0,\"fBits\":0,\"fObjectID\":\"\",\"fOption\":\"\",\"fKind\":1,\"fSnapshot\":{\"_typename\":\"TFrame\",\"fUniqueID\":0,\"fBits\":8,\"fLineColor\":1,\"fLineStyle\":1,\"fLineWidth\":1,\"fFillColor\":0,\"fFillStyle\":1001,\"fX1\":0.0046,\"fY1\":0,\"fX2\":0.3789,\"fY2\":3.66858534549975,\"fBorderSize\":1,\"fBorderMode\":0}},{\"_typename\":\"TWebSnapshot\",\"fUniqueID\":0,\"fBits\":0,\"fObjectID\":\"\",\"fOption\":\"\",\"fKind\":1,\"fSnapshot\":{\"_typename\":\"TH1D\",\"fUniqueID\":0,\"fBits\":520,\"fName\":\"Dataset 3, diagonal 0 t_abs_dist after cuts with correction\",\"fTitle\":\"Dataset 3, diagonal 0 |t| distribution after the cuts, with acceptance correction\",\"fLineColor\":602,\"fLineStyle\":1,\"fLineWidth\":1,\"fFillColor\":0,\"fFillStyle\":1001,\"fMarkerColor\":1,\"fMarkerStyle\":1,\"fMarkerSize\":1,\"fNcells\":89,\"fXaxis\":{\"_typename\":\"TAxis\",\"fUniqueID\":0,\"fBits\":0,\"fName\":\"xaxis\",\"fTitle\":\"|t| [GeV^2]\",\"fNdivisions\":510,\"fAxisColor\":1,\"fLabelColor\":1,\"fLabelFont\":42,\"fLabelOffset\":0.005,\"fLabelSize\":0.035,\"fTickLength\":0.03,\"fTitleOffset\":1,\"fTitleSize\":0.035,\"fTitleColor\":1,\"fTitleFont\":42,\"fNbins\":87,\"fXmin\":0.0046,\"fXmax\":0.3789,\"fXbins\":{\"$arr\":\"Float64\",\"len\":88,\"v\":[0.0046,0.0057,0.0073,0.009059,0.01084,0.01263,0.01445,0.01629,0.01814,0.02002,0.02192,0.02384,0.02579,0.02775,0.02974,0.03176,0.0338,0.03586,0.03795,0.04007,0.04221,0.04438,0.04658,0.04881,0.05107,0.05336,0.05569,0.05804,0.06043,0.06286,0.06532,0.06781,0.07035,0.07292,0.07554,0.07819,0.08089,0.08364,0.08643,0.08926,0.09215,0.09509,0.09808,0.1011,0.1042,0.1074,0.1106,0.1139,0.1172,0.1207,0.1241,0.1277,0.1314,0.1351,0.1389,0.1428,0.1468,0.1509,0.1551,0.1594,0.1638,0.1683,0.173,0.1778,0.1827,0.1878,0.1931,0.1985,0.2041,0.2099,0.2159,0.2221,0.2286,0.2353,0.2424,0.2497,0.2573,0.2654,0.2738,0.2827,0.2921,0.3021,0.3127,0.324,0.3361,0.3492,0.3634,0.3789]},\"fFirst\":0,\"fLast\":0,\"fBits2\":0,\"fTimeDisplay\":false,\"fTimeFormat\":\"\",\"fLabels\":null,\"fModLabs\":null},\"fYaxis\":{\"_typename\":\"TAxis\",\"fUniqueID\":0,\"fBits\":0,\"fName\":\"yaxis\",\"fTitle\":\"dN [-]\",\"fNdivisions\":510,\"fAxisColor\":1,\"fLabelColor\":1,\"fLabelFont\":42,\"fLabelOffset\":0.005,\"fLabelSize\":0.035,\"fTickLength\":0.03,\"fTitleOffset\":0,\"fTitleSize\":0.035,\"fTitleColor\":1,\"fTitleFont\":42,\"fNbins\":1,\"fXmin\":0,\"fXmax\":1,\"fXbins\":[],\"fFirst\":0,\"fLast\":0,\"fBits2\":0,\"fTimeDisplay\":false,\"fTimeFormat\":\"\",\"fLabels\":null,\"fModLabs\":null},\"fZaxis\":{\"_typename\":\"TAxis\",\"fUniqueID\":0,\"fBits\":0,\"fName\":\"zaxis\",\"fTitle\":\"\",\"fNdivisions\":510,\"fAxisColor\":1,\"fLabelColor\":1,\"fLabelFont\":42,\"fLabelOffset\":0.005,\"fLabelSize\":0.035,\"fTickLength\":0.03,\"fTitleOffset\":1,\"fTitleSize\":0.035,\"fTitleColor\":1,\"fTitleFont\":42,\"fNbins\":1,\"fXmin\":0,\"fXmax\":1,\"fXbins\":[],\"fFirst\":0,\"fLast\":0,\"fBits2\":0,\"fTimeDisplay\":false,\"fTimeFormat\":\"\",\"fLabels\":null,\"fModLabs\":null},\"fBarOffset\":0,\"fBarWidth\":1000,\"fEntries\":45662,\"fTsumw\":126743.616520214,\"fTsumw2\":375283.911710598,\"fTsumwx\":7077.41504394274,\"fTsumwx2\":701.220255847777,\"fMaximum\":4662.14037180242,\"fMinimum\":1,\"fNormFactor\":0,\"fContour\":[],\"fSumw2\":{\"$arr\":\"Float64\",\"len\":89,\"p\":2,\"v\":[24359.6921823127,19632.8951101031,16012.2126868227,14520.2329210457,12969.7166508566,12477.4800298737,11727.7373651243,11208.112958617,10601.3984031955,10214.6085057661,9333.32208016869,9002.24568823233,8584.72347890608,8730.40912044911,8162.40432190135,7598.70127531482,7147.98383516063,7445.2464677277,7226.9561341975,6854.0174730959,6401.22852856984,6240.31779955701,5690.21621307123,5835.42198581889,5501.91851108334,5151.45889996269,4924.90144666293,5027.34900086826,4905.58715982507,4707.53846883099,4610.39605618789,3999.68557020809,4096.75788822417,4096.12714388596,3492.69413254023,3557.32531343549,3507.45805178969,3537.27266416068,3065.28980890559,3314.43331792579,2921.53952175765,2776.14052737627,2780.14828726016,2433.78529850348,2443.70418785509,2219.3243528557,2069.06230433102,1885.24458718104,1999.4690753974,1803.69800830408,1937.74708799649,1673.78160777193,1731.30913934505,1681.3368225275,1686.49014662601,1607.40279169295,1465.20947108325,1750.27007650302,1597.79429395893,1475.53436961657,1564.58011279592,1444.83007523048,1759.88315220765,1287.57524854004,1533.47702716257,1128.42739264597,1103.32165171584,789.651904238704,799.078372747237,994.308692129406,1000.67092909824,745.690323676613,1014.16550684319,681.013094950546,540.772743802369,672.026589114506,435.769624515176,551.62693918725,279.07032165678,402.700565022152,334.18837030237,157.961703189158,219.975350250336,172.262856333324,152.034722118061,106.381832799542,625.183201675225]},\"fOption\":\"\",\"fFunctions\":{\"_typename\":\"TList\",\"name\":\"TList\",\"arr\":[],\"opt\":[]},\"fBufferSize\":0,\"fBuffer\":[],\"fBinStatErrOpt\":0,\"fStatOverflows\":2,\"fArray\":{\"$arr\":\"Float64\",\"len\":89,\"p\":2,\"v\":[3852.71456947456,4238.30942891129,4037.75093562761,4002.27293310562,3790.74592961041,3836.36494478376,3754.58799655069,3670.03200401401,3557.5652937602,3509.50647790598,3306.51434070404,3223.45189473014,3104.66206467947,3212.39839677225,3018.13131565766,2892.91945764175,2721.47870631518,2838.64120039685,2779.76949346185,2629.53567019503,2507.45568965307,2424.93125577237,2290.37668662409,2348.09337162612,2211.54702161873,2088.74599032481,1976.85405412159,2031.28853003001,1984.85639374332,1937.23500932969,1887.37513527169,1667.65841047995,1722.92868444109,1701.22679855845,1466.95271664705,1489.82376814588,1473.3959257304,1483.16500649758,1300.69862664679,1416.36100562134,1254.46746282937,1194.16004363375,1183.86723183531,1035.97708149174,1061.02251255577,956.697353921053,897.975472110123,824.676667071696,877.320441534892,782.254905216604,847.919771856713,729.904863845437,737.446853211895,678.066758583943,642.160858814607,577.750256697426,504.231171925974,574.292663189755,517.962388452238,466.105761349273,481.722578790106,438.17110289861,502.977560134084,366.688465018793,408.113821176088,296.103313770603,292.643369928105,196.957955279766,196.520115048113,227.890863183937,231.976804750444,174.47390513967,211.518378991195,156.483364382523,117.874686316762,148.895839685597,90.4916009908962,117.424602212797,57.8658046240082,80.0761886221227,65.8932519662881,30.7839745660374,41.9492124374452,32.1484812203653,27.5706319597333,17.8169918091925,87.4910331617479]}}},{\"_typename\":\"TWebSnapshot\",\"fUniqueID\":0,\"fBits\":0,\"fObjectID\":\"\",\"fOption\":\"blNDC\",\"fKind\":1,\"fSnapshot\":{\"_typename\":\"TPaveText\",\"fUniqueID\":0,\"fBits\":9,\"fLineColor\":1,\"fLineStyle\":1,\"fLineWidth\":1,\"fFillColor\":0,\"fFillStyle\":0,\"fX1\":0.00459999758308133,\"fY1\":3.81954412383754,\"fX2\":0.353946666852583,\"fY2\":4.10422991096902,\"fX1NDC\":0.15,\"fY1NDC\":0.9329192284302,\"fX2NDC\":0.85,\"fY2NDC\":0.995000004768372,\"fBorderSize\":0,\"fInit\":1,\"fShadowColor\":1,\"fCornerRadius\":0,\"fOption\":\"blNDC\",\"fName\":\"title\",\"fTextAngle\":0,\"fTextSize\":0,\"fTextAlign\":22,\"fTextColor\":1,\"fTextFont\":42,\"fLabel\":\"\",\"fLongest\":81,\"fMargin\":0.05,\"fLines\":{\"_typename\":\"TList\",\"name\":\"TList\",\"arr\":[{\"_typename\":\"TLatex\",\"fUniqueID\":0,\"fBits\":0,\"fName\":\"\",\"fTitle\":\"Dataset 3, diagonal 0 |t| distribution after the cuts, with acceptance correction\",\"fTextAngle\":0,\"fTextSize\":0,\"fTextAlign\":0,\"fTextColor\":0,\"fTextFont\":0,\"fX\":0,\"fY\":0,\"fLineColor\":1,\"fLineStyle\":1,\"fLineWidth\":2,\"fLimitFactorSize\":3,\"fOriginSize\":0.0527686588466167}],\"opt\":[\"\"]}}}]}],\"fScripts\":\"\",\"fHighlightConnect\":false,\"fFixedSize\":false});\n",
       "   Core.settings.HandleKeys = false;\n",
       "   Core.draw(\"root_plot_1751927076710\", obj, \"\");\n",
       "}\n",
       "\n",
       "function script_load_root_plot_1751927076710(src, on_error) {\n",
       "    let script = document.createElement('script');\n",
       "    script.src = src;\n",
       "    script.onload = function() { display_root_plot_1751927076710(JSROOT); };\n",
       "    script.onerror = function() { script.remove(); on_error(); };\n",
       "    document.head.appendChild(script);\n",
       "}\n",
       "\n",
       "if (typeof requirejs !== 'undefined') {\n",
       "\n",
       "    // We are in jupyter notebooks, use require.js which should be configured already\n",
       "    requirejs.config({\n",
       "       paths: { 'JSRootCore' : [ 'build/jsroot', 'https://root.cern/js/7.8.2/build/jsroot', 'https://jsroot.gsi.de/7.8.2/build/jsroot' ] }\n",
       "    })(['JSRootCore'],  function(Core) {\n",
       "       display_root_plot_1751927076710(Core);\n",
       "    });\n",
       "\n",
       "} else if (typeof JSROOT !== 'undefined') {\n",
       "\n",
       "   // JSROOT already loaded, just use it\n",
       "   display_root_plot_1751927076710(JSROOT);\n",
       "\n",
       "} else {\n",
       "\n",
       "    // We are in jupyterlab without require.js, directly loading jsroot\n",
       "    // Jupyterlab might be installed in a different base_url so we need to know it.\n",
       "    try {\n",
       "        var base_url = JSON.parse(document.getElementById('jupyter-config-data').innerHTML).baseUrl;\n",
       "    } catch(_) {\n",
       "        var base_url = '/';\n",
       "    }\n",
       "\n",
       "    // Try loading a local version of requirejs and fallback to cdn if not possible.\n",
       "    script_load_root_plot_1751927076710(base_url + 'static/build/jsroot.js', function(){\n",
       "        console.error('Fail to load JSROOT locally, please check your jupyter_notebook_config.py file');\n",
       "        script_load_root_plot_1751927076710('https://root.cern/js/7.8.2/build/jsroot.js', function(){\n",
       "            document.getElementById(\"root_plot_1751927076710\").innerHTML = \"Failed to load JSROOT\";\n",
       "        });\n",
       "    });\n",
       "}\n",
       "\n",
       "</script>\n"
      ],
      "text/plain": [
       "<IPython.core.display.HTML object>"
      ]
     },
     "metadata": {},
     "output_type": "display_data"
    }
   ],
   "source": [
    "t_dist_canvas = ROOT.TCanvas(\"t_dist_canvas\", \"t_dist_canvas\", 1200, 600)\n",
    "\n",
    "\n",
    "t_distribution_histogram = dataset.Histo1D((f\"Dataset {dataset_number}, diagonal {diagonal_number} t_abs_dist after cuts\", \n",
    "                                            f\"Dataset {dataset_number}, diagonal {diagonal_number} |t| distribution after the cuts;|t| [GeV^2];dN [-]\", \n",
    "                                            len(binning)-1, binning), \"t_abs\")\n",
    "\n",
    "t_distribution_correction_histogram = dataset.Histo1D((f\"Dataset {dataset_number}, diagonal {diagonal_number} t_abs_dist after cuts with correction\", \n",
    "                                                       f\"Dataset {dataset_number}, diagonal {diagonal_number} |t| distribution after the cuts, with acceptance correction;|t| [GeV^2];dN [-]\", \n",
    "                                                       len(binning)-1, binning), \"t_abs\", \"correction\")\n",
    "\n",
    "t_dist_canvas.Divide(2, 1)\n",
    "\n",
    "t_dist_canvas.cd(1)\n",
    "ROOT.gPad.SetLeftMargin(0.15)  \n",
    "t_distribution_histogram.Draw()\n",
    "t_distribution_histogram.SetStats(0)\n",
    "t_distribution_histogram.GetYaxis().SetRangeUser(1, t_distribution_histogram.GetMaximum()*1.1)\n",
    "ROOT.gPad.SetLogy()  \n",
    "\n",
    "t_dist_canvas.cd(2)\n",
    "ROOT.gPad.SetLeftMargin(0.15)  \n",
    "t_distribution_correction_histogram.Draw()\n",
    "t_distribution_correction_histogram.SetStats(0)\n",
    "t_distribution_correction_histogram.GetYaxis().SetRangeUser(1, t_distribution_correction_histogram.GetMaximum()*1.1)\n",
    "ROOT.gPad.SetLogy()  \n",
    "\n",
    "t_dist_canvas.Draw()\n"
   ]
  },
  {
   "cell_type": "markdown",
   "metadata": {},
   "source": [
    "**Figure 1.** On the left, the $|t|$ distribution after the cuts specified in the article [[1]](https://iopscience.iop.org/article/10.1209/0295-5075/101/21002#epl15159s5-2), and on the right, after the cuts and the application of the acceptance correction factor.\n",
    "\n",
    "* Left plot: Raw distribution of $|t|$ after event selection cuts.At low $|t|$ (small angles), some protons fall outside the detector coverage. Therefore, the observed distribution underestimates the true number of events at small $|t|$.\n",
    "* Right plot: The same distribution corrected for acceptance, showing the effect of detector geometry and beam divergence."
   ]
  },
  {
   "cell_type": "markdown",
   "metadata": {},
   "source": [
    "By dividing the distributions by the bin width, we obtain the plots shown in Fig. 2."
   ]
  },
  {
   "cell_type": "code",
   "execution_count": 77,
   "metadata": {},
   "outputs": [
    {
     "name": "stderr",
     "output_type": "stream",
     "text": [
      "Warning in <TH1D::Sumw2>: Sum of squares of weights structure already created\n",
      "Warning in <TH1D::Sumw2>: Sum of squares of weights structure already created\n",
      "Warning in <TCanvas::Constructor>: Deleting canvas with same name: dNdt_vs_dt_canvas\n"
     ]
    },
    {
     "data": {
      "text/html": [
       "\n",
       "\n",
       "<div id=\"root_plot_1751927077060\" style=\"width: 1200px; height: 600px; position: relative\">\n",
       "</div>\n",
       "\n",
       "<script>\n",
       "\n",
       "function display_root_plot_1751927077060(Core) {\n",
       "   let obj = Core.parse({\"_typename\":\"TCanvasWebSnapshot\",\"fUniqueID\":0,\"fBits\":0,\"fObjectID\":\"\",\"fOption\":\"\",\"fKind\":3,\"fSnapshot\":{\"_typename\":\"TCanvas\",\"fUniqueID\":0,\"fBits\":3342344,\"fLineColor\":1,\"fLineStyle\":1,\"fLineWidth\":1,\"fFillColor\":0,\"fFillStyle\":1001,\"fLeftMargin\":0.1,\"fRightMargin\":0.1,\"fBottomMargin\":0.1,\"fTopMargin\":0.1,\"fXfile\":2,\"fYfile\":2,\"fAfile\":1,\"fXstat\":0.99,\"fYstat\":0.99,\"fAstat\":2,\"fFrameFillColor\":0,\"fFrameLineColor\":1,\"fFrameFillStyle\":1001,\"fFrameLineStyle\":1,\"fFrameLineWidth\":1,\"fFrameBorderSize\":1,\"fFrameBorderMode\":0,\"fX1\":0,\"fY1\":0,\"fX2\":1,\"fY2\":1,\"fXtoAbsPixelk\":0,\"fXtoPixelk\":0,\"fXtoPixel\":1196,\"fYtoAbsPixelk\":572,\"fYtoPixelk\":572,\"fYtoPixel\":-572,\"fUtoAbsPixelk\":0,\"fUtoPixelk\":0,\"fUtoPixel\":1196,\"fVtoAbsPixelk\":572,\"fVtoPixelk\":572,\"fVtoPixel\":-572,\"fAbsPixeltoXk\":0,\"fPixeltoXk\":0,\"fPixeltoX\":8.36120401337793e-4,\"fAbsPixeltoYk\":1,\"fPixeltoYk\":0,\"fPixeltoY\":-0.00174825174825175,\"fXlowNDC\":0,\"fYlowNDC\":0,\"fXUpNDC\":1,\"fYUpNDC\":1,\"fWNDC\":1,\"fHNDC\":1,\"fAbsXlowNDC\":0,\"fAbsYlowNDC\":0,\"fAbsWNDC\":1,\"fAbsHNDC\":1,\"fUxmin\":0,\"fUymin\":0,\"fUxmax\":1,\"fUymax\":1,\"fTheta\":30,\"fPhi\":30,\"fAspectRatio\":0,\"fNumber\":0,\"fTickx\":0,\"fTicky\":0,\"fLogx\":0,\"fLogy\":0,\"fLogz\":0,\"fPadPaint\":0,\"fCrosshair\":0,\"fCrosshairPos\":0,\"fBorderSize\":2,\"fBorderMode\":0,\"fModified\":false,\"fGridx\":false,\"fGridy\":false,\"fAbsCoord\":false,\"fEditable\":true,\"fFixedAspectRatio\":false,\"fPrimitives\":{\"_typename\":\"TList\",\"name\":\"TList\",\"arr\":[],\"opt\":[]},\"fExecs\":null,\"fName\":\"dNdt_vs_dt_canvas\",\"fTitle\":\"\",\"fNumPaletteColor\":0,\"fNextPaletteColor\":0,\"fDISPLAY\":\"$DISPLAY\",\"fDoubleBuffer\":0,\"fRetained\":true,\"fXsizeUser\":0,\"fYsizeUser\":0,\"fXsizeReal\":20,\"fYsizeReal\":10,\"fWindowTopX\":0,\"fWindowTopY\":0,\"fWindowWidth\":0,\"fWindowHeight\":0,\"fCw\":1196,\"fCh\":572,\"fCatt\":{\"_typename\":\"TAttCanvas\",\"fXBetween\":2,\"fYBetween\":2,\"fTitleFromTop\":1.2,\"fXdate\":0.2,\"fYdate\":0.3,\"fAdate\":1},\"kMoveOpaque\":true,\"kResizeOpaque\":true,\"fHighLightColor\":2,\"fBatch\":true,\"kShowEventStatus\":false,\"kAutoExec\":true,\"kMenuBar\":true},\"fActive\":false,\"fReadOnly\":true,\"fWithoutPrimitives\":false,\"fHasExecs\":false,\"fPrimitives\":[{\"_typename\":\"TWebSnapshot\",\"fUniqueID\":0,\"fBits\":0,\"fObjectID\":\"\",\"fOption\":\"\",\"fKind\":4,\"fSnapshot\":{\"_typename\":\"TWebPainting\",\"fUniqueID\":0,\"fBits\":0,\"fOper\":\"0:255,255,255;1:0,0,0;2:255,0,0;3:0,255,0;4:0,0,255;5:255,255,0;6:255,0,255;7:0,255,255;8:89,211,84;9:89,84,216;10:254,254,254;11:192,182,172;12:76,76,76;13:102,102,102;14:127,127,127;15:153,153,153;16:178,178,178;17:204,204,204;18:229,229,229;19:242,242,242;20:204,198,170;21:204,198,170;22:193,191,168;23:186,181,163;24:178,165,150;25:183,163,155;26:173,153,140;27:155,142,130;28:135,102,86;29:175,206,198;30:132,193,163;31:137,168,160;32:130,158,140;33:173,188,198;34:122,142,153;35:117,137,145;36:104,130,150;37:109,122,132;38:124,153,209;39:127,127,155;40:170,165,191;41:211,206,135;42:221,186,135;43:188,158,130;44:198,153,124;45:191,130,119;46:206,94,96;47:170,142,147;48:165,119,122;49:147,104,112;50:211,89,84;51:146,0,255;52:122,0,255;53:98,0,255;54:74,0,255;55:51,0,255;56:27,0,255;57:3,0,255;58:0,20,255;59:0,44,255;60:0,68,255;61:0,91,255;62:0,115,255;63:0,139,255;64:0,163,255;65:0,187,255;66:0,210,255;67:0,234,255;68:0,255,251;69:0,255,227;70:0,255,204;71:0,255,180;72:0,255,156;73:0,255,132;74:0,255,108;75:0,255,85;76:0,255,61;77:0,255,37;78:0,255,13;79:10,255,0;80:34,255,0;81:57,255,0;82:81,255,0;83:105,255,0;84:129,255,0;85:153,255,0;86:176,255,0;87:200,255,0;88:224,255,0;89:248,255,0;90:255,238,0;91:255,214,0;92:255,190,0;93:255,166,0;94:255,142,0;95:255,119,0;96:255,95,0;97:255,71,0;98:255,47,0;99:255,23,0;100:111,45,168;101:165,42,42;102:178,190,181;103:87,144,252;104:248,156,32;105:228,37,54;106:150,74,139;107:156,156,161;108:122,33,221;109:24,69,251;110:255,94,2;111:201,31,22;112:200,73,169;113:173,173,125;114:134,200,221;115:87,141,255;116:101,99,100;117:63,144,218;118:255,169,14;119:189,31,1;120:148,164,162;121:131,45,182;122:169,107,89;123:231,99,0;124:185,172,112;125:113,117,129;126:146,218,221;127:178,178,178;201:91,91,91;202:122,122,122;203:183,183,183;204:214,214,214;205:137,15,15;206:183,20,20;207:234,71,71;208:239,117,117;209:15,137,15;210:20,183,20;211:71,234,71;212:117,239,117;213:15,15,137;214:20,20,183;215:71,71,234;216:117,117,239;217:137,137,15;218:183,183,20;219:234,234,71;220:239,239,117;221:137,15,137;222:183,20,183;223:234,71,234;224:239,117,239;225:15,137,137;226:20,183,183;227:71,234,234;228:117,239,239;390:255,255,204;391:255,255,153;392:204,204,153;393:255,255,102;394:204,204,102;395:153,153,102;396:255,255,51;397:204,204,51;398:153,153,51;399:102,102,51;400:255,255,0;401:204,204,0;402:153,153,0;403:102,102,0;404:51,51,0;406:204,255,204;407:153,255,153;408:153,204,153;409:102,255,102;410:102,204,102;411:102,153,102;412:51,255,51;413:51,204,51;414:51,153,51;415:51,102,51;416:0,255,0;417:0,204,0;418:0,153,0;419:0,102,0;420:0,51,0;422:204,255,255;423:153,255,255;424:153,204,204;425:102,255,255;426:102,204,204;427:102,153,153;428:51,255,255;429:51,204,204;430:51,153,153;431:51,102,102;432:0,255,255;433:0,204,204;434:0,153,153;435:0,102,102;436:0,51,51;590:204,204,255;591:153,153,255;592:153,153,204;593:102,102,255;594:102,102,204;595:102,102,153;596:51,51,255;597:51,51,204;598:51,51,153;599:51,51,102;600:0,0,255;601:0,0,204;602:0,0,153;603:0,0,102;604:0,0,51;606:255,204,255;607:255,153,255;608:204,153,204;609:255,102,255;610:204,102,204;611:153,102,153;612:255,51,255;613:204,51,204;614:153,51,153;615:102,51,102;616:255,0,255;617:204,0,204;618:153,0,153;619:102,0,102;620:51,0,51;622:255,204,204;623:255,153,153;624:204,153,153;625:255,102,102;626:204,102,102;627:153,102,102;628:255,51,51;629:204,51,51;630:153,51,51;631:102,51,51;632:255,0,0;633:204,0,0;634:153,0,0;635:102,0,0;636:51,0,0;791:255,204,153;792:204,153,102;793:153,102,51;794:153,102,0;795:204,153,51;796:255,204,102;797:255,153,0;798:255,204,51;799:204,153,0;800:255,204,0;801:255,153,51;802:204,102,0;803:102,51,0;804:153,51,0;805:204,102,51;806:255,153,102;807:255,102,0;808:255,102,51;809:204,51,0;810:255,51,0;811:153,255,51;812:102,204,0;813:51,102,0;814:51,153,0;815:102,204,51;816:153,255,102;817:102,255,0;818:102,255,51;819:51,204,0;820:51,255,0;821:204,255,153;822:153,204,102;823:102,153,51;824:102,153,0;825:153,204,51;826:204,255,102;827:153,255,0;828:204,255,51;829:153,204,0;830:204,255,0;831:153,255,204;832:102,204,153;833:51,153,102;834:0,153,102;835:51,204,153;836:102,255,204;837:0,255,102;838:51,255,204;839:0,204,153;840:0,255,204;841:51,255,153;842:0,204,102;843:0,102,51;844:0,153,51;845:51,204,102;846:102,255,153;847:0,255,153;848:51,255,102;849:0,204,51;850:0,255,51;851:153,204,255;852:102,153,204;853:51,102,153;854:0,51,153;855:51,102,204;856:102,153,255;857:0,102,255;858:51,102,255;859:0,51,204;860:0,51,255;861:51,153,255;862:0,102,204;863:0,51,102;864:0,102,153;865:51,153,204;866:102,204,255;867:0,153,255;868:51,204,255;869:0,153,204;870:0,204,255;871:204,153,255;872:153,102,204;873:102,51,153;874:102,0,153;875:153,51,204;876:204,102,255;877:153,0,255;878:204,51,255;879:153,0,204;880:204,0,255;881:153,51,255;882:102,0,204;883:51,0,102;884:51,0,153;885:102,51,204;886:153,102,255;887:102,0,255;888:102,51,255;889:51,0,204;890:51,0,255;891:255,51,153;892:204,0,102;893:102,0,51;894:153,0,51;895:204,51,102;896:255,102,153;897:255,0,102;898:255,51,102;899:204,0,51;900:255,0,51;901:255,153,204;902:204,102,153;903:153,51,102;904:153,0,102;905:204,51,153;906:255,102,204;907:255,0,153;908:204,0,153;909:255,51,204;910:255,0,153;920:204,204,204;921:153,153,153;922:102,102,102;923:51,51,51;924:53,42,134;925:51,44,137;926:50,45,140;927:49,47,143;928:48,48,146;929:46,50,148;930:45,51,151;931:44,53,154;932:43,55,157;933:42,56,160;934:40,58,162;935:39,59,165;936:38,61,168;937:37,63,171;938:35,64,174;939:34,66,176;940:33,67,179;941:32,69,182;942:31,71,185;943:29,72,187;944:28,74,190;945:27,75,193;946:26,77,196;947:24,79,199;948:23,80,201;949:22,82,204;950:21,83,207;951:19,85,210;952:18,86,213;953:17,88,215;954:16,90,218;955:15,91,221;956:15,92,221;957:15,94,220;958:15,95,220;959:15,96,220;960:15,97,220;961:15,98,220;962:16,99,219;963:16,100,219;964:16,102,219;965:16,103,219;966:16,104,218;967:16,105,218;968:17,106,218;969:17,107,218;970:17,109,217;971:17,110,217;972:17,111,217;973:17,112,217;974:17,113,216;975:18,114,216;976:18,115,216;977:18,117,216;978:18,118,215;979:18,119,215;980:18,120,215;981:18,121,215;982:19,122,215;983:19,123,214;984:19,125,214;985:19,126,214;986:19,127,214;987:19,128,213;988:19,129,213;989:19,130,213;990:18,131,212;991:18,132,212;992:17,134,211;993:17,135,211;994:16,136,211;995:16,137,210;996:15,138,210;997:15,139,210;998:15,140,209;999:14,141,209;1000:14,142,208;1001:13,143,208;1002:13,145,208;1003:12,146,207;1004:12,147,207;1005:12,148,207;1006:11,149,206;1007:11,150,206;1008:10,151,205;1009:10,152,205;1010:9,153,205;1011:9,154,204;1012:8,155,204;1013:8,157,204;1014:8,158,203;1015:7,159,203;1016:7,160,202;1017:6,161,202;1018:6,162,202;1019:5,163,201;1020:7,164,200;1021:8,164,199;1022:9,165,198;1023:10,166,197;1024:12,166,195;1025:13,167,194;1026:14,167,193;1027:15,168,192;1028:17,169,191;1029:18,169,189;1030:19,170,188;1031:20,170,187;1032:22,171,186;1033:23,172,185;1034:24,172,184;1035:25,173,182;1036:27,173,181;1037:28,174,180;1038:29,175,179;1039:30,175,178;1040:32,176,176;1041:33,176,175;1042:34,177,174;1043:35,178,173;1044:37,178,172;1045:38,179,170;1046:39,180,169;1047:40,180,168;1048:42,181,167;1049:43,181,166;1050:44,182,165;1051:45,183,163;1052:48,183,162;1053:51,183,161;1054:54,183,159;1055:57,184,158;1056:59,184,156;1057:62,184,155;1058:65,184,154;1059:68,185,152;1060:71,185,151;1061:73,185,149;1062:76,185,148;1063:79,186,146;1064:82,186,145;1065:84,186,144;1066:87,186,142;1067:90,187,141;1068:93,187,139;1069:96,187,138;1070:98,187,137;1071:101,188,135;1072:104,188,134;1073:107,188,132;1074:110,188,131;1075:112,189,130;1076:115,189,128;1077:118,189,127;1078:121,189,125;1079:124,190,124;1080:126,190,123;1081:129,190,121;1082:132,190,120;1083:135,191,118;1084:137,190,117;1085:139,190,117;1086:142,190,116;1087:144,190,115;1088:146,190,114;1089:148,190,113;1090:151,190,112;1091:153,190,111;1092:155,189,110;1093:158,189,109;1094:160,189,108;1095:162,189,107;1096:165,189,106;1097:167,189,105;1098:169,189,104;1099:171,188,104;1100:174,188,103;1101:176,188,102;1102:178,188,101;1103:181,188,100;1104:183,188,99;1105:185,188,98;1106:188,188,97;1107:190,187,96;1108:192,187,95;1109:194,187,94;1110:197,187,93;1111:199,187,92;1112:201,187,92;1113:204,187,91;1114:206,186,90;1115:208,186,89;1116:210,187,88;1117:211,187,86;1118:212,188,85;1119:214,188,84;1120:215,188,83;1121:217,189,81;1122:218,189,80;1123:220,190,79;1124:221,190,78;1125:222,191,77;1126:224,191,75;1127:225,191,74;1128:227,192,73;1129:228,192,72;1130:229,193,70;1131:231,193,69;1132:232,194,68;1133:234,194,67;1134:235,194,66;1135:236,195,64;1136:238,195,63;1137:239,196,62;1138:241,196,61;1139:242,197,59;1140:244,197,58;1141:245,197,57;1142:246,198,56;1143:248,198,55;1144:249,199,53;1145:251,199,52;1146:252,200,51;1147:253,200,50;1148:253,202,49;1149:253,203,47;1150:253,205,46;1151:253,206,45;1152:253,208,44;1153:252,209,43;1154:252,211,42;1155:252,213,41;1156:252,214,39;1157:252,216,38;1158:252,217,37;1159:252,219,36;1160:251,220,35;1161:251,222,34;1162:251,224,33;1163:251,225,31;1164:251,227,30;1165:251,228,29;1166:250,230,28;1167:250,231,27;1168:250,233,26;1169:250,235,25;1170:250,236,23;1171:250,238,22;1172:250,239,21;1173:249,241,20;1174:249,242,19;1175:249,244,18;1176:249,246,17;1177:249,247,16;1178:249,249,14\",\"fBuf\":{\"$arr\":\"Float32\",\"len\":255,\"v\":[924,925,926,927,928,929,930,931,932,933,934,935,936,937,938,939,940,941,942,943,944,945,946,947,948,949,950,951,952,953,954,955,956,957,958,959,960,961,962,963,964,965,966,967,968,969,970,971,972,973,974,975,976,977,978,979,980,981,982,983,984,985,986,987,988,989,990,991,992,993,994,995,996,997,998,999,1000,1001,1002,1003,1004,1005,1006,1007,1008,1009,1010,1011,1012,1013,1014,1015,1016,1017,1018,1019,1020,1021,1022,1023,1024,1025,1026,1027,1028,1029,1030,1031,1032,1033,1034,1035,1036,1037,1038,1039,1040,1041,1042,1043,1044,1045,1046,1047,1048,1049,1050,1051,1052,1053,1054,1055,1056,1057,1058,1059,1060,1061,1062,1063,1064,1065,1066,1067,1068,1069,1070,1071,1072,1073,1074,1075,1076,1077,1078,1079,1080,1081,1082,1083,1084,1085,1086,1087,1088,1089,1090,1091,1092,1093,1094,1095,1096,1097,1098,1099,1100,1101,1102,1103,1104,1105,1106,1107,1108,1109,1110,1111,1112,1113,1114,1115,1116,1117,1118,1119,1120,1121,1122,1123,1124,1125,1126,1127,1128,1129,1130,1131,1132,1133,1134,1135,1136,1137,1138,1139,1140,1141,1142,1143,1144,1145,1146,1147,1148,1149,1150,1151,1152,1153,1154,1155,1156,1157,1158,1159,1160,1161,1162,1163,1164,1165,1166,1167,1168,1169,1170,1171,1172,1173,1174,1175,1176,1177,1178]}}},{\"_typename\":\"TWebSnapshot\",\"fUniqueID\":0,\"fBits\":0,\"fObjectID\":\"\",\"fOption\":\"\",\"fKind\":5,\"fSnapshot\":{\"_typename\":\"TStyle\",\"fUniqueID\":0,\"fBits\":0,\"fName\":\"Modern\",\"fTitle\":\"Modern Style\",\"fLineColor\":1,\"fLineStyle\":1,\"fLineWidth\":1,\"fFillColor\":19,\"fFillStyle\":1001,\"fMarkerColor\":1,\"fMarkerStyle\":1,\"fMarkerSize\":1,\"fTextAngle\":0,\"fTextSize\":0.05,\"fTextAlign\":11,\"fTextColor\":1,\"fTextFont\":62,\"fXaxis\":{\"_typename\":\"TAttAxis\",\"fNdivisions\":510,\"fAxisColor\":1,\"fLabelColor\":1,\"fLabelFont\":42,\"fLabelOffset\":0.005,\"fLabelSize\":0.035,\"fTickLength\":0.03,\"fTitleOffset\":1,\"fTitleSize\":0.035,\"fTitleColor\":1,\"fTitleFont\":42},\"fYaxis\":{\"_typename\":\"TAttAxis\",\"fNdivisions\":510,\"fAxisColor\":1,\"fLabelColor\":1,\"fLabelFont\":42,\"fLabelOffset\":0.005,\"fLabelSize\":0.035,\"fTickLength\":0.03,\"fTitleOffset\":0,\"fTitleSize\":0.035,\"fTitleColor\":1,\"fTitleFont\":42},\"fZaxis\":{\"_typename\":\"TAttAxis\",\"fNdivisions\":510,\"fAxisColor\":1,\"fLabelColor\":1,\"fLabelFont\":42,\"fLabelOffset\":0.005,\"fLabelSize\":0.035,\"fTickLength\":0.03,\"fTitleOffset\":1,\"fTitleSize\":0.035,\"fTitleColor\":1,\"fTitleFont\":42},\"fBarWidth\":1,\"fBarOffset\":0,\"fColorModelPS\":0,\"fDrawBorder\":0,\"fOptLogx\":0,\"fOptLogy\":0,\"fOptLogz\":0,\"fOptDate\":0,\"fOptStat\":1111,\"fOptTitle\":1,\"fOptFile\":0,\"fOptFit\":0,\"fShowEventStatus\":0,\"fShowEditor\":0,\"fShowToolBar\":0,\"fNumberContours\":20,\"fAttDate\":{\"_typename\":\"TAttText\",\"fTextAngle\":0,\"fTextSize\":0.025,\"fTextAlign\":11,\"fTextColor\":1,\"fTextFont\":62},\"fDateX\":0.01,\"fDateY\":0.01,\"fEndErrorSize\":2,\"fErrorX\":0.5,\"fFuncColor\":2,\"fFuncStyle\":1,\"fFuncWidth\":2,\"fGridColor\":0,\"fGridStyle\":3,\"fGridWidth\":1,\"fLegendBorderSize\":1,\"fLegendFillColor\":0,\"fLegendFillStyle\":1001,\"fLegendFont\":42,\"fLegendTextSize\":0,\"fHatchesLineWidth\":1,\"fHatchesSpacing\":1,\"fFrameFillColor\":0,\"fFrameLineColor\":1,\"fFrameFillStyle\":1001,\"fFrameLineStyle\":1,\"fFrameLineWidth\":1,\"fFrameBorderSize\":1,\"fFrameBorderMode\":0,\"fHistFillColor\":0,\"fHistLineColor\":602,\"fHistFillStyle\":1001,\"fHistLineStyle\":1,\"fHistLineWidth\":1,\"fHistMinimumZero\":false,\"fHistTopMargin\":0.05,\"fCanvasPreferGL\":false,\"fCanvasColor\":0,\"fCanvasBorderSize\":2,\"fCanvasBorderMode\":0,\"fCanvasDefH\":500,\"fCanvasDefW\":700,\"fCanvasDefX\":10,\"fCanvasDefY\":10,\"fPadColor\":0,\"fPadBorderSize\":2,\"fPadBorderMode\":0,\"fPadBottomMargin\":0.1,\"fPadTopMargin\":0.1,\"fPadLeftMargin\":0.1,\"fPadRightMargin\":0.1,\"fPadGridX\":false,\"fPadGridY\":false,\"fPadTickX\":0,\"fPadTickY\":0,\"fPaperSizeX\":20,\"fPaperSizeY\":26,\"fScreenFactor\":1,\"fStatColor\":0,\"fStatTextColor\":1,\"fStatBorderSize\":1,\"fStatFont\":42,\"fStatFontSize\":0,\"fStatStyle\":1001,\"fStatFormat\":\"6.4g\",\"fStatX\":0.98,\"fStatY\":0.935,\"fStatW\":0.2,\"fStatH\":0.16,\"fStripDecimals\":true,\"fTitleAlign\":23,\"fTitleColor\":0,\"fTitleTextColor\":1,\"fTitleBorderSize\":0,\"fTitleFont\":42,\"fTitleFontSize\":0.05,\"fTitleStyle\":0,\"fTitleX\":0.5,\"fTitleY\":0.995,\"fTitleW\":0,\"fTitleH\":0,\"fLegoInnerR\":0.5,\"fLineStyles\":[\"\",\"  \",\" 12 12\",\" 4 8\",\" 12 16 4 16\",\" 20 12 4 12\",\" 20 12 4 12 4 12 4 12\",\" 20 20\",\" 20 12 4 12 4 12\",\" 80 20\",\" 80 40 4 40\",\"  \",\"  \",\"  \",\"  \",\"  \",\"  \",\"  \",\"  \",\"  \",\"  \",\"  \",\"  \",\"  \",\"  \",\"  \",\"  \",\"  \",\"  \",\"  \"],\"fHeaderPS\":\"\",\"fTitlePS\":\"\",\"fFitFormat\":\"5.4g\",\"fPaintTextFormat\":\"g\",\"fLineScalePS\":3,\"fJoinLinePS\":0,\"fCapLinePS\":0,\"fTimeOffset\":788918400,\"fImageScaling\":1,\"fCandleWhiskerRange\":1,\"fCandleBoxRange\":0.5,\"fCandleScaled\":false,\"fViolinScaled\":true,\"fXAxisExpXOffset\":0,\"fXAxisExpYOffset\":0,\"fYAxisExpXOffset\":0,\"fYAxisExpYOffset\":0,\"fAxisMaxDigits\":5,\"fOrthoCamera\":false}},{\"_typename\":\"TPadWebSnapshot\",\"fUniqueID\":0,\"fBits\":0,\"fObjectID\":\"\",\"fOption\":\"\",\"fKind\":3,\"fSnapshot\":{\"_typename\":\"TPad\",\"fUniqueID\":0,\"fBits\":9,\"fLineColor\":1,\"fLineStyle\":1,\"fLineWidth\":1,\"fFillColor\":0,\"fFillStyle\":1001,\"fLeftMargin\":0.1,\"fRightMargin\":0.1,\"fBottomMargin\":0.1,\"fTopMargin\":0.1,\"fXfile\":2,\"fYfile\":2,\"fAfile\":1,\"fXstat\":0.99,\"fYstat\":0.99,\"fAstat\":2,\"fFrameFillColor\":0,\"fFrameLineColor\":1,\"fFrameFillStyle\":1001,\"fFrameLineStyle\":1,\"fFrameLineWidth\":1,\"fFrameBorderSize\":1,\"fFrameBorderMode\":0,\"fX1\":-0.0421875034859406,\"fY1\":1.84729133338611,\"fX2\":0.425687503485941,\"fY2\":7.21301463888239,\"fXtoAbsPixelk\":63.7238290949456,\"fXtoPixelk\":51.7638293622724,\"fXtoPixel\":1226.9943723862,\"fYtoAbsPixelk\":759.267519490724,\"fYtoPixelk\":753.547519618576,\"fYtoPixel\":-104.47053795739,\"fUtoAbsPixelk\":11.9599997326732,\"fUtoPixelk\":0,\"fUtoPixel\":574.080000534654,\"fVtoAbsPixelk\":566.280000127852,\"fVtoPixelk\":560.560000255704,\"fVtoPixel\":-560.560000255704,\"fAbsPixeltoXk\":-0.0519348992375722,\"fPixeltoXk\":-0.0421875034859406,\"fPixeltoX\":8.14999663001914e-4,\"fAbsPixeltoYk\":7.26776691626112,\"fPixeltoYk\":1.84729133338611,\"fPixeltoY\":-0.00957207667876528,\"fXlowNDC\":0.00999999977648258,\"fYlowNDC\":0.00999999977648258,\"fXUpNDC\":0.490000000223517,\"fYUpNDC\":0.990000000223517,\"fWNDC\":0.480000000447035,\"fHNDC\":0.980000000447035,\"fAbsXlowNDC\":0.00999999977648258,\"fAbsYlowNDC\":0.00999999977648258,\"fAbsWNDC\":0.480000000447035,\"fAbsHNDC\":0.980000000447035,\"fUxmin\":0.0046,\"fUymin\":2.38386369591794,\"fUxmax\":0.3789,\"fUymax\":6.67644227635056,\"fTheta\":30,\"fPhi\":30,\"fAspectRatio\":0,\"fNumber\":1,\"fTickx\":0,\"fTicky\":0,\"fLogx\":0,\"fLogy\":1,\"fLogz\":0,\"fPadPaint\":0,\"fCrosshair\":0,\"fCrosshairPos\":0,\"fBorderSize\":2,\"fBorderMode\":0,\"fModified\":false,\"fGridx\":false,\"fGridy\":false,\"fAbsCoord\":false,\"fEditable\":true,\"fFixedAspectRatio\":false,\"fPrimitives\":{\"_typename\":\"TList\",\"name\":\"TList\",\"arr\":[],\"opt\":[]},\"fExecs\":{\"_typename\":\"TList\",\"name\":\"TList\",\"arr\":[],\"opt\":[]},\"fName\":\"dNdt_vs_dt_canvas_1\",\"fTitle\":\"dNdt_vs_dt_canvas_1\",\"fNumPaletteColor\":0,\"fNextPaletteColor\":0},\"fActive\":false,\"fReadOnly\":true,\"fWithoutPrimitives\":false,\"fHasExecs\":true,\"fPrimitives\":[{\"_typename\":\"TWebSnapshot\",\"fUniqueID\":0,\"fBits\":0,\"fObjectID\":\"\",\"fOption\":\"\",\"fKind\":1,\"fSnapshot\":{\"_typename\":\"TFrame\",\"fUniqueID\":0,\"fBits\":8,\"fLineColor\":1,\"fLineStyle\":1,\"fLineWidth\":1,\"fFillColor\":0,\"fFillStyle\":1001,\"fX1\":0.0046,\"fY1\":2.38386369591794,\"fX2\":0.3789,\"fY2\":6.67644227635056,\"fBorderSize\":1,\"fBorderMode\":0}},{\"_typename\":\"TWebSnapshot\",\"fUniqueID\":0,\"fBits\":0,\"fObjectID\":\"\",\"fOption\":\"\",\"fKind\":1,\"fSnapshot\":{\"_typename\":\"TH1D\",\"fUniqueID\":0,\"fBits\":520,\"fName\":\"Dataset 3, diagonal 0 \",\"fTitle\":\"Dataset 3, diagonal 0 \",\"fLineColor\":602,\"fLineStyle\":1,\"fLineWidth\":1,\"fFillColor\":0,\"fFillStyle\":1001,\"fMarkerColor\":1,\"fMarkerStyle\":1,\"fMarkerSize\":1,\"fNcells\":89,\"fXaxis\":{\"_typename\":\"TAxis\",\"fUniqueID\":0,\"fBits\":0,\"fName\":\"xaxis\",\"fTitle\":\"|t| [GeV^2]\",\"fNdivisions\":510,\"fAxisColor\":1,\"fLabelColor\":1,\"fLabelFont\":42,\"fLabelOffset\":0.005,\"fLabelSize\":0.035,\"fTickLength\":0.03,\"fTitleOffset\":1,\"fTitleSize\":0.035,\"fTitleColor\":1,\"fTitleFont\":42,\"fNbins\":87,\"fXmin\":0.0046,\"fXmax\":0.3789,\"fXbins\":{\"$arr\":\"Float64\",\"len\":88,\"v\":[0.0046,0.0057,0.0073,0.009059,0.01084,0.01263,0.01445,0.01629,0.01814,0.02002,0.02192,0.02384,0.02579,0.02775,0.02974,0.03176,0.0338,0.03586,0.03795,0.04007,0.04221,0.04438,0.04658,0.04881,0.05107,0.05336,0.05569,0.05804,0.06043,0.06286,0.06532,0.06781,0.07035,0.07292,0.07554,0.07819,0.08089,0.08364,0.08643,0.08926,0.09215,0.09509,0.09808,0.1011,0.1042,0.1074,0.1106,0.1139,0.1172,0.1207,0.1241,0.1277,0.1314,0.1351,0.1389,0.1428,0.1468,0.1509,0.1551,0.1594,0.1638,0.1683,0.173,0.1778,0.1827,0.1878,0.1931,0.1985,0.2041,0.2099,0.2159,0.2221,0.2286,0.2353,0.2424,0.2497,0.2573,0.2654,0.2738,0.2827,0.2921,0.3021,0.3127,0.324,0.3361,0.3492,0.3634,0.3789]},\"fFirst\":0,\"fLast\":0,\"fBits2\":0,\"fTimeDisplay\":false,\"fTimeFormat\":\"\",\"fLabels\":null,\"fModLabs\":null},\"fYaxis\":{\"_typename\":\"TAxis\",\"fUniqueID\":0,\"fBits\":0,\"fName\":\"yaxis\",\"fTitle\":\"dN\\/dt [1\\/GeV^2]\",\"fNdivisions\":510,\"fAxisColor\":1,\"fLabelColor\":1,\"fLabelFont\":42,\"fLabelOffset\":0.005,\"fLabelSize\":0.035,\"fTickLength\":0.03,\"fTitleOffset\":0,\"fTitleSize\":0.035,\"fTitleColor\":1,\"fTitleFont\":42,\"fNbins\":1,\"fXmin\":0,\"fXmax\":1,\"fXbins\":[],\"fFirst\":0,\"fLast\":0,\"fBits2\":0,\"fTimeDisplay\":false,\"fTimeFormat\":\"\",\"fLabels\":null,\"fModLabs\":null},\"fZaxis\":{\"_typename\":\"TAxis\",\"fUniqueID\":0,\"fBits\":0,\"fName\":\"zaxis\",\"fTitle\":\"\",\"fNdivisions\":510,\"fAxisColor\":1,\"fLabelColor\":1,\"fLabelFont\":42,\"fLabelOffset\":0.005,\"fLabelSize\":0.035,\"fTickLength\":0.03,\"fTitleOffset\":1,\"fTitleSize\":0.035,\"fTitleColor\":1,\"fTitleFont\":42,\"fNbins\":1,\"fXmin\":0,\"fXmax\":1,\"fXbins\":[],\"fFirst\":0,\"fLast\":0,\"fBits2\":0,\"fTimeDisplay\":false,\"fTimeFormat\":\"\",\"fLabels\":null,\"fModLabs\":null},\"fBarOffset\":0,\"fBarWidth\":1000,\"fEntries\":38037.4069643439,\"fTsumw\":56363756.1922129,\"fTsumw2\":83519705091.1807,\"fTsumwx\":2498351.95349552,\"fTsumwx2\":194279.112637267,\"fMaximum\":-1111,\"fMinimum\":-1111,\"fNormFactor\":0,\"fContour\":[],\"fSumw2\":{\"$arr\":\"Float64\",\"len\":89,\"p\":2,\"v\":[9515504758.71592,6345307414.41583,5048048411.32117,4531766462.04729,3915504362.65445,3685456057.97309,3426658105.22257,3171150112.7821,2936675457.9489,2770889894.14228,2454522572.03647,2343358415.30413,2167804721.82675,2139596392.62061,1961362053.5134,1790626184.21029,1636405722.20432,1656560712.82656,1578075843.78494,1455545344.58066,1322567877.80369,1254864927.82019,1114068488.73663,1112759479.38043,1013449964.28067,932812838.381657,862187539.900027,851385967.733282,810626472.308985,759268151.938036,714612817.934759,605563380.249222,596812232.420048,583286172.144672,479107562.762717,470390124.090643,450592624.939259,441667727.673049,367008274.434646,383455194.354874,326790474.576083,304388023.263922,289297428.434979,237674345.556982,238642987.095223,203794706.414665,189996538.506063,153897517.320901,172964452.889049,139174229.035808,141544710.591418,122263083.10971,119896754.802289,110541539.942635,105405634.164125,95621819.8508601,83061761.3992781,94660361.0872375,82530697.0020104,72865894.7958796,70827528.8726089,62709638.6818779,73297923.8737049,49503085.2956571,54591563.8007323,38697784.3842923,35182450.6286938,23473600.0070958,22196621.465201,25866511.24166,23684519.0319109,16611501.9754202,20118339.7509063,12779378.7755779,9362408.99934857,10242746.3666285,6175873.36331037,6964107.29942239,3158333.20118582,4027005.65022156,2974264.5986327,1237071.83952665,1502461.24069624,1003804.30239102,753990.885330595,442796.390424732,2602219.36181155]},\"fOption\":\"\",\"fFunctions\":{\"_typename\":\"TList\",\"name\":\"TList\",\"arr\":[],\"opt\":[]},\"fBufferSize\":0,\"fBuffer\":[],\"fBinStatErrOpt\":0,\"fStatOverflows\":2,\"fArray\":{\"$arr\":\"Float64\",\"len\":89,\"p\":2,\"v\":[2407946.6059216,2409499.39108089,2267125.73589422,2235906.66653945,2082827.43385188,2084980.94825205,2029507.02516253,1952144.68298617,1872402.78618958,1827867.95724269,1695648.37984823,1644618.31363783,1560131.6907937,1590296.23602587,1479476.13512631,1404329.83380667,1302142.92168191,1338981.6983004,1298957.70722516,1211767.58995163,1139752.58620594,1087413.11918044,1013441.01178057,1025368.28455289,949161.81185353,888828.080989282,827135.587498574,835921.205773668,806852.192578583,778006.027843252,743061.076878617,648894.323143949,657606.368107288,641972.376814511,543315.820980386,541754.097507593,528098.898111255,524086.574734129,450068.728943527,481755.444088892,419554.335394437,395417.232991308,381892.655430745,323742.83796617,331569.535173677,289908.289066986,272113.77942731,235621.904877627,258035.423980851,217293.029226834,229167.505907221,197271.58482309,194064.961371552,173863.27143178,160540.214703652,140914.69675547,120055.040934756,133556.433299943,117718.724648235,103579.058077616,102494.165700023,91285.6464372098,102648.481660017,71899.6990232927,77002.6077690731,54833.9469945559,52257.7446300188,33958.2681516837,32753.3525080188,36756.590836119,35688.739192376,26040.8813641298,29791.3209846754,21436.0773126744,15509.8271469424,18382.2024303204,10772.8096417734,13193.7755295277,6155.93666212852,8007.6188622123,6216.34452512152,2724.24553681746,3466.87706094588,2454.08253590575,1941.59379998122,1149.48334252855,5644.58278462889]}}},{\"_typename\":\"TWebSnapshot\",\"fUniqueID\":0,\"fBits\":0,\"fObjectID\":\"\",\"fOption\":\"blNDC\",\"fKind\":1,\"fSnapshot\":{\"_typename\":\"TPaveText\",\"fUniqueID\":0,\"fBits\":9,\"fLineColor\":1,\"fLineStyle\":1,\"fLineWidth\":1,\"fFillColor\":0,\"fFillStyle\":0,\"fX1\":0.0664512998059979,\"fY1\":6.85307777951964,\"fX2\":0.317048700194002,\"fY2\":7.18618604794067,\"fX1NDC\":0.232196209827612,\"fY1NDC\":0.9329192284302,\"fX2NDC\":0.767803790172388,\"fY2NDC\":0.995000004768372,\"fBorderSize\":0,\"fInit\":1,\"fShadowColor\":1,\"fCornerRadius\":0,\"fOption\":\"blNDC\",\"fName\":\"title\",\"fTextAngle\":0,\"fTextSize\":0,\"fTextAlign\":22,\"fTextColor\":1,\"fTextFont\":42,\"fLabel\":\"\",\"fLongest\":22,\"fMargin\":0.05,\"fLines\":{\"_typename\":\"TList\",\"name\":\"TList\",\"arr\":[{\"_typename\":\"TLatex\",\"fUniqueID\":0,\"fBits\":0,\"fName\":\"\",\"fTitle\":\"Dataset 3, diagonal 0 \",\"fTextAngle\":0,\"fTextSize\":0,\"fTextAlign\":0,\"fTextColor\":0,\"fTextFont\":0,\"fX\":0,\"fY\":0,\"fLineColor\":1,\"fLineStyle\":1,\"fLineWidth\":2,\"fLimitFactorSize\":3,\"fOriginSize\":0.0527686588466167}],\"opt\":[\"\"]}}}]},{\"_typename\":\"TPadWebSnapshot\",\"fUniqueID\":0,\"fBits\":0,\"fObjectID\":\"\",\"fOption\":\"\",\"fKind\":3,\"fSnapshot\":{\"_typename\":\"TPad\",\"fUniqueID\":0,\"fBits\":9,\"fLineColor\":1,\"fLineStyle\":1,\"fLineWidth\":1,\"fFillColor\":0,\"fFillStyle\":1001,\"fLeftMargin\":0.1,\"fRightMargin\":0.1,\"fBottomMargin\":0.1,\"fTopMargin\":0.1,\"fXfile\":2,\"fYfile\":2,\"fAfile\":1,\"fXstat\":0.99,\"fYstat\":0.99,\"fAstat\":2,\"fFrameFillColor\":0,\"fFrameLineColor\":1,\"fFrameFillStyle\":1001,\"fFrameLineStyle\":1,\"fFrameLineWidth\":1,\"fFrameBorderSize\":1,\"fFrameBorderMode\":0,\"fX1\":-0.0421875034859406,\"fY1\":1.89253879855512,\"fX2\":0.425687503485941,\"fY2\":7.28431534512257,\"fXtoAbsPixelk\":661.723829094946,\"fXtoPixelk\":51.7638293622724,\"fXtoPixel\":1226.9943723862,\"fYtoAbsPixelk\":763.039183346854,\"fYtoPixelk\":757.319183474706,\"fYtoPixel\":-103.965732892356,\"fUtoAbsPixelk\":609.959999732673,\"fUtoPixelk\":0,\"fUtoPixel\":574.080000534654,\"fVtoAbsPixelk\":566.280000127852,\"fVtoPixelk\":560.560000255704,\"fVtoPixel\":-560.560000255704,\"fAbsPixeltoXk\":-0.539304697712717,\"fPixeltoXk\":-0.0421875034859406,\"fPixeltoX\":8.14999663001914e-4,\"fAbsPixeltoYk\":7.33933347189392,\"fPixeltoYk\":1.89253879855512,\"fPixeltoY\":-0.00961855384634643,\"fXlowNDC\":0.509999999776483,\"fYlowNDC\":0.00999999977648258,\"fXUpNDC\":0.990000000223517,\"fYUpNDC\":0.990000000223517,\"fWNDC\":0.480000000447035,\"fHNDC\":0.980000000447035,\"fAbsXlowNDC\":0.509999999776483,\"fAbsYlowNDC\":0.00999999977648258,\"fAbsWNDC\":0.480000000447035,\"fAbsHNDC\":0.980000000447035,\"fUxmin\":0.0046,\"fUymin\":2.43171648534936,\"fUxmax\":0.3789,\"fUymax\":6.74513765832833,\"fTheta\":30,\"fPhi\":30,\"fAspectRatio\":0,\"fNumber\":2,\"fTickx\":0,\"fTicky\":0,\"fLogx\":0,\"fLogy\":1,\"fLogz\":0,\"fPadPaint\":0,\"fCrosshair\":0,\"fCrosshairPos\":0,\"fBorderSize\":2,\"fBorderMode\":0,\"fModified\":false,\"fGridx\":false,\"fGridy\":false,\"fAbsCoord\":false,\"fEditable\":true,\"fFixedAspectRatio\":false,\"fPrimitives\":{\"_typename\":\"TList\",\"name\":\"TList\",\"arr\":[],\"opt\":[]},\"fExecs\":{\"_typename\":\"TList\",\"name\":\"TList\",\"arr\":[],\"opt\":[]},\"fName\":\"dNdt_vs_dt_canvas_2\",\"fTitle\":\"dNdt_vs_dt_canvas_2\",\"fNumPaletteColor\":0,\"fNextPaletteColor\":0},\"fActive\":false,\"fReadOnly\":true,\"fWithoutPrimitives\":false,\"fHasExecs\":true,\"fPrimitives\":[{\"_typename\":\"TWebSnapshot\",\"fUniqueID\":0,\"fBits\":0,\"fObjectID\":\"\",\"fOption\":\"\",\"fKind\":1,\"fSnapshot\":{\"_typename\":\"TFrame\",\"fUniqueID\":0,\"fBits\":8,\"fLineColor\":1,\"fLineStyle\":1,\"fLineWidth\":1,\"fFillColor\":0,\"fFillStyle\":1001,\"fX1\":0.0046,\"fY1\":2.43171648534936,\"fX2\":0.3789,\"fY2\":6.74513765832833,\"fBorderSize\":1,\"fBorderMode\":0}},{\"_typename\":\"TWebSnapshot\",\"fUniqueID\":0,\"fBits\":0,\"fObjectID\":\"\",\"fOption\":\"\",\"fKind\":1,\"fSnapshot\":{\"_typename\":\"TH1D\",\"fUniqueID\":0,\"fBits\":520,\"fName\":\"Dataset 3, diagonal 0   after unfolding\",\"fTitle\":\"Dataset 3, diagonal 0 after the unfolding\",\"fLineColor\":602,\"fLineStyle\":1,\"fLineWidth\":1,\"fFillColor\":0,\"fFillStyle\":1001,\"fMarkerColor\":1,\"fMarkerStyle\":1,\"fMarkerSize\":1,\"fNcells\":89,\"fXaxis\":{\"_typename\":\"TAxis\",\"fUniqueID\":0,\"fBits\":0,\"fName\":\"xaxis\",\"fTitle\":\"|t| [GeV^2]\",\"fNdivisions\":510,\"fAxisColor\":1,\"fLabelColor\":1,\"fLabelFont\":42,\"fLabelOffset\":0.005,\"fLabelSize\":0.035,\"fTickLength\":0.03,\"fTitleOffset\":1,\"fTitleSize\":0.035,\"fTitleColor\":1,\"fTitleFont\":42,\"fNbins\":87,\"fXmin\":0.0046,\"fXmax\":0.3789,\"fXbins\":{\"$arr\":\"Float64\",\"len\":88,\"v\":[0.0046,0.0057,0.0073,0.009059,0.01084,0.01263,0.01445,0.01629,0.01814,0.02002,0.02192,0.02384,0.02579,0.02775,0.02974,0.03176,0.0338,0.03586,0.03795,0.04007,0.04221,0.04438,0.04658,0.04881,0.05107,0.05336,0.05569,0.05804,0.06043,0.06286,0.06532,0.06781,0.07035,0.07292,0.07554,0.07819,0.08089,0.08364,0.08643,0.08926,0.09215,0.09509,0.09808,0.1011,0.1042,0.1074,0.1106,0.1139,0.1172,0.1207,0.1241,0.1277,0.1314,0.1351,0.1389,0.1428,0.1468,0.1509,0.1551,0.1594,0.1638,0.1683,0.173,0.1778,0.1827,0.1878,0.1931,0.1985,0.2041,0.2099,0.2159,0.2221,0.2286,0.2353,0.2424,0.2497,0.2573,0.2654,0.2738,0.2827,0.2921,0.3021,0.3127,0.324,0.3361,0.3492,0.3634,0.3789]},\"fFirst\":0,\"fLast\":0,\"fBits2\":0,\"fTimeDisplay\":false,\"fTimeFormat\":\"\",\"fLabels\":null,\"fModLabs\":null},\"fYaxis\":{\"_typename\":\"TAxis\",\"fUniqueID\":0,\"fBits\":0,\"fName\":\"yaxis\",\"fTitle\":\"dN\\/dt [1\\/GeV^2]\",\"fNdivisions\":510,\"fAxisColor\":1,\"fLabelColor\":1,\"fLabelFont\":42,\"fLabelOffset\":0.005,\"fLabelSize\":0.035,\"fTickLength\":0.03,\"fTitleOffset\":0,\"fTitleSize\":0.035,\"fTitleColor\":1,\"fTitleFont\":42,\"fNbins\":1,\"fXmin\":0,\"fXmax\":1,\"fXbins\":[],\"fFirst\":0,\"fLast\":0,\"fBits2\":0,\"fTimeDisplay\":false,\"fTimeFormat\":\"\",\"fLabels\":null,\"fModLabs\":null},\"fZaxis\":{\"_typename\":\"TAxis\",\"fUniqueID\":0,\"fBits\":0,\"fName\":\"zaxis\",\"fTitle\":\"\",\"fNdivisions\":510,\"fAxisColor\":1,\"fLabelColor\":1,\"fLabelFont\":42,\"fLabelOffset\":0.005,\"fLabelSize\":0.035,\"fTickLength\":0.03,\"fTitleOffset\":1,\"fTitleSize\":0.035,\"fTitleColor\":1,\"fTitleFont\":42,\"fNbins\":1,\"fXmin\":0,\"fXmax\":1,\"fXbins\":[],\"fFirst\":0,\"fLast\":0,\"fBits2\":0,\"fTimeDisplay\":false,\"fTimeFormat\":\"\",\"fLabels\":null,\"fModLabs\":null},\"fBarOffset\":0,\"fBarWidth\":1000,\"fEntries\":37925.4165791602,\"fTsumw\":65740998.1262404,\"fTsumw2\":113957320036.642,\"fTsumwx\":2902759.91764823,\"fTsumwx2\":224741.317123148,\"fMaximum\":-1111,\"fMinimum\":-1111,\"fNormFactor\":0,\"fContour\":[],\"fSumw2\":{\"$arr\":\"Float64\",\"len\":89,\"p\":2,\"v\":[13056756258.1697,8693848806.31166,6919330699.60332,6215715185.79954,5366291191.47353,5047273267.43251,4690171260.61909,4335493588.81358,4020270742.7465,3792689522.47847,3356345841.85031,3199746201.72355,2964455552.62499,2915856761.29234,2676679994.74886,2442073198.53928,2229918667.03899,2257913542.28002,2148364775.07192,1980227531.05344,1798728049.22339,1707869525.72826,1514569544.20556,1510313766.8753,1377345880.95528,1268197172.25276,1170028516.00531,1151995043.04523,1097465481.21232,1028045961.11178,964524437.429139,818741303.904033,807541524.933917,787626458.522089,647135909.726849,635331625.57048,608397082.405716,595328787.023341,494060915.870586,514736237.165236,439681172.382419,408842699.389321,387797146.552678,319159915.861532,320000261.100045,273347174.523644,254743545.485461,205875474.992482,231253703.706399,185931396.239534,189000446.232255,162979954.473585,159828102.085236,147165322.997152,139816792.108426,127176755.03181,109898214.421932,125366743.450312,109308363.873301,96271757.0484407,93476684.6304903,82900393.3781262,96573587.2230053,65234307.3158744,71780583.1321333,50758430.8245136,46061872.5766389,30700251.0752791,29003308.893096,33676291.7367875,30808588.0656127,21544651.4365246,26057805.33106,16567143.2396307,12086960.5786661,13180496.4699843,7948224.36193334,8938257.01978723,4042559.56834577,5126935.42712027,3779703.42945682,1567235.37625738,1896833.13250943,1262474.35997698,943739.070643266,551964.19480204,225287279606838]},\"fOption\":\"\",\"fFunctions\":{\"_typename\":\"TList\",\"name\":\"TList\",\"arr\":[],\"opt\":[]},\"fBufferSize\":0,\"fBuffer\":[],\"fBinStatErrOpt\":0,\"fStatOverflows\":2,\"fArray\":{\"$arr\":\"Float64\",\"len\":89,\"p\":2,\"v\":[2820603.08962669,2820301.06644225,2654185.77568511,2618466.81111928,2438236.03463529,2439832.46824253,2374222.5481853,2282402.15925154,2190617.01534827,2138321.16019245,1982662.51923173,1921608.44065089,1824244.90325657,1856314.87320343,1728157.30517204,1639835.54462724,1519893.83178422,1563060.88962863,1515426.56527033,1413235.35818191,1329028.54144164,1268450.32781592,1181508.82560278,1194424.46717292,1106391.69332378,1036246.28464973,963440.777686088,972243.651565651,938700.272580287,905186.528338123,863163.121054881,754429.70211442,764853.140553863,745904.285833,631375.858216338,629544.724956117,613576.312647854,608394.307523125,522139.704710747,558101.023852996,486606.802549333,458222.947002314,442107.834781082,375124.354654236,383914.933130111,335726.316377398,315060.285328524,272502.240532295,298338.684240047,251137.599362805,264791.287093334,227747.367613585,224047.431436198,200595.609698174,184887.718261713,162503.112440516,138088.651009608,153692.759915967,135471.492854552,119054.08439775,117742.982613595,104954.344418331,117820.601083018,82535.0360188392,88294.8110506787,62798.9915154302,59793.0286527255,38834.852362885,37439.5970482244,41939.4816511237,40703.2819043784,29656.2897838756,33904.5666215859,24406.7885864834,17622.5665517355,20852.2051025442,12221.1761222891,14947.2170349302,6964.53652646093,9035.23961438472,7007.6582647709,3066.30492409268,3895.38710871606,2752.1707422496,2172.20520290526,1283.38167860684,37137548.5454836]}}},{\"_typename\":\"TWebSnapshot\",\"fUniqueID\":0,\"fBits\":0,\"fObjectID\":\"\",\"fOption\":\"blNDC\",\"fKind\":1,\"fSnapshot\":{\"_typename\":\"TPaveText\",\"fUniqueID\":0,\"fBits\":9,\"fLineColor\":1,\"fLineStyle\":1,\"fLineWidth\":1,\"fFillColor\":0,\"fFillStyle\":0,\"fX1\":0.0279937475598416,\"fY1\":6.92263081424688,\"fX2\":0.355506252440158,\"fY2\":7.25735648809973,\"fX1NDC\":0.15,\"fY1NDC\":0.9329192284302,\"fX2NDC\":0.85,\"fY2NDC\":0.995000004768372,\"fBorderSize\":0,\"fInit\":1,\"fShadowColor\":1,\"fCornerRadius\":0,\"fOption\":\"blNDC\",\"fName\":\"title\",\"fTextAngle\":0,\"fTextSize\":0,\"fTextAlign\":22,\"fTextColor\":1,\"fTextFont\":42,\"fLabel\":\"\",\"fLongest\":41,\"fMargin\":0.05,\"fLines\":{\"_typename\":\"TList\",\"name\":\"TList\",\"arr\":[{\"_typename\":\"TLatex\",\"fUniqueID\":0,\"fBits\":0,\"fName\":\"\",\"fTitle\":\"Dataset 3, diagonal 0 after the unfolding\",\"fTextAngle\":0,\"fTextSize\":0,\"fTextAlign\":0,\"fTextColor\":0,\"fTextFont\":0,\"fX\":0,\"fY\":0,\"fLineColor\":1,\"fLineStyle\":1,\"fLineWidth\":2,\"fLimitFactorSize\":3,\"fOriginSize\":0.0527686588466167}],\"opt\":[\"\"]}}}]}],\"fScripts\":\"\",\"fHighlightConnect\":false,\"fFixedSize\":false});\n",
       "   Core.settings.HandleKeys = false;\n",
       "   Core.draw(\"root_plot_1751927077060\", obj, \"\");\n",
       "}\n",
       "\n",
       "function script_load_root_plot_1751927077060(src, on_error) {\n",
       "    let script = document.createElement('script');\n",
       "    script.src = src;\n",
       "    script.onload = function() { display_root_plot_1751927077060(JSROOT); };\n",
       "    script.onerror = function() { script.remove(); on_error(); };\n",
       "    document.head.appendChild(script);\n",
       "}\n",
       "\n",
       "if (typeof requirejs !== 'undefined') {\n",
       "\n",
       "    // We are in jupyter notebooks, use require.js which should be configured already\n",
       "    requirejs.config({\n",
       "       paths: { 'JSRootCore' : [ 'build/jsroot', 'https://root.cern/js/7.8.2/build/jsroot', 'https://jsroot.gsi.de/7.8.2/build/jsroot' ] }\n",
       "    })(['JSRootCore'],  function(Core) {\n",
       "       display_root_plot_1751927077060(Core);\n",
       "    });\n",
       "\n",
       "} else if (typeof JSROOT !== 'undefined') {\n",
       "\n",
       "   // JSROOT already loaded, just use it\n",
       "   display_root_plot_1751927077060(JSROOT);\n",
       "\n",
       "} else {\n",
       "\n",
       "    // We are in jupyterlab without require.js, directly loading jsroot\n",
       "    // Jupyterlab might be installed in a different base_url so we need to know it.\n",
       "    try {\n",
       "        var base_url = JSON.parse(document.getElementById('jupyter-config-data').innerHTML).baseUrl;\n",
       "    } catch(_) {\n",
       "        var base_url = '/';\n",
       "    }\n",
       "\n",
       "    // Try loading a local version of requirejs and fallback to cdn if not possible.\n",
       "    script_load_root_plot_1751927077060(base_url + 'static/build/jsroot.js', function(){\n",
       "        console.error('Fail to load JSROOT locally, please check your jupyter_notebook_config.py file');\n",
       "        script_load_root_plot_1751927077060('https://root.cern/js/7.8.2/build/jsroot.js', function(){\n",
       "            document.getElementById(\"root_plot_1751927077060\").innerHTML = \"Failed to load JSROOT\";\n",
       "        });\n",
       "    });\n",
       "}\n",
       "\n",
       "</script>\n"
      ],
      "text/plain": [
       "<IPython.core.display.HTML object>"
      ]
     },
     "metadata": {},
     "output_type": "display_data"
    }
   ],
   "source": [
    "dNdt_vs_dt_histogram = dataset.Histo1D(\n",
    "    (f\"Dataset {dataset_number}, diagonal {diagonal_number} \", \n",
    "     f\"Dataset {dataset_number}, diagonal {diagonal_number} ;|t| [GeV^2];dN/dt [1/GeV^2]\", \n",
    "     len(binning)-1, binning),\n",
    "    \"t_abs\", \"correction\"\n",
    ")\n",
    "\n",
    "dNdt_vs_dt_histogram.Scale(1, \"width\")\n",
    "dNdt_vs_dt_histogram.Sumw2()\n",
    "\n",
    "dNdt_vs_dt_histogram_unfolding = dNdt_vs_dt_histogram.Clone(\n",
    "    f\"Dataset {dataset_number}, diagonal {diagonal_number}   after unfolding\"\n",
    ")\n",
    "dNdt_vs_dt_histogram_unfolding.SetTitle(\n",
    "    f\"Dataset {dataset_number}, diagonal {diagonal_number} after the unfolding\"\n",
    ")\n",
    "dNdt_vs_dt_histogram_unfolding.Multiply(unfolding_correction)\n",
    "dNdt_vs_dt_histogram_unfolding.Sumw2()\n",
    "dNdt_vs_dt_histogram_unfolding.Scale(background_correction * full_efficiency_correction)\n",
    "\n",
    "\n",
    "dNdt_vs_dt_canvas = ROOT.TCanvas(\"dNdt_vs_dt_canvas\", \"\", 1200, 600)\n",
    "dNdt_vs_dt_canvas.Divide(2)\n",
    "\n",
    "\n",
    "dNdt_vs_dt_canvas.cd(1)\n",
    "dNdt_vs_dt_histogram.Draw()\n",
    "dNdt_vs_dt_histogram.SetStats(0)\n",
    "ROOT.gPad.SetLogy()  \n",
    "\n",
    "dNdt_vs_dt_canvas.cd(2)\n",
    "dNdt_vs_dt_histogram_unfolding.Draw()\n",
    "dNdt_vs_dt_histogram_unfolding.SetStats(0)\n",
    "ROOT.gPad.SetLogy()  \n",
    "\n",
    "dNdt_vs_dt_canvas.Draw()\n"
   ]
  },
  {
   "cell_type": "markdown",
   "metadata": {},
   "source": [
    "**Figure 2.** Distributions of $|t|$ after dividing by bin width before applying the unfolding correction factors (left) and after (right).\n",
    "\n",
    "This figure shows the transformation of the $|t|$ distribution from a partially corrected form into a fully unfolded and efficiency-corrected differential distribution."
   ]
  },
  {
   "cell_type": "markdown",
   "metadata": {},
   "source": [
    "## Elastic Scattering Cross-Section\n",
    "\n",
    "Finally, after dividing the corrected $dN/dt$ distribution by the integrated luminosity taken from the official TOTEM results [[1]](https://iopscience.iop.org/article/10.1209/0295-5075/101/21002#epl15159s5-2), we obtain the **differential elastic scattering cross-section** ($d\\sigma_{\\text{el}}/dt$)  shown in Fig. 3.\n",
    "\n",
    "This quantity is fitted with an exponential function:\n",
    "\n",
    "$$\\frac{d\\sigma_{\\text{el}}}{dt} = \\left. \\frac{d\\sigma_{\\text{el}}}{dt} \\right|_{t=0} e^{-B|t|}$$\n",
    "\n",
    "Here:\n",
    "- $\\left. \\frac{d\\sigma_{\\text{el}}}{dt} \\right|_{t=0}$ is the value of the differential cross-section **at zero momentum transfer** ($|t|=0$),\n",
    "- $B$ is the **slope parameter**, describing the exponential fall-off of the cross-section with $|t|$.\n",
    "\n",
    "The exponential dependence $e^{-B|t|}$ is motivated by the diffraction picture of elastic scattering: if the proton’s transverse matter distribution is approximately Gaussian in impact parameter space, the Fourier transform to momentum transfer space naturally yields an exponential fall-off in $|t|$. In this model, the slope parameter $B$ is directly related to the spatial size of the interaction region.\n",
    "\n",
    "The extrapolation to $t=0$ is essential because the **optical theorem** connects the **total cross-section** $\\sigma_{\\text{tot}}$ to the value of $d\\sigma_{\\text{el}}/dt$ at $t=0$.\n",
    "\n",
    "Since $t=0$ cannot be measured directly (detector acceptance does not extend to exactly zero scattering angle), we measure $d\\sigma_{\\text{el}}/dt$ at small $|t|$ and use the exponential fit to **extrapolate** to $t=0$ in a model-dependent but well-motivated way. This allows to access $\\sigma_{\\text{tot}}$ and compare results to other experiments and theoretical predictions."
   ]
  },
  {
   "cell_type": "code",
   "execution_count": 80,
   "metadata": {},
   "outputs": [
    {
     "name": "stdout",
     "output_type": "stream",
     "text": [
      "Dataset 3 Extrapolated value of f(0) equals: 499.03\n",
      "****************************************\n",
      "Minimizer is Minuit2 / Migrad\n",
      "Chi2                      =      61.4462\n",
      "NDf                       =           64\n",
      "Edm                       =  1.12516e-05\n",
      "NCalls                    =          101\n",
      "p0                        =      499.029   +/-   4.08345     \n",
      "p1                        =     -19.8962   +/-   0.119055    \n"
     ]
    },
    {
     "name": "stderr",
     "output_type": "stream",
     "text": [
      "Warning in <TCanvas::Constructor>: Deleting canvas with same name: dsigma_vs_dt_fit_canvas\n"
     ]
    },
    {
     "data": {
      "text/html": [
       "\n",
       "\n",
       "<div id=\"root_plot_1751927578763\" style=\"width: 800px; height: 600px; position: relative\">\n",
       "</div>\n",
       "\n",
       "<script>\n",
       "\n",
       "function display_root_plot_1751927578763(Core) {\n",
       "   let obj = Core.parse({\"_typename\":\"TCanvasWebSnapshot\",\"fUniqueID\":0,\"fBits\":0,\"fObjectID\":\"\",\"fOption\":\"\",\"fKind\":3,\"fSnapshot\":{\"_typename\":\"TCanvas\",\"fUniqueID\":0,\"fBits\":3342344,\"fLineColor\":1,\"fLineStyle\":1,\"fLineWidth\":1,\"fFillColor\":0,\"fFillStyle\":1001,\"fLeftMargin\":0.1,\"fRightMargin\":0.1,\"fBottomMargin\":0.1,\"fTopMargin\":0.1,\"fXfile\":2,\"fYfile\":2,\"fAfile\":1,\"fXstat\":0.99,\"fYstat\":0.99,\"fAstat\":2,\"fFrameFillColor\":0,\"fFrameLineColor\":1,\"fFrameFillStyle\":1001,\"fFrameLineStyle\":1,\"fFrameLineWidth\":1,\"fFrameBorderSize\":1,\"fFrameBorderMode\":0,\"fX1\":-0.0421875034859406,\"fY1\":-1.92770277841301,\"fX2\":0.425687503485941,\"fY2\":3.47105018200121,\"fXtoAbsPixelk\":71.773982953586,\"fXtoPixelk\":71.773982953586,\"fXtoPixel\":1701.30908498782,\"fYtoAbsPixelk\":367.759132277903,\"fYtoPixelk\":367.759132277903,\"fYtoPixel\":-105.950393395313,\"fUtoAbsPixelk\":0,\"fUtoPixelk\":0,\"fUtoPixel\":796,\"fVtoAbsPixelk\":572,\"fVtoPixelk\":572,\"fVtoPixel\":-572,\"fAbsPixeltoXk\":-0.0421875034859406,\"fPixeltoXk\":-0.0421875034859406,\"fPixeltoX\":5.87782672075228e-4,\"fAbsPixeltoYk\":3.47105018200121,\"fPixeltoYk\":-1.92770277841301,\"fPixeltoY\":-0.00943837930142347,\"fXlowNDC\":0,\"fYlowNDC\":0,\"fXUpNDC\":1,\"fYUpNDC\":1,\"fWNDC\":1,\"fHNDC\":1,\"fAbsXlowNDC\":0,\"fAbsYlowNDC\":0,\"fAbsWNDC\":1,\"fAbsHNDC\":1,\"fUxmin\":0.0046,\"fUymin\":-1.38782745019251,\"fUxmax\":0.3789,\"fUymax\":2.93117485378071,\"fTheta\":30,\"fPhi\":30,\"fAspectRatio\":0,\"fNumber\":0,\"fTickx\":0,\"fTicky\":0,\"fLogx\":0,\"fLogy\":1,\"fLogz\":0,\"fPadPaint\":0,\"fCrosshair\":0,\"fCrosshairPos\":0,\"fBorderSize\":2,\"fBorderMode\":0,\"fModified\":false,\"fGridx\":false,\"fGridy\":false,\"fAbsCoord\":false,\"fEditable\":true,\"fFixedAspectRatio\":false,\"fPrimitives\":{\"_typename\":\"TList\",\"name\":\"TList\",\"arr\":[],\"opt\":[]},\"fExecs\":null,\"fName\":\"dsigma_vs_dt_fit_canvas\",\"fTitle\":\"\",\"fNumPaletteColor\":0,\"fNextPaletteColor\":0,\"fDISPLAY\":\"$DISPLAY\",\"fDoubleBuffer\":0,\"fRetained\":true,\"fXsizeUser\":0,\"fYsizeUser\":0,\"fXsizeReal\":20,\"fYsizeReal\":15,\"fWindowTopX\":0,\"fWindowTopY\":0,\"fWindowWidth\":0,\"fWindowHeight\":0,\"fCw\":796,\"fCh\":572,\"fCatt\":{\"_typename\":\"TAttCanvas\",\"fXBetween\":2,\"fYBetween\":2,\"fTitleFromTop\":1.2,\"fXdate\":0.2,\"fYdate\":0.3,\"fAdate\":1},\"kMoveOpaque\":true,\"kResizeOpaque\":true,\"fHighLightColor\":2,\"fBatch\":true,\"kShowEventStatus\":false,\"kAutoExec\":true,\"kMenuBar\":true},\"fActive\":false,\"fReadOnly\":true,\"fWithoutPrimitives\":false,\"fHasExecs\":false,\"fPrimitives\":[{\"_typename\":\"TWebSnapshot\",\"fUniqueID\":0,\"fBits\":0,\"fObjectID\":\"\",\"fOption\":\"\",\"fKind\":4,\"fSnapshot\":{\"_typename\":\"TWebPainting\",\"fUniqueID\":0,\"fBits\":0,\"fOper\":\"0:255,255,255;1:0,0,0;2:255,0,0;3:0,255,0;4:0,0,255;5:255,255,0;6:255,0,255;7:0,255,255;8:89,211,84;9:89,84,216;10:254,254,254;11:192,182,172;12:76,76,76;13:102,102,102;14:127,127,127;15:153,153,153;16:178,178,178;17:204,204,204;18:229,229,229;19:242,242,242;20:204,198,170;21:204,198,170;22:193,191,168;23:186,181,163;24:178,165,150;25:183,163,155;26:173,153,140;27:155,142,130;28:135,102,86;29:175,206,198;30:132,193,163;31:137,168,160;32:130,158,140;33:173,188,198;34:122,142,153;35:117,137,145;36:104,130,150;37:109,122,132;38:124,153,209;39:127,127,155;40:170,165,191;41:211,206,135;42:221,186,135;43:188,158,130;44:198,153,124;45:191,130,119;46:206,94,96;47:170,142,147;48:165,119,122;49:147,104,112;50:211,89,84;51:146,0,255;52:122,0,255;53:98,0,255;54:74,0,255;55:51,0,255;56:27,0,255;57:3,0,255;58:0,20,255;59:0,44,255;60:0,68,255;61:0,91,255;62:0,115,255;63:0,139,255;64:0,163,255;65:0,187,255;66:0,210,255;67:0,234,255;68:0,255,251;69:0,255,227;70:0,255,204;71:0,255,180;72:0,255,156;73:0,255,132;74:0,255,108;75:0,255,85;76:0,255,61;77:0,255,37;78:0,255,13;79:10,255,0;80:34,255,0;81:57,255,0;82:81,255,0;83:105,255,0;84:129,255,0;85:153,255,0;86:176,255,0;87:200,255,0;88:224,255,0;89:248,255,0;90:255,238,0;91:255,214,0;92:255,190,0;93:255,166,0;94:255,142,0;95:255,119,0;96:255,95,0;97:255,71,0;98:255,47,0;99:255,23,0;100:111,45,168;101:165,42,42;102:178,190,181;103:87,144,252;104:248,156,32;105:228,37,54;106:150,74,139;107:156,156,161;108:122,33,221;109:24,69,251;110:255,94,2;111:201,31,22;112:200,73,169;113:173,173,125;114:134,200,221;115:87,141,255;116:101,99,100;117:63,144,218;118:255,169,14;119:189,31,1;120:148,164,162;121:131,45,182;122:169,107,89;123:231,99,0;124:185,172,112;125:113,117,129;126:146,218,221;127:178,178,178;201:91,91,91;202:122,122,122;203:183,183,183;204:214,214,214;205:137,15,15;206:183,20,20;207:234,71,71;208:239,117,117;209:15,137,15;210:20,183,20;211:71,234,71;212:117,239,117;213:15,15,137;214:20,20,183;215:71,71,234;216:117,117,239;217:137,137,15;218:183,183,20;219:234,234,71;220:239,239,117;221:137,15,137;222:183,20,183;223:234,71,234;224:239,117,239;225:15,137,137;226:20,183,183;227:71,234,234;228:117,239,239;390:255,255,204;391:255,255,153;392:204,204,153;393:255,255,102;394:204,204,102;395:153,153,102;396:255,255,51;397:204,204,51;398:153,153,51;399:102,102,51;400:255,255,0;401:204,204,0;402:153,153,0;403:102,102,0;404:51,51,0;406:204,255,204;407:153,255,153;408:153,204,153;409:102,255,102;410:102,204,102;411:102,153,102;412:51,255,51;413:51,204,51;414:51,153,51;415:51,102,51;416:0,255,0;417:0,204,0;418:0,153,0;419:0,102,0;420:0,51,0;422:204,255,255;423:153,255,255;424:153,204,204;425:102,255,255;426:102,204,204;427:102,153,153;428:51,255,255;429:51,204,204;430:51,153,153;431:51,102,102;432:0,255,255;433:0,204,204;434:0,153,153;435:0,102,102;436:0,51,51;590:204,204,255;591:153,153,255;592:153,153,204;593:102,102,255;594:102,102,204;595:102,102,153;596:51,51,255;597:51,51,204;598:51,51,153;599:51,51,102;600:0,0,255;601:0,0,204;602:0,0,153;603:0,0,102;604:0,0,51;606:255,204,255;607:255,153,255;608:204,153,204;609:255,102,255;610:204,102,204;611:153,102,153;612:255,51,255;613:204,51,204;614:153,51,153;615:102,51,102;616:255,0,255;617:204,0,204;618:153,0,153;619:102,0,102;620:51,0,51;622:255,204,204;623:255,153,153;624:204,153,153;625:255,102,102;626:204,102,102;627:153,102,102;628:255,51,51;629:204,51,51;630:153,51,51;631:102,51,51;632:255,0,0;633:204,0,0;634:153,0,0;635:102,0,0;636:51,0,0;791:255,204,153;792:204,153,102;793:153,102,51;794:153,102,0;795:204,153,51;796:255,204,102;797:255,153,0;798:255,204,51;799:204,153,0;800:255,204,0;801:255,153,51;802:204,102,0;803:102,51,0;804:153,51,0;805:204,102,51;806:255,153,102;807:255,102,0;808:255,102,51;809:204,51,0;810:255,51,0;811:153,255,51;812:102,204,0;813:51,102,0;814:51,153,0;815:102,204,51;816:153,255,102;817:102,255,0;818:102,255,51;819:51,204,0;820:51,255,0;821:204,255,153;822:153,204,102;823:102,153,51;824:102,153,0;825:153,204,51;826:204,255,102;827:153,255,0;828:204,255,51;829:153,204,0;830:204,255,0;831:153,255,204;832:102,204,153;833:51,153,102;834:0,153,102;835:51,204,153;836:102,255,204;837:0,255,102;838:51,255,204;839:0,204,153;840:0,255,204;841:51,255,153;842:0,204,102;843:0,102,51;844:0,153,51;845:51,204,102;846:102,255,153;847:0,255,153;848:51,255,102;849:0,204,51;850:0,255,51;851:153,204,255;852:102,153,204;853:51,102,153;854:0,51,153;855:51,102,204;856:102,153,255;857:0,102,255;858:51,102,255;859:0,51,204;860:0,51,255;861:51,153,255;862:0,102,204;863:0,51,102;864:0,102,153;865:51,153,204;866:102,204,255;867:0,153,255;868:51,204,255;869:0,153,204;870:0,204,255;871:204,153,255;872:153,102,204;873:102,51,153;874:102,0,153;875:153,51,204;876:204,102,255;877:153,0,255;878:204,51,255;879:153,0,204;880:204,0,255;881:153,51,255;882:102,0,204;883:51,0,102;884:51,0,153;885:102,51,204;886:153,102,255;887:102,0,255;888:102,51,255;889:51,0,204;890:51,0,255;891:255,51,153;892:204,0,102;893:102,0,51;894:153,0,51;895:204,51,102;896:255,102,153;897:255,0,102;898:255,51,102;899:204,0,51;900:255,0,51;901:255,153,204;902:204,102,153;903:153,51,102;904:153,0,102;905:204,51,153;906:255,102,204;907:255,0,153;908:204,0,153;909:255,51,204;910:255,0,153;920:204,204,204;921:153,153,153;922:102,102,102;923:51,51,51;924:53,42,134;925:51,44,137;926:50,45,140;927:49,47,143;928:48,48,146;929:46,50,148;930:45,51,151;931:44,53,154;932:43,55,157;933:42,56,160;934:40,58,162;935:39,59,165;936:38,61,168;937:37,63,171;938:35,64,174;939:34,66,176;940:33,67,179;941:32,69,182;942:31,71,185;943:29,72,187;944:28,74,190;945:27,75,193;946:26,77,196;947:24,79,199;948:23,80,201;949:22,82,204;950:21,83,207;951:19,85,210;952:18,86,213;953:17,88,215;954:16,90,218;955:15,91,221;956:15,92,221;957:15,94,220;958:15,95,220;959:15,96,220;960:15,97,220;961:15,98,220;962:16,99,219;963:16,100,219;964:16,102,219;965:16,103,219;966:16,104,218;967:16,105,218;968:17,106,218;969:17,107,218;970:17,109,217;971:17,110,217;972:17,111,217;973:17,112,217;974:17,113,216;975:18,114,216;976:18,115,216;977:18,117,216;978:18,118,215;979:18,119,215;980:18,120,215;981:18,121,215;982:19,122,215;983:19,123,214;984:19,125,214;985:19,126,214;986:19,127,214;987:19,128,213;988:19,129,213;989:19,130,213;990:18,131,212;991:18,132,212;992:17,134,211;993:17,135,211;994:16,136,211;995:16,137,210;996:15,138,210;997:15,139,210;998:15,140,209;999:14,141,209;1000:14,142,208;1001:13,143,208;1002:13,145,208;1003:12,146,207;1004:12,147,207;1005:12,148,207;1006:11,149,206;1007:11,150,206;1008:10,151,205;1009:10,152,205;1010:9,153,205;1011:9,154,204;1012:8,155,204;1013:8,157,204;1014:8,158,203;1015:7,159,203;1016:7,160,202;1017:6,161,202;1018:6,162,202;1019:5,163,201;1020:7,164,200;1021:8,164,199;1022:9,165,198;1023:10,166,197;1024:12,166,195;1025:13,167,194;1026:14,167,193;1027:15,168,192;1028:17,169,191;1029:18,169,189;1030:19,170,188;1031:20,170,187;1032:22,171,186;1033:23,172,185;1034:24,172,184;1035:25,173,182;1036:27,173,181;1037:28,174,180;1038:29,175,179;1039:30,175,178;1040:32,176,176;1041:33,176,175;1042:34,177,174;1043:35,178,173;1044:37,178,172;1045:38,179,170;1046:39,180,169;1047:40,180,168;1048:42,181,167;1049:43,181,166;1050:44,182,165;1051:45,183,163;1052:48,183,162;1053:51,183,161;1054:54,183,159;1055:57,184,158;1056:59,184,156;1057:62,184,155;1058:65,184,154;1059:68,185,152;1060:71,185,151;1061:73,185,149;1062:76,185,148;1063:79,186,146;1064:82,186,145;1065:84,186,144;1066:87,186,142;1067:90,187,141;1068:93,187,139;1069:96,187,138;1070:98,187,137;1071:101,188,135;1072:104,188,134;1073:107,188,132;1074:110,188,131;1075:112,189,130;1076:115,189,128;1077:118,189,127;1078:121,189,125;1079:124,190,124;1080:126,190,123;1081:129,190,121;1082:132,190,120;1083:135,191,118;1084:137,190,117;1085:139,190,117;1086:142,190,116;1087:144,190,115;1088:146,190,114;1089:148,190,113;1090:151,190,112;1091:153,190,111;1092:155,189,110;1093:158,189,109;1094:160,189,108;1095:162,189,107;1096:165,189,106;1097:167,189,105;1098:169,189,104;1099:171,188,104;1100:174,188,103;1101:176,188,102;1102:178,188,101;1103:181,188,100;1104:183,188,99;1105:185,188,98;1106:188,188,97;1107:190,187,96;1108:192,187,95;1109:194,187,94;1110:197,187,93;1111:199,187,92;1112:201,187,92;1113:204,187,91;1114:206,186,90;1115:208,186,89;1116:210,187,88;1117:211,187,86;1118:212,188,85;1119:214,188,84;1120:215,188,83;1121:217,189,81;1122:218,189,80;1123:220,190,79;1124:221,190,78;1125:222,191,77;1126:224,191,75;1127:225,191,74;1128:227,192,73;1129:228,192,72;1130:229,193,70;1131:231,193,69;1132:232,194,68;1133:234,194,67;1134:235,194,66;1135:236,195,64;1136:238,195,63;1137:239,196,62;1138:241,196,61;1139:242,197,59;1140:244,197,58;1141:245,197,57;1142:246,198,56;1143:248,198,55;1144:249,199,53;1145:251,199,52;1146:252,200,51;1147:253,200,50;1148:253,202,49;1149:253,203,47;1150:253,205,46;1151:253,206,45;1152:253,208,44;1153:252,209,43;1154:252,211,42;1155:252,213,41;1156:252,214,39;1157:252,216,38;1158:252,217,37;1159:252,219,36;1160:251,220,35;1161:251,222,34;1162:251,224,33;1163:251,225,31;1164:251,227,30;1165:251,228,29;1166:250,230,28;1167:250,231,27;1168:250,233,26;1169:250,235,25;1170:250,236,23;1171:250,238,22;1172:250,239,21;1173:249,241,20;1174:249,242,19;1175:249,244,18;1176:249,246,17;1177:249,247,16;1178:249,249,14\",\"fBuf\":{\"$arr\":\"Float32\",\"len\":255,\"v\":[924,925,926,927,928,929,930,931,932,933,934,935,936,937,938,939,940,941,942,943,944,945,946,947,948,949,950,951,952,953,954,955,956,957,958,959,960,961,962,963,964,965,966,967,968,969,970,971,972,973,974,975,976,977,978,979,980,981,982,983,984,985,986,987,988,989,990,991,992,993,994,995,996,997,998,999,1000,1001,1002,1003,1004,1005,1006,1007,1008,1009,1010,1011,1012,1013,1014,1015,1016,1017,1018,1019,1020,1021,1022,1023,1024,1025,1026,1027,1028,1029,1030,1031,1032,1033,1034,1035,1036,1037,1038,1039,1040,1041,1042,1043,1044,1045,1046,1047,1048,1049,1050,1051,1052,1053,1054,1055,1056,1057,1058,1059,1060,1061,1062,1063,1064,1065,1066,1067,1068,1069,1070,1071,1072,1073,1074,1075,1076,1077,1078,1079,1080,1081,1082,1083,1084,1085,1086,1087,1088,1089,1090,1091,1092,1093,1094,1095,1096,1097,1098,1099,1100,1101,1102,1103,1104,1105,1106,1107,1108,1109,1110,1111,1112,1113,1114,1115,1116,1117,1118,1119,1120,1121,1122,1123,1124,1125,1126,1127,1128,1129,1130,1131,1132,1133,1134,1135,1136,1137,1138,1139,1140,1141,1142,1143,1144,1145,1146,1147,1148,1149,1150,1151,1152,1153,1154,1155,1156,1157,1158,1159,1160,1161,1162,1163,1164,1165,1166,1167,1168,1169,1170,1171,1172,1173,1174,1175,1176,1177,1178]}}},{\"_typename\":\"TWebSnapshot\",\"fUniqueID\":0,\"fBits\":0,\"fObjectID\":\"\",\"fOption\":\"\",\"fKind\":5,\"fSnapshot\":{\"_typename\":\"TStyle\",\"fUniqueID\":0,\"fBits\":0,\"fName\":\"Modern\",\"fTitle\":\"Modern Style\",\"fLineColor\":1,\"fLineStyle\":1,\"fLineWidth\":1,\"fFillColor\":19,\"fFillStyle\":1001,\"fMarkerColor\":1,\"fMarkerStyle\":1,\"fMarkerSize\":1,\"fTextAngle\":0,\"fTextSize\":0.05,\"fTextAlign\":11,\"fTextColor\":1,\"fTextFont\":62,\"fXaxis\":{\"_typename\":\"TAttAxis\",\"fNdivisions\":510,\"fAxisColor\":1,\"fLabelColor\":1,\"fLabelFont\":42,\"fLabelOffset\":0.005,\"fLabelSize\":0.035,\"fTickLength\":0.03,\"fTitleOffset\":1,\"fTitleSize\":0.035,\"fTitleColor\":1,\"fTitleFont\":42},\"fYaxis\":{\"_typename\":\"TAttAxis\",\"fNdivisions\":510,\"fAxisColor\":1,\"fLabelColor\":1,\"fLabelFont\":42,\"fLabelOffset\":0.005,\"fLabelSize\":0.035,\"fTickLength\":0.03,\"fTitleOffset\":0,\"fTitleSize\":0.035,\"fTitleColor\":1,\"fTitleFont\":42},\"fZaxis\":{\"_typename\":\"TAttAxis\",\"fNdivisions\":510,\"fAxisColor\":1,\"fLabelColor\":1,\"fLabelFont\":42,\"fLabelOffset\":0.005,\"fLabelSize\":0.035,\"fTickLength\":0.03,\"fTitleOffset\":1,\"fTitleSize\":0.035,\"fTitleColor\":1,\"fTitleFont\":42},\"fBarWidth\":1,\"fBarOffset\":0,\"fColorModelPS\":0,\"fDrawBorder\":0,\"fOptLogx\":0,\"fOptLogy\":0,\"fOptLogz\":0,\"fOptDate\":0,\"fOptStat\":1111,\"fOptTitle\":1,\"fOptFile\":0,\"fOptFit\":0,\"fShowEventStatus\":0,\"fShowEditor\":0,\"fShowToolBar\":0,\"fNumberContours\":20,\"fAttDate\":{\"_typename\":\"TAttText\",\"fTextAngle\":0,\"fTextSize\":0.025,\"fTextAlign\":11,\"fTextColor\":1,\"fTextFont\":62},\"fDateX\":0.01,\"fDateY\":0.01,\"fEndErrorSize\":2,\"fErrorX\":0.5,\"fFuncColor\":2,\"fFuncStyle\":1,\"fFuncWidth\":2,\"fGridColor\":0,\"fGridStyle\":3,\"fGridWidth\":1,\"fLegendBorderSize\":1,\"fLegendFillColor\":0,\"fLegendFillStyle\":1001,\"fLegendFont\":42,\"fLegendTextSize\":0,\"fHatchesLineWidth\":1,\"fHatchesSpacing\":1,\"fFrameFillColor\":0,\"fFrameLineColor\":1,\"fFrameFillStyle\":1001,\"fFrameLineStyle\":1,\"fFrameLineWidth\":1,\"fFrameBorderSize\":1,\"fFrameBorderMode\":0,\"fHistFillColor\":0,\"fHistLineColor\":602,\"fHistFillStyle\":1001,\"fHistLineStyle\":1,\"fHistLineWidth\":1,\"fHistMinimumZero\":false,\"fHistTopMargin\":0.05,\"fCanvasPreferGL\":false,\"fCanvasColor\":0,\"fCanvasBorderSize\":2,\"fCanvasBorderMode\":0,\"fCanvasDefH\":500,\"fCanvasDefW\":700,\"fCanvasDefX\":10,\"fCanvasDefY\":10,\"fPadColor\":0,\"fPadBorderSize\":2,\"fPadBorderMode\":0,\"fPadBottomMargin\":0.1,\"fPadTopMargin\":0.1,\"fPadLeftMargin\":0.1,\"fPadRightMargin\":0.1,\"fPadGridX\":false,\"fPadGridY\":false,\"fPadTickX\":0,\"fPadTickY\":0,\"fPaperSizeX\":20,\"fPaperSizeY\":26,\"fScreenFactor\":1,\"fStatColor\":0,\"fStatTextColor\":1,\"fStatBorderSize\":1,\"fStatFont\":42,\"fStatFontSize\":0,\"fStatStyle\":1001,\"fStatFormat\":\"6.4g\",\"fStatX\":0.98,\"fStatY\":0.935,\"fStatW\":0.2,\"fStatH\":0.16,\"fStripDecimals\":true,\"fTitleAlign\":23,\"fTitleColor\":0,\"fTitleTextColor\":1,\"fTitleBorderSize\":0,\"fTitleFont\":42,\"fTitleFontSize\":0.05,\"fTitleStyle\":0,\"fTitleX\":0.5,\"fTitleY\":0.995,\"fTitleW\":0,\"fTitleH\":0,\"fLegoInnerR\":0.5,\"fLineStyles\":[\"\",\"  \",\" 12 12\",\" 4 8\",\" 12 16 4 16\",\" 20 12 4 12\",\" 20 12 4 12 4 12 4 12\",\" 20 20\",\" 20 12 4 12 4 12\",\" 80 20\",\" 80 40 4 40\",\"  \",\"  \",\"  \",\"  \",\"  \",\"  \",\"  \",\"  \",\"  \",\"  \",\"  \",\"  \",\"  \",\"  \",\"  \",\"  \",\"  \",\"  \",\"  \"],\"fHeaderPS\":\"\",\"fTitlePS\":\"\",\"fFitFormat\":\"5.4g\",\"fPaintTextFormat\":\"g\",\"fLineScalePS\":3,\"fJoinLinePS\":0,\"fCapLinePS\":0,\"fTimeOffset\":788918400,\"fImageScaling\":1,\"fCandleWhiskerRange\":1,\"fCandleBoxRange\":0.5,\"fCandleScaled\":false,\"fViolinScaled\":true,\"fXAxisExpXOffset\":0,\"fXAxisExpYOffset\":0,\"fYAxisExpXOffset\":0,\"fYAxisExpYOffset\":0,\"fAxisMaxDigits\":5,\"fOrthoCamera\":false}},{\"_typename\":\"TWebSnapshot\",\"fUniqueID\":0,\"fBits\":0,\"fObjectID\":\"\",\"fOption\":\"\",\"fKind\":1,\"fSnapshot\":{\"_typename\":\"TFrame\",\"fUniqueID\":0,\"fBits\":8,\"fLineColor\":1,\"fLineStyle\":1,\"fLineWidth\":1,\"fFillColor\":0,\"fFillStyle\":1001,\"fX1\":0.0046,\"fY1\":-1.38782745019251,\"fX2\":0.3789,\"fY2\":2.93117485378071,\"fBorderSize\":1,\"fBorderMode\":0}},{\"_typename\":\"TWebSnapshot\",\"fUniqueID\":0,\"fBits\":0,\"fObjectID\":\"\",\"fOption\":\"\",\"fKind\":1,\"fSnapshot\":{\"_typename\":\"TH1D\",\"fUniqueID\":0,\"fBits\":520,\"fName\":\"Dataset 3, diagonal 0   after unfolding\",\"fTitle\":\"Dataset 3, diagonal 0\",\"fLineColor\":602,\"fLineStyle\":1,\"fLineWidth\":1,\"fFillColor\":0,\"fFillStyle\":1001,\"fMarkerColor\":1,\"fMarkerStyle\":1,\"fMarkerSize\":1,\"fNcells\":89,\"fXaxis\":{\"_typename\":\"TAxis\",\"fUniqueID\":0,\"fBits\":0,\"fName\":\"xaxis\",\"fTitle\":\"|t| [GeV^2]\",\"fNdivisions\":510,\"fAxisColor\":1,\"fLabelColor\":1,\"fLabelFont\":42,\"fLabelOffset\":0.005,\"fLabelSize\":0.035,\"fTickLength\":0.03,\"fTitleOffset\":1,\"fTitleSize\":0.035,\"fTitleColor\":1,\"fTitleFont\":42,\"fNbins\":87,\"fXmin\":0.0046,\"fXmax\":0.3789,\"fXbins\":{\"$arr\":\"Float64\",\"len\":88,\"v\":[0.0046,0.0057,0.0073,0.009059,0.01084,0.01263,0.01445,0.01629,0.01814,0.02002,0.02192,0.02384,0.02579,0.02775,0.02974,0.03176,0.0338,0.03586,0.03795,0.04007,0.04221,0.04438,0.04658,0.04881,0.05107,0.05336,0.05569,0.05804,0.06043,0.06286,0.06532,0.06781,0.07035,0.07292,0.07554,0.07819,0.08089,0.08364,0.08643,0.08926,0.09215,0.09509,0.09808,0.1011,0.1042,0.1074,0.1106,0.1139,0.1172,0.1207,0.1241,0.1277,0.1314,0.1351,0.1389,0.1428,0.1468,0.1509,0.1551,0.1594,0.1638,0.1683,0.173,0.1778,0.1827,0.1878,0.1931,0.1985,0.2041,0.2099,0.2159,0.2221,0.2286,0.2353,0.2424,0.2497,0.2573,0.2654,0.2738,0.2827,0.2921,0.3021,0.3127,0.324,0.3361,0.3492,0.3634,0.3789]},\"fFirst\":0,\"fLast\":0,\"fBits2\":0,\"fTimeDisplay\":false,\"fTimeFormat\":\"\",\"fLabels\":null,\"fModLabs\":null},\"fYaxis\":{\"_typename\":\"TAxis\",\"fUniqueID\":0,\"fBits\":0,\"fName\":\"yaxis\",\"fTitle\":\"d#sigma_{el}\\/dt [mb\\/GeV^2]\",\"fNdivisions\":510,\"fAxisColor\":1,\"fLabelColor\":1,\"fLabelFont\":42,\"fLabelOffset\":0.005,\"fLabelSize\":0.035,\"fTickLength\":0.03,\"fTitleOffset\":0,\"fTitleSize\":0.035,\"fTitleColor\":1,\"fTitleFont\":42,\"fNbins\":1,\"fXmin\":0,\"fXmax\":1,\"fXbins\":[],\"fFirst\":0,\"fLast\":0,\"fBits2\":0,\"fTimeDisplay\":false,\"fTimeFormat\":\"\",\"fLabels\":null,\"fModLabs\":null},\"fZaxis\":{\"_typename\":\"TAxis\",\"fUniqueID\":0,\"fBits\":0,\"fName\":\"zaxis\",\"fTitle\":\"\",\"fNdivisions\":510,\"fAxisColor\":1,\"fLabelColor\":1,\"fLabelFont\":42,\"fLabelOffset\":0.005,\"fLabelSize\":0.035,\"fTickLength\":0.03,\"fTitleOffset\":1,\"fTitleSize\":0.035,\"fTitleColor\":1,\"fTitleFont\":42,\"fNbins\":1,\"fXmin\":0,\"fXmax\":1,\"fXbins\":[],\"fFirst\":0,\"fLast\":0,\"fBits2\":0,\"fTimeDisplay\":false,\"fTimeFormat\":\"\",\"fLabels\":null,\"fModLabs\":null},\"fBarOffset\":0,\"fBarWidth\":1000,\"fEntries\":37925.4165791602,\"fTsumw\":9960.7572918546,\"fTsumw2\":2616.10009266856,\"fTsumwx\":439.81210873458,\"fTsumwx2\":34.0517147156285,\"fMaximum\":-1111,\"fMinimum\":-1111,\"fNormFactor\":0,\"fContour\":[],\"fSumw2\":{\"$arr\":\"Float64\",\"len\":89,\"p\":2,\"v\":[299.741879204998,199.58330593002,158.845975656642,142.693186083552,123.193094386445,115.86945058385,107.671516543138,99.5292375760694,92.2927167756313,87.0681708557959,77.0510982977573,73.4560652369961,68.0545351842284,66.9388604520739,61.448117418477,56.0622864678438,51.1918885913451,51.8345624949499,49.3196688492175,45.4597688487935,41.293114077672,39.207289387701,34.7697324197787,34.6720332156863,31.6195105820772,29.1138010159036,26.8601587696353,26.4461671957123,25.1943407073536,23.6006878124835,22.1424342844155,18.7957140473837,18.5386025007786,18.0814154848965,14.8561962747211,14.5852071985877,13.9668751700118,13.6668683889656,11.3420779584616,11.8167180249136,10.0936908260427,9.3857369005813,8.90259748743521,7.32690348626106,7.34619515840325,6.27518766124068,5.84810710480857,4.72625057374843,5.30885453871439,4.2683975261601,4.3388532192896,3.74150492363602,3.66914834906419,3.37845094116512,3.20975188495008,2.91957656179544,2.52291584990662,2.87802441345987,2.50937474456613,2.21009543270066,2.14592939923072,1.90313116111401,2.21702450006899,1.49757362984101,1.64785544380471,1.16525323288599,1.05743509129107,0.704780786852137,0.66582435475427,0.773101279540575,0.707267861928667,0.494597140416084,0.598204897407255,0.380329275473616,0.277478433853676,0.302582563590089,0.182466124011326,0.205194146459762,0.092804397804081,0.117698242128564,0.086770051181286,0.0359787735596277,0.0435452968895646,0.0289824233236221,0.0216652679211034,0.0126713543342984,5171884.2884949]},\"fOption\":\"\",\"fFunctions\":{\"_typename\":\"TList\",\"name\":\"TList\",\"arr\":[{\"_typename\":\"TF1\",\"fUniqueID\":0,\"fBits\":1536,\"fName\":\"Dataset 3_fit_function\",\"fTitle\":\"[0]*exp([1]*x)\",\"fLineColor\":2,\"fLineStyle\":1,\"fLineWidth\":2,\"fFillColor\":19,\"fFillStyle\":0,\"fMarkerColor\":1,\"fMarkerStyle\":1,\"fMarkerSize\":1,\"fXmin\":0.005,\"fXmax\":0.2,\"fNpar\":2,\"fNdim\":1,\"fNpx\":100,\"fType\":0,\"fNpfits\":66,\"fNDF\":64,\"fChisquare\":61.4461800838306,\"fMinimum\":-1111,\"fMaximum\":-1111,\"fParErrors\":[4.08345215437936,0.119055281297832],\"fParMin\":[0,0],\"fParMax\":[0,0],\"fSave\":{\"$arr\":\"Float64\",\"len\":103,\"v\":[451.774877990891,434.582740361484,418.044843617677,402.136290847544,386.833132582578,372.112330743065,357.951723955489,344.329994189785,331.226634666188,318.62191898339,306.496871421496,294.833238375112,283.613460873516,272.82064814658,262.438552196627,252.451543337941,242.844586667125,233.603219428857,224.713529242998,216.16213316025,207.936157514848,200.023218543954,192.411403744562,185.089253939874,178.045746028125,171.270276387895,164.752644914933,158.483039666446,152.452022089751,146.650512813042,141.069777976883,135.701416085859,130.537345360571,125.569791570956,120.791276332605,116.194605848454,111.772860078912,107.519382324118,103.427769202633,99.4918610114961,95.7057324531261,92.0636837151029,88.5602318894082,85.1901027182028,81.948222653716,78.8297112202929,75.8298736671013,72.9441939004375,70.1683276849908,67.4980961038316,64.9294792672766,62.4586102611624,60.0817693254142,57.795378254148,55.5959950088739,53.4803085366933,51.4451337856871,49.4874069099918,47.6041806573444,45.7926199321535,44.0499975274155,42.3736900190516,40.7611738164839,39.2100213635065,37.7178974837299,36.2825558650992,34.9018356781923,33.5736583232077,32.2960243007447,31.0670102016644,29.8847658115017,28.7475113250663,27.6535346670428,26.6011889145529,25.5888898178022,24.6151134150775,23.6783937385044,22.7773206071121,21.9105375038814,21.0767395335822,20.2746714583232,19.5031258078598,18.7609410618122,18.0469999010592,17.3602275256746,16.6995900368738,16.0640928805348,15.4527793499509,14.86472914556,14.2990569894835,13.7549112927879,13.2314728734638,12.7279537231915,12.2435958210369,11.7776699922918,11.3294748107411,10.8983355427026,10.4836031312528,10.0846532191061,9.70088520867853,9.33172135792089,0.005,0.2]},\"fNormalized\":false,\"fNormIntegral\":0,\"fFormula\":{\"_typename\":\"TFormula\",\"fUniqueID\":0,\"fBits\":1024,\"fName\":\"Dataset 3_fit_function\",\"fTitle\":\"[0]*exp([1]*x)\",\"fClingParameters\":[499.029463614378,-19.8962282219421],\"fAllParametersSetted\":true,\"fParams\":[{\"$pair\":\"pair<TString,int,TFormulaParamOrder>\",\"first\":\"p0\",\"second\":0},{\"$pair\":\"pair<TString,int,TFormulaParamOrder>\",\"first\":\"p1\",\"second\":1}],\"fFormula\":\"[p0]*exp([p1]*x)\",\"fNdim\":1,\"fNumber\":0,\"fLinearParts\":[],\"fVectorized\":false},\"fParams\":null,\"fComposition\":null}],\"opt\":[\"\"]},\"fBufferSize\":0,\"fBuffer\":[],\"fBinStatErrOpt\":0,\"fStatOverflows\":2,\"fArray\":{\"$arr\":\"Float64\",\"len\":89,\"p\":2,\"v\":[427.364104488892,427.318343400341,402.149359952289,396.737395624133,369.429702217468,369.671586097353,359.730689118985,345.818508977506,331.911668992162,323.988054574613,300.403412004808,291.152794038013,276.400742917662,281.259829273246,261.842015935158,248.459931004127,230.286944209731,236.82740751949,229.61008564702,214.126569421501,201.367960824491,192.189443608472,179.016488727693,180.973404117108,167.635105049058,157.007012825716,145.975875406983,147.309644176614,142.227314027316,137.149473990625,130.782291068921,114.307530623397,115.886839477858,113.015800883788,95.6630088206573,95.3855643872905,92.9661079769476,92.1809556853219,79.1120764713253,84.5607611898479,73.7283034165657,69.4277192427749,66.9860355728913,56.83702343246,58.168929262138,50.8676236935451,47.7364068679581,41.288218262469,45.2028309454617,38.0511514186069,40.1198919838386,34.5071769111492,33.946580520636,30.393274196693,28.0132906457141,24.6216837031085,20.9225228802436,23.2867818054496,20.5259837658412,18.0384976360227,17.8398458505447,15.9021733967168,17.8516062246997,12.5053084877029,13.3780016743453,9.51499871445912,9.05954979586749,5.88406853983105,5.67266621942794,6.35446691683692,6.16716392490582,4.49337723998115,5.13705554872514,3.69799827067931,2.67008584117204,3.159425015537,1.85169335186199,2.2647298537773,1.05523280703954,1.3689756991492,1.06176640375317,0.464591655165558,0.590210167987281,0.416995567007515,0.329122000440191,0.194451769485885,5626.90129477024]}}},{\"_typename\":\"TWebSnapshot\",\"fUniqueID\":0,\"fBits\":0,\"fObjectID\":\"\",\"fOption\":\"same;prefer_saved\",\"fKind\":1,\"fSnapshot\":{\"_typename\":\"TF1\",\"fUniqueID\":0,\"fBits\":8,\"fName\":\"Dataset 3_fit_function\",\"fTitle\":\"[0]*exp([1]*x)\",\"fLineColor\":2,\"fLineStyle\":1,\"fLineWidth\":2,\"fFillColor\":19,\"fFillStyle\":0,\"fMarkerColor\":1,\"fMarkerStyle\":1,\"fMarkerSize\":1,\"fXmin\":0.005,\"fXmax\":0.2,\"fNpar\":2,\"fNdim\":1,\"fNpx\":100,\"fType\":0,\"fNpfits\":66,\"fNDF\":64,\"fChisquare\":61.4461800838306,\"fMinimum\":-1111,\"fMaximum\":-1111,\"fParErrors\":[4.08345215437936,0.119055281297832],\"fParMin\":[0,0],\"fParMax\":[0,0],\"fSave\":{\"$arr\":\"Float64\",\"len\":102,\"v\":[443.095434984109,426.233590573711,410.013417854043,394.410498229565,379.401342345997,364.963354728355,351.07479976469,337.714768984287,324.863149581098,312.500594134991,300.608491485254,289.168938712497,278.16471418677,267.57925164133,257.396615233016,247.601475551702,238.17908654269,229.115263307325,220.39636074839,212.009253028153,203.941313808121,196.180397240773,188.714819684637,181.533342115199,174.625153205161,167.979853048564,161.587437504297,155.438283135397,149.523132721486,143.833081322524,138.359562872903,133.094337285695,128.029478047647,123.157360286241,118.470649290863,113.962289470788,109.625493733368,105.453733266436,101.440727709522,97.5804356991188,93.8670457737265,90.2949676250158,86.8588236819182,83.5534410149829,80.3738435488107,77.3152445708405,74.3730395252118,71.5427990808538,68.8202624633665,66.2013310406549,63.6820621526584,61.2586631758897,58.927485813844,56.6850206046853,54.527891637941,52.4528514722509,50.4567762465188,48.5366609771084,46.6896150340024,44.9128577891147,43.2037144302049,41.5596119340926,39.9780751931097,38.4567232889594,36.9932659083719,35.5854998951613,34.2313059334926,32.9286453573665,31.6755570815169,30.4701546491034,29.3106233917517,28.1952176976687,27.1222583837177,26.0901301674989,25.0972792356288,24.1422109045577,23.2234873704048,22.3397255444211,21.4895949708246,20.6718158238707,19.8851569811431,19.1284341701658,18.4005081855449,17.7002831739556,17.0267049843949,16.3787595812135,15.7554715175402,15.155902466799,14.5791498101089,14.0243452774404,13.490653640481,12.9772714552448,12.4834258525302,12.0083733744074,11.5513988549825,11.1118143437538,10.6889580699393,10.2821934462166,9.89090811037481,9.5145130034366,0.005975,0.199025]},\"fNormalized\":false,\"fNormIntegral\":0,\"fFormula\":{\"_typename\":\"TFormula\",\"fUniqueID\":0,\"fBits\":1024,\"fName\":\"Dataset 3_fit_function\",\"fTitle\":\"[0]*exp([1]*x)\",\"fClingParameters\":[499.029463614378,-19.8962282219421],\"fAllParametersSetted\":true,\"fParams\":[{\"$pair\":\"pair<TString,int,TFormulaParamOrder>\",\"first\":\"p0\",\"second\":0},{\"$pair\":\"pair<TString,int,TFormulaParamOrder>\",\"first\":\"p1\",\"second\":1}],\"fFormula\":\"[p0]*exp([p1]*x)\",\"fNdim\":1,\"fNumber\":0,\"fLinearParts\":[],\"fVectorized\":false},\"fParams\":null,\"fComposition\":null}},{\"_typename\":\"TWebSnapshot\",\"fUniqueID\":0,\"fBits\":0,\"fObjectID\":\"\",\"fOption\":\"blNDC\",\"fKind\":1,\"fSnapshot\":{\"_typename\":\"TPaveText\",\"fUniqueID\":0,\"fBits\":9,\"fLineColor\":1,\"fLineStyle\":1,\"fLineWidth\":1,\"fFillColor\":0,\"fFillStyle\":0,\"fX1\":0.102430545151448,\"fY1\":3.11560084325287,\"fX2\":0.281069454848552,\"fY2\":3.4440564429424,\"fX1NDC\":0.309095477386935,\"fY1NDC\":0.934160843929211,\"fX2NDC\":0.690904522613065,\"fY2NDC\":0.995000004768372,\"fBorderSize\":0,\"fInit\":1,\"fShadowColor\":1,\"fCornerRadius\":0,\"fOption\":\"blNDC\",\"fName\":\"title\",\"fTextAngle\":0,\"fTextSize\":0,\"fTextAlign\":22,\"fTextColor\":1,\"fTextFont\":42,\"fLabel\":\"\",\"fLongest\":21,\"fMargin\":0.05,\"fLines\":{\"_typename\":\"TList\",\"name\":\"TList\",\"arr\":[{\"_typename\":\"TLatex\",\"fUniqueID\":0,\"fBits\":0,\"fName\":\"\",\"fTitle\":\"Dataset 3, diagonal 0\",\"fTextAngle\":0,\"fTextSize\":0,\"fTextAlign\":0,\"fTextColor\":0,\"fTextFont\":0,\"fX\":0,\"fY\":0,\"fLineColor\":1,\"fLineStyle\":1,\"fLineWidth\":2,\"fLimitFactorSize\":3,\"fOriginSize\":0.0517132878303528}],\"opt\":[\"\"]}}}],\"fScripts\":\"\",\"fHighlightConnect\":false,\"fFixedSize\":false});\n",
       "   Core.settings.HandleKeys = false;\n",
       "   Core.draw(\"root_plot_1751927578763\", obj, \"\");\n",
       "}\n",
       "\n",
       "function script_load_root_plot_1751927578763(src, on_error) {\n",
       "    let script = document.createElement('script');\n",
       "    script.src = src;\n",
       "    script.onload = function() { display_root_plot_1751927578763(JSROOT); };\n",
       "    script.onerror = function() { script.remove(); on_error(); };\n",
       "    document.head.appendChild(script);\n",
       "}\n",
       "\n",
       "if (typeof requirejs !== 'undefined') {\n",
       "\n",
       "    // We are in jupyter notebooks, use require.js which should be configured already\n",
       "    requirejs.config({\n",
       "       paths: { 'JSRootCore' : [ 'build/jsroot', 'https://root.cern/js/7.8.2/build/jsroot', 'https://jsroot.gsi.de/7.8.2/build/jsroot' ] }\n",
       "    })(['JSRootCore'],  function(Core) {\n",
       "       display_root_plot_1751927578763(Core);\n",
       "    });\n",
       "\n",
       "} else if (typeof JSROOT !== 'undefined') {\n",
       "\n",
       "   // JSROOT already loaded, just use it\n",
       "   display_root_plot_1751927578763(JSROOT);\n",
       "\n",
       "} else {\n",
       "\n",
       "    // We are in jupyterlab without require.js, directly loading jsroot\n",
       "    // Jupyterlab might be installed in a different base_url so we need to know it.\n",
       "    try {\n",
       "        var base_url = JSON.parse(document.getElementById('jupyter-config-data').innerHTML).baseUrl;\n",
       "    } catch(_) {\n",
       "        var base_url = '/';\n",
       "    }\n",
       "\n",
       "    // Try loading a local version of requirejs and fallback to cdn if not possible.\n",
       "    script_load_root_plot_1751927578763(base_url + 'static/build/jsroot.js', function(){\n",
       "        console.error('Fail to load JSROOT locally, please check your jupyter_notebook_config.py file');\n",
       "        script_load_root_plot_1751927578763('https://root.cern/js/7.8.2/build/jsroot.js', function(){\n",
       "            document.getElementById(\"root_plot_1751927578763\").innerHTML = \"Failed to load JSROOT\";\n",
       "        });\n",
       "    });\n",
       "}\n",
       "\n",
       "</script>\n"
      ],
      "text/plain": [
       "<IPython.core.display.HTML object>"
      ]
     },
     "metadata": {},
     "output_type": "display_data"
    }
   ],
   "source": [
    "\n",
    "dsigma_vs_dt_histogram = dNdt_vs_dt_histogram_unfolding.Clone()\n",
    "dsigma_vs_dt_histogram.SetTitle(f\"Dataset {dataset_number}, diagonal {diagonal_number};|t| [GeV^{2}];d#sigma_{{el}}/dt [mb/GeV^{2}]\")\n",
    "dsigma_vs_dt_histogram.Scale(1 / integrated_luminosity_mb)\n",
    "\n",
    "\n",
    "dsigma_vs_dt_fit_canvas = ROOT.TCanvas(\"dsigma_vs_dt_fit_canvas\", \"\", 800, 600)\n",
    "\n",
    "\n",
    "fit_low_x_GeV2 = 0.005  # values in the article: 0.005 or 0.02\n",
    "fit_high_x_GeV2 = 0.2   # values in the article: 0.1 or 0.2\n",
    "\n",
    "\n",
    "fit_function = ROOT.TF1(f\"Dataset {dataset_number}_fit_function\", \"[0]*exp([1]*x)\", fit_low_x_GeV2, fit_high_x_GeV2)\n",
    "dsigma_vs_dt_histogram.Fit(fit_function, \"0R\")# TODO explain why 0R is needed\n",
    "\n",
    "\n",
    "dsigma_vs_dt_histogram.Draw()\n",
    "fit_function.Draw(\"same\")\n",
    "\n",
    "dsigma_vs_dt_fit_canvas.SetLogy()\n",
    "dsigma_vs_dt_fit_canvas.Draw()\n",
    "\n",
    "\n",
    "print(f\"Dataset {dataset_number} Extrapolated value of f(0) equals: {fit_function(0.0):.2f}\")\n"
   ]
  },
  {
   "cell_type": "markdown",
   "metadata": {},
   "source": [
    "**Figure 3.** The differential proton-proton elastic scattering cross section with fitted exponential function and results of the fit. \n",
    "\n",
    "Extrapolated value at $t = 0$:\n",
    "* f(0) = 499.03 ± 4.08 $mb/GeV^2$\n",
    "This is the differential elastic cross-section at zero momentum transfer.\n",
    "It cannot be measured directly because the detectors do not have acceptance exactly at $t=0$, so it is obtained by extrapolating the exponential fit. This value is a key input to the optical theorem for determining the total cross-section $\\sigma{\\text{tot}}$.\n",
    "\n",
    "Slope parameter:\n",
    "* B = 19.896 ± 0.119 $\\mathrm{GeV}^{-2}$ from $p1 = -19.896$\n",
    "The slope $B$ describes how steeply the cross-section falls with $|t|$ in the low-$t$ region. Larger $B$ means a slower fall-off, corresponding to a larger effective interaction radius in the proton-proton system."
   ]
  },
  {
   "cell_type": "code",
   "execution_count": 79,
   "metadata": {},
   "outputs": [],
   "source": [
    "with ROOT.TFile(f\"dsigma_dt.root\", \"UPDATE\") as file:\n",
    "    file.Delete(f\"dataset{dataset_number}_diagonal{diagonal_number};1\") # delete previous plot if exists\n",
    "    dsigma_vs_dt_histogram.Write(f\"dataset{dataset_number}_diagonal{diagonal_number}\")"
   ]
  }
 ],
 "metadata": {
  "@webio": {
   "lastCommId": null,
   "lastKernelId": null
  },
  "kernelspec": {
   "display_name": "Python 3",
   "language": "python",
   "name": "python3"
  },
  "language_info": {
   "codemirror_mode": {
    "name": "ipython",
    "version": 3
   },
   "file_extension": ".py",
   "mimetype": "text/x-python",
   "name": "python",
   "nbconvert_exporter": "python",
   "pygments_lexer": "ipython3",
   "version": "3.13.3"
  }
 },
 "nbformat": 4,
 "nbformat_minor": 2
}
